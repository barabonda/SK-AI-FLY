{
  "nbformat": 4,
  "nbformat_minor": 0,
  "metadata": {
    "colab": {
      "provenance": [],
      "authorship_tag": "ABX9TyOKgXazIxa4mVxrZVs3mEjq",
      "include_colab_link": true
    },
    "kernelspec": {
      "name": "python3",
      "display_name": "Python 3"
    },
    "language_info": {
      "name": "python"
    }
  },
  "cells": [
    {
      "cell_type": "markdown",
      "metadata": {
        "id": "view-in-github",
        "colab_type": "text"
      },
      "source": [
        "<a href=\"https://colab.research.google.com/github/barabonda/SK-AI-FLY/blob/main/7%EC%A3%BC%EC%B0%A8/LangChain_04_Splitters.ipynb\" target=\"_parent\"><img src=\"https://colab.research.google.com/assets/colab-badge.svg\" alt=\"Open In Colab\"/></a>"
      ]
    },
    {
      "cell_type": "code",
      "execution_count": 2,
      "metadata": {
        "colab": {
          "base_uri": "https://localhost:8080/"
        },
        "id": "bkRC9h2ltD5I",
        "outputId": "ce7bb5d3-8cd6-4658-b235-bf4ab59d7f3d"
      },
      "outputs": [
        {
          "output_type": "stream",
          "name": "stdout",
          "text": [
            "Collecting langchain\n",
            "  Downloading langchain-0.1.4-py3-none-any.whl (803 kB)\n",
            "\u001b[?25l     \u001b[90m━━━━━━━━━━━━━━━━━━━━━━━━━━━━━━━━━━━━━━━━\u001b[0m \u001b[32m0.0/803.6 kB\u001b[0m \u001b[31m?\u001b[0m eta \u001b[36m-:--:--\u001b[0m\r\u001b[2K     \u001b[91m━━━━━━━━\u001b[0m\u001b[90m╺\u001b[0m\u001b[90m━━━━━━━━━━━━━━━━━━━━━━━━━━━━━━━\u001b[0m \u001b[32m163.8/803.6 kB\u001b[0m \u001b[31m4.7 MB/s\u001b[0m eta \u001b[36m0:00:01\u001b[0m\r\u001b[2K     \u001b[90m━━━━━━━━━━━━━━━━━━━━━━━━━━━━━━━━━━━━━━━━\u001b[0m \u001b[32m803.6/803.6 kB\u001b[0m \u001b[31m12.5 MB/s\u001b[0m eta \u001b[36m0:00:00\u001b[0m\n",
            "\u001b[?25hRequirement already satisfied: PyYAML>=5.3 in /usr/local/lib/python3.10/dist-packages (from langchain) (6.0.1)\n",
            "Requirement already satisfied: SQLAlchemy<3,>=1.4 in /usr/local/lib/python3.10/dist-packages (from langchain) (2.0.24)\n",
            "Requirement already satisfied: aiohttp<4.0.0,>=3.8.3 in /usr/local/lib/python3.10/dist-packages (from langchain) (3.9.1)\n",
            "Requirement already satisfied: async-timeout<5.0.0,>=4.0.0 in /usr/local/lib/python3.10/dist-packages (from langchain) (4.0.3)\n",
            "Collecting dataclasses-json<0.7,>=0.5.7 (from langchain)\n",
            "  Downloading dataclasses_json-0.6.3-py3-none-any.whl (28 kB)\n",
            "Collecting jsonpatch<2.0,>=1.33 (from langchain)\n",
            "  Downloading jsonpatch-1.33-py2.py3-none-any.whl (12 kB)\n",
            "Collecting langchain-community<0.1,>=0.0.14 (from langchain)\n",
            "  Downloading langchain_community-0.0.16-py3-none-any.whl (1.6 MB)\n",
            "\u001b[2K     \u001b[90m━━━━━━━━━━━━━━━━━━━━━━━━━━━━━━━━━━━━━━━━\u001b[0m \u001b[32m1.6/1.6 MB\u001b[0m \u001b[31m49.2 MB/s\u001b[0m eta \u001b[36m0:00:00\u001b[0m\n",
            "\u001b[?25hCollecting langchain-core<0.2,>=0.1.16 (from langchain)\n",
            "  Downloading langchain_core-0.1.17-py3-none-any.whl (235 kB)\n",
            "\u001b[2K     \u001b[90m━━━━━━━━━━━━━━━━━━━━━━━━━━━━━━━━━━━━━━━━\u001b[0m \u001b[32m235.9/235.9 kB\u001b[0m \u001b[31m25.4 MB/s\u001b[0m eta \u001b[36m0:00:00\u001b[0m\n",
            "\u001b[?25hCollecting langsmith<0.1,>=0.0.83 (from langchain)\n",
            "  Downloading langsmith-0.0.84-py3-none-any.whl (53 kB)\n",
            "\u001b[2K     \u001b[90m━━━━━━━━━━━━━━━━━━━━━━━━━━━━━━━━━━━━━━━━\u001b[0m \u001b[32m54.0/54.0 kB\u001b[0m \u001b[31m7.5 MB/s\u001b[0m eta \u001b[36m0:00:00\u001b[0m\n",
            "\u001b[?25hRequirement already satisfied: numpy<2,>=1 in /usr/local/lib/python3.10/dist-packages (from langchain) (1.23.5)\n",
            "Requirement already satisfied: pydantic<3,>=1 in /usr/local/lib/python3.10/dist-packages (from langchain) (1.10.14)\n",
            "Requirement already satisfied: requests<3,>=2 in /usr/local/lib/python3.10/dist-packages (from langchain) (2.31.0)\n",
            "Requirement already satisfied: tenacity<9.0.0,>=8.1.0 in /usr/local/lib/python3.10/dist-packages (from langchain) (8.2.3)\n",
            "Requirement already satisfied: attrs>=17.3.0 in /usr/local/lib/python3.10/dist-packages (from aiohttp<4.0.0,>=3.8.3->langchain) (23.2.0)\n",
            "Requirement already satisfied: multidict<7.0,>=4.5 in /usr/local/lib/python3.10/dist-packages (from aiohttp<4.0.0,>=3.8.3->langchain) (6.0.4)\n",
            "Requirement already satisfied: yarl<2.0,>=1.0 in /usr/local/lib/python3.10/dist-packages (from aiohttp<4.0.0,>=3.8.3->langchain) (1.9.4)\n",
            "Requirement already satisfied: frozenlist>=1.1.1 in /usr/local/lib/python3.10/dist-packages (from aiohttp<4.0.0,>=3.8.3->langchain) (1.4.1)\n",
            "Requirement already satisfied: aiosignal>=1.1.2 in /usr/local/lib/python3.10/dist-packages (from aiohttp<4.0.0,>=3.8.3->langchain) (1.3.1)\n",
            "Collecting marshmallow<4.0.0,>=3.18.0 (from dataclasses-json<0.7,>=0.5.7->langchain)\n",
            "  Downloading marshmallow-3.20.2-py3-none-any.whl (49 kB)\n",
            "\u001b[2K     \u001b[90m━━━━━━━━━━━━━━━━━━━━━━━━━━━━━━━━━━━━━━━━\u001b[0m \u001b[32m49.4/49.4 kB\u001b[0m \u001b[31m5.8 MB/s\u001b[0m eta \u001b[36m0:00:00\u001b[0m\n",
            "\u001b[?25hCollecting typing-inspect<1,>=0.4.0 (from dataclasses-json<0.7,>=0.5.7->langchain)\n",
            "  Downloading typing_inspect-0.9.0-py3-none-any.whl (8.8 kB)\n",
            "Collecting jsonpointer>=1.9 (from jsonpatch<2.0,>=1.33->langchain)\n",
            "  Downloading jsonpointer-2.4-py2.py3-none-any.whl (7.8 kB)\n",
            "Requirement already satisfied: anyio<5,>=3 in /usr/local/lib/python3.10/dist-packages (from langchain-core<0.2,>=0.1.16->langchain) (3.7.1)\n",
            "Requirement already satisfied: packaging<24.0,>=23.2 in /usr/local/lib/python3.10/dist-packages (from langchain-core<0.2,>=0.1.16->langchain) (23.2)\n",
            "Requirement already satisfied: typing-extensions>=4.2.0 in /usr/local/lib/python3.10/dist-packages (from pydantic<3,>=1->langchain) (4.5.0)\n",
            "Requirement already satisfied: charset-normalizer<4,>=2 in /usr/local/lib/python3.10/dist-packages (from requests<3,>=2->langchain) (3.3.2)\n",
            "Requirement already satisfied: idna<4,>=2.5 in /usr/local/lib/python3.10/dist-packages (from requests<3,>=2->langchain) (3.6)\n",
            "Requirement already satisfied: urllib3<3,>=1.21.1 in /usr/local/lib/python3.10/dist-packages (from requests<3,>=2->langchain) (2.0.7)\n",
            "Requirement already satisfied: certifi>=2017.4.17 in /usr/local/lib/python3.10/dist-packages (from requests<3,>=2->langchain) (2023.11.17)\n",
            "Requirement already satisfied: greenlet!=0.4.17 in /usr/local/lib/python3.10/dist-packages (from SQLAlchemy<3,>=1.4->langchain) (3.0.3)\n",
            "Requirement already satisfied: sniffio>=1.1 in /usr/local/lib/python3.10/dist-packages (from anyio<5,>=3->langchain-core<0.2,>=0.1.16->langchain) (1.3.0)\n",
            "Requirement already satisfied: exceptiongroup in /usr/local/lib/python3.10/dist-packages (from anyio<5,>=3->langchain-core<0.2,>=0.1.16->langchain) (1.2.0)\n",
            "Collecting mypy-extensions>=0.3.0 (from typing-inspect<1,>=0.4.0->dataclasses-json<0.7,>=0.5.7->langchain)\n",
            "  Downloading mypy_extensions-1.0.0-py3-none-any.whl (4.7 kB)\n",
            "Installing collected packages: mypy-extensions, marshmallow, jsonpointer, typing-inspect, langsmith, jsonpatch, langchain-core, dataclasses-json, langchain-community, langchain\n",
            "Successfully installed dataclasses-json-0.6.3 jsonpatch-1.33 jsonpointer-2.4 langchain-0.1.4 langchain-community-0.0.16 langchain-core-0.1.17 langsmith-0.0.84 marshmallow-3.20.2 mypy-extensions-1.0.0 typing-inspect-0.9.0\n"
          ]
        }
      ],
      "source": [
        "!pip install langchain"
      ]
    },
    {
      "cell_type": "code",
      "source": [
        "with open('/content/generative ai.txt') as f:\n",
        "  text_gen_ai = f.read()"
      ],
      "metadata": {
        "id": "S_6PO5XBtMUI"
      },
      "execution_count": 3,
      "outputs": []
    },
    {
      "cell_type": "code",
      "source": [
        "# Splitter를 준비한다\n",
        "from langchain.text_splitter import CharacterTextSplitter\n",
        "text_splitter = CharacterTextSplitter(\n",
        "    separator='\\n\\n',\n",
        "    chunk_size=1000, #자르는 영역\n",
        "    chunk_overlap=100,\n",
        "    length_function=len\n",
        ")\n",
        "#컴퓨터가 어떤 부분을 잘라야할지 잘몰름 그러니까 겹치는 영역을"
      ],
      "metadata": {
        "id": "_aPPKdVE68si"
      },
      "execution_count": 5,
      "outputs": []
    },
    {
      "cell_type": "markdown",
      "source": [],
      "metadata": {
        "id": "i83oKnHJ9f-3"
      }
    },
    {
      "cell_type": "code",
      "source": [
        "texts = text_splitter.split_text(text_gen_ai)"
      ],
      "metadata": {
        "colab": {
          "base_uri": "https://localhost:8080/"
        },
        "id": "NlUnFC2_8r0n",
        "outputId": "4954fdc0-d727-43e0-c9a6-9b36f302a0be"
      },
      "execution_count": 9,
      "outputs": [
        {
          "output_type": "stream",
          "name": "stderr",
          "text": [
            "WARNING:langchain.text_splitter:Created a chunk of size 1003, which is longer than the specified 1000\n",
            "WARNING:langchain.text_splitter:Created a chunk of size 2239, which is longer than the specified 1000\n",
            "WARNING:langchain.text_splitter:Created a chunk of size 5023, which is longer than the specified 1000\n",
            "WARNING:langchain.text_splitter:Created a chunk of size 3461, which is longer than the specified 1000\n",
            "WARNING:langchain.text_splitter:Created a chunk of size 1266, which is longer than the specified 1000\n",
            "WARNING:langchain.text_splitter:Created a chunk of size 1143, which is longer than the specified 1000\n",
            "WARNING:langchain.text_splitter:Created a chunk of size 2523, which is longer than the specified 1000\n"
          ]
        }
      ]
    },
    {
      "cell_type": "code",
      "source": [
        "print(texts[0])\n",
        "print('-' * 100)\n",
        "print(texts[1])\n",
        "print('-' * 100)\n",
        "\n",
        "print(texts[2])\n"
      ],
      "metadata": {
        "colab": {
          "base_uri": "https://localhost:8080/"
        },
        "id": "PxMbMPoq9Sq6",
        "outputId": "5ded0db6-286c-43cc-fb04-28ab4e07d202"
      },
      "execution_count": 10,
      "outputs": [
        {
          "output_type": "stream",
          "name": "stdout",
          "text": [
            "What is generative AI?\n",
            "Generative AI can learn from existing artifacts to generate new, realistic artifacts (at scale) that reflect the characteristics of the training data but don’t repeat it. It can produce a variety of novel content, such as images, video, music, speech, text, software code and product designs.  \n",
            "Generative AI uses a number of techniques that continue to evolve. Foremost are AI foundation models, which are trained on a broad set of unlabeled data that can be used for different tasks, with additional fine-tuning. Complex math and enormous computing power are required to create these trained models, but they are, in essence, prediction algorithms. \n",
            "Today, generative AI most commonly creates content in response to natural language requests — it doesn’t require knowledge of or entering code — but the enterprise use cases are numerous and include innovations in drug and chip design and material science development. (Also see “What are some practical uses of generative AI?”)\n",
            "----------------------------------------------------------------------------------------------------\n",
            "What’s behind the sudden hype about generative AI?\n",
            "Gartner has tracked generative AI on its Hype Cycle™ for Artificial Intelligence since 2020 (also, generative AI was among our Top Strategic Technology Trends for 2022), and the technology has moved from the Innovation Trigger phase to the Peak of Inflated Expectations. But generative AI only hit mainstream headlines in late 2022 with the launch of ChatGPT, a chatbot capable of very human-seeming interactions.\n",
            "ChatGPT, launched by OpenAI, became wildly popular overnight and galvanized public attention. (OpenAI’s DALL·E 2 tool similarly generates images from text in a related generative AI innovation.)\n",
            "Gartner sees generative AI becoming a general-purpose technology with an impact similar to that of the steam engine, electricity and the internet. The hype will subside as the reality of implementation sets in, but the impact of generative AI will grow as people and enterprises discover more innovative applications for the technology in daily work and life.\n",
            "FAQ on ChatGPT \n",
            "What are the benefits and applications of generative AI?\n",
            "Foundation models, including generative pretrained transformers (which drives ChatGPT), are among the AI architecture innovations that can be used to automate, augment humans or machines, and autonomously execute business and IT processes. \n",
            "The benefits of generative AI include faster product development, enhanced customer experience and improved employee productivity, but the specifics depend on the use case. End users should be realistic about the value they are looking to achieve, especially when using a service as is, which has major limitations. Generative AI creates artifacts that can be inaccurate or biased, making human validation essential and potentially limiting the time it saves workers. Gartner recommends connecting use cases to KPIs to ensure that any project either improves operational efficiency or creates net new revenue or better experiences.\n",
            "In a recent Gartner webinar poll of more than 2,500 executives, 38% indicated that customer experience and retention is the primary purpose of their generative AI investments. This was followed by revenue growth (26%), cost optimization (17%) and business continuity (7%).\n",
            "----------------------------------------------------------------------------------------------------\n",
            "What are the risks of generative AI?\n",
            "The risks associated with generative AI are significant and rapidly evolving. A wide array of threat actors have already used the technology to create “deep fakes” or copies of products, and generate artifacts to support increasingly complex scams.\n",
            "ChatGPT and other tools like it are trained on large amounts of publicly available data. They are not designed to be compliant with General Data Protection Regulation (GDPR) and other copyright laws, so it’s imperative to pay close attention to your enterprises’ uses of the platforms. \n",
            "Oversight risks to monitor include:\n",
            "\t•\tLack of transparency. Generative AI and ChatGPT models are unpredictable, and not even the companies behind them always understand everything about how they work.\n",
            "\t•\tAccuracy. Generative AI systems sometimes produce inaccurate and fabricated answers. Assess all outputs for accuracy, appropriateness and actual usefulness before relying on or publicly distributing information. \n",
            "\t•\tBias. You need policies or controls in place to detect biased outputs and deal with them in a manner consistent with company policy and any relevant legal requirements.\n",
            "\t•\tIntellectual property (IP) and copyright. There are currently no verifiable data governance and protection assurances regarding confidential enterprise information. Users should assume that any data or queries they enter into the ChatGPT and its competitors will become public information, and we advise enterprises to put in place controls to avoid inadvertently exposing IP. \n",
            "\t•\tCybersecurity and fraud. Enterprises must prepare for malicious actors’ use of generative AI systems for cyber and fraud attacks, such as those that use deep fakes for social engineering of personnel, and ensure mitigating controls are put in place. Confer with your cyber-insurance provider to verify the degree to which your existing policy covers AI-related breaches.\n",
            "\t•\tSustainability. Generative AI uses significant amounts of electricity. Choose vendors that reduce power consumption and leverage high-quality renewable energy to mitigate the impact on your sustainability goals.\n",
            "Gartner also recommends considering the following questions:\n",
            "\t•\tWho defines responsible use of generative AI, especially as cultural norms evolve and social engineering approaches vary across geographies? Who ensures compliance? What are the consequences for irresponsible use? \n",
            "\t•\tIn the event something goes wrong, how can individuals take action?\n",
            "\t•\tHow do users give and remove consent (opt in or opt out)? What can be learned from the privacy debate?\n",
            "\t•\tWill using generative AI help or hurt trust in your organization — and institutions overall?\n",
            "\t•\tHow can we ensure that content creators and owners keep control of their IP and are compensated fairly? What should new economic models look like? \n",
            "\t•\tWho will ensure proper functioning throughout the entire life cycle, and how will they do so? Do boards need an AI ethics lead, for example?\n",
            "Finally, it’s important to continually monitor regulatory developments and litigation regarding generative AI. China and Singapore have already put in place new regulations regarding the use of generative AI, while Italy temporarily. The U.S., Canada, India, the U.K. and the EU are currently shaping their regulatory environments.\n",
            "Also see, “What are the best practices for using generative AI?” and “Should I craft a usage policy for generative AI?”\n",
            "GenAI Risks & Opportunities \n",
            "What are some practical uses of generative AI today?\n",
            "The field of generative AI will progress rapidly in both scientific discovery and technology commercialization, but use cases are emerging quickly in creative content, content improvement, synthetic data, generative engineering and generative design. \n",
            "In-use, high-level practical applications today include the following.\n",
            "\t•\tWritten content augmentation and creation: Producing a “draft” output of text in a desired style and length\n",
            "\t•\tQuestion answering and discovery: Enabling users to locate answers to input, based on data and prompt information\n",
            "\t•\tTone: Text manipulation, to soften language or professionalize text\n",
            "\t•\tSummarization: Offering shortened versions of conversations, articles, emails and webpages\n",
            "\t•\tSimplification: Breaking down titles, creating outlines and extracting key content\n",
            "\t•\tClassification of content for specific use cases: Sorting by sentiment, topic, etc.\n",
            "\t•\tChatbot performance improvement: Bettering “sentity” extraction, whole-conversation sentiment classification and generation of journey flows from general descriptions\n",
            "\t•\tSoftware coding: Code generation, translation, explanation and verification\n",
            "Emerging use cases with long-term impacts include:\n",
            "\t•\tCreating medical images that show the future development of a disease \n",
            "\t•\tSynthetic data helping augment scarce data, mitigate bias, preserve data privacy and simulate future scenarios\n",
            "\t•\tApplications proactively suggesting additional actions to users and providing them with information\n",
            "\t•\tLegacy code modernization\n"
          ]
        }
      ]
    },
    {
      "cell_type": "code",
      "source": [
        "#짤려있는 page마다 몇자씩있는가\n",
        "char_list = []\n",
        "for i in range(len(texts)):\n",
        "  char_list.append(len(text[i]))\n",
        "\n",
        "print(char_list)"
      ],
      "metadata": {
        "colab": {
          "base_uri": "https://localhost:8080/"
        },
        "id": "ET7qMH_9-B1S",
        "outputId": "05eacf9d-1c8d-4c26-c950-8a5b08f7cc57"
      },
      "execution_count": 11,
      "outputs": [
        {
          "output_type": "stream",
          "name": "stdout",
          "text": [
            "[1003, 2238, 5022, 3460, 1265, 995, 1142, 2523, 3101]\n"
          ]
        }
      ]
    },
    {
      "cell_type": "code",
      "source": [
        "!pip install pypdf"
      ],
      "metadata": {
        "colab": {
          "base_uri": "https://localhost:8080/"
        },
        "id": "mPqKPdzs_x9p",
        "outputId": "e53e4f51-abc8-43cd-ce4b-fbb18fc840dd"
      },
      "execution_count": 14,
      "outputs": [
        {
          "output_type": "stream",
          "name": "stdout",
          "text": [
            "Collecting pypdf\n",
            "  Downloading pypdf-4.0.1-py3-none-any.whl (283 kB)\n",
            "\u001b[2K     \u001b[90m━━━━━━━━━━━━━━━━━━━━━━━━━━━━━━━━━━━━━━━━\u001b[0m \u001b[32m284.0/284.0 kB\u001b[0m \u001b[31m7.6 MB/s\u001b[0m eta \u001b[36m0:00:00\u001b[0m\n",
            "\u001b[?25hInstalling collected packages: pypdf\n",
            "Successfully installed pypdf-4.0.1\n"
          ]
        }
      ]
    },
    {
      "cell_type": "code",
      "source": [
        "from langchain.document_loaders import PyPDFLoader\n",
        "\n",
        "loader = PyPDFLoader('/content/[정책브리프 2021-04] 탄소중립 대응을 위한 정부 정책과 동향 (1).pdf')\n",
        "pages = loader.load_and_split()"
      ],
      "metadata": {
        "id": "ON4m8kK8-smZ"
      },
      "execution_count": 16,
      "outputs": []
    },
    {
      "cell_type": "code",
      "source": [
        "len(pages)"
      ],
      "metadata": {
        "colab": {
          "base_uri": "https://localhost:8080/"
        },
        "id": "-kXuUFa9_teG",
        "outputId": "e09f8555-cb82-4284-e6b5-b2bec9407ef6"
      },
      "execution_count": 18,
      "outputs": [
        {
          "output_type": "execute_result",
          "data": {
            "text/plain": [
              "19"
            ]
          },
          "metadata": {},
          "execution_count": 18
        }
      ]
    },
    {
      "cell_type": "code",
      "source": [
        "from os import spawnl\n",
        "from langchain.text_splitter import CharacterTextSplitter\n",
        "text_splitter = CharacterTextSplitter(\n",
        "                  separator='\\n',\n",
        "                  chunk_size=500,\n",
        "                  chunk_overlap= 50,\n",
        "                  length_function=len\n",
        ")"
      ],
      "metadata": {
        "id": "Zjph3eaG_6On"
      },
      "execution_count": 21,
      "outputs": []
    },
    {
      "cell_type": "code",
      "source": [
        "texts = text_splitter.split_documents(pages)"
      ],
      "metadata": {
        "id": "UWVCZfsAAtia"
      },
      "execution_count": 22,
      "outputs": []
    },
    {
      "cell_type": "code",
      "source": [
        "print(texts)"
      ],
      "metadata": {
        "colab": {
          "base_uri": "https://localhost:8080/"
        },
        "id": "lb8Q4T_VBEdZ",
        "outputId": "44d5397e-9810-44ac-f7b2-9f6cd1cadb15"
      },
      "execution_count": 25,
      "outputs": [
        {
          "output_type": "stream",
          "name": "stdout",
          "text": [
            "[Document(page_content='2021.05\\n이노비즈 정책브리프\\nI n n o b i z  P o l i c y  B r i e f\\n탄소중립 대응을 위한\\n정부 정책과 동향\\n탄소중립 대응을 위한 정부 정책과 동향\\n–\\n2021-04 호\\n–\\n발행처\\n이노비즈정책연구원\\n–\\n발행인\\n임병훈\\n–\\n편집인\\n김세종\\n–\\nhttp://www.innobiz.or.kr', metadata={'source': '/content/[정책브리프 2021-04] 탄소중립 대응을 위한 정부 정책과 동향 (1).pdf', 'page': 0}), Document(page_content='02\\n※ ‘2050 탄소중립 추진전략 ’을 중심으로 작성된 이노비즈 정책브리프 2021-04 호 이후 탄소중립 대응에 필요한 정책 기조와 글로벌 \\n동향, 조사연구 결과 등을 꾸준히 소개할 예정입니다 .목 차\\n탄소중립과 대응 필요성 1\\n탄소중립 대응을 위한 정부 정책 3\\n해외 주요국 동향 6\\n국내 대기업 동향 7\\n중소기업의 탄소중립 대응 8\\n부록: 주요 정부 정책과제 추진 일정 10\\n부록: 탄소중립 관련 정보 제공 누리집 12', metadata={'source': '/content/[정책브리프 2021-04] 탄소중립 대응을 위한 정부 정책과 동향 (1).pdf', 'page': 1}), Document(page_content=\"요 약\\n∙지구 온난화로 인한 폭염, 폭설, 태풍, 산불 등 이상기후 현상이 세계 곳곳에서 발생되고 있\\n는 가운데 기후변화 문제에 대한 국제사회의 공동 대응 필요성이 대두됨\\n- '교토의정서 ’와 ‘파리기후변화협정 ’ 채택을 통해 세계 대부분 국가들이 탄소중립을 위한 목\\n표와 전략을 수립하여 실천 중에 있음\\n∙우리나라 정부도 지난 2020년 12월 7일 관계부처 합동으로 ‘2050 탄소중립 추진전략 ’을 발\\n표하고 탄소중립을 실현하겠다는 의지를 표명함\\n- 정부는 탄소중립을 실현하는 가운데 지속가능한 경제성장과 삶의 질 향상을 동시 달성하기 \\n위해 △경제구조 저탄소화 , △저탄소 산업생태계 조성, △탄소중립사회로의 공정전환의 3\\n대 정책방향과 △탄소중립 제도기반 강화라는 3+1의 전략을 추진하고자 함 \\n- 또한 3대 정책방향에 따른 10대 과제를 선정하여 신경제 ·사회구조 시스템 구축을 실현하\\n겠다는 의지를 표명함\\n∙세계 각국은 2015년 12월 ‘파리기후변화협정 ’ 채택 이전 국가온실가스감축목표를 UN에 제\\n출했으며 , 2021년 파리협정의 본격적 이행을 앞두고 2020년까지 이를 갱신하기로 합의한 \\n바 있음\\n- 우리나라는 2030년 배출전망치 대비 37%를 감축 목표로 제출(2015 년 6월)한 뒤, ‘2030 \\n국가 온실가스 감축 수정로드맵 (2018 년 7월)’을 마련하고 ‘저탄소 녹색성장 기본법 시행\\n령’을 개정(2019 년 12월)하는 등 감축목표 이행을 위해 노력해왔음\\n- 한편 문재인 대통령은 지난 4월 주요 40개 선진국이 참석한 화상 정상회의에서 기존에 제\\n출한 국가온실가스감축목표를 추가 상향해 올해 안에 UN에 제출하겠다고 밝혀 더욱 도전\\n적인 목표가 수립될 것으로 보임\\n∙무역 의존도가 높고 제조업 비중, 탄소 다배출 업종(철강, 석유화학 등) 비중이 높은 우리나\\n라의 산업 구조를 생각해 본다면 탄소중립 대응이 결코 쉬운 과제는 아닐 것임\\n∙우리나라 중소기업들은 여전히 탄소중립에 대한 필요성을 크게 느끼지 못하고 있는 상태임\", metadata={'source': '/content/[정책브리프 2021-04] 탄소중립 대응을 위한 정부 정책과 동향 (1).pdf', 'page': 2}), Document(page_content='라의 산업 구조를 생각해 본다면 탄소중립 대응이 결코 쉬운 과제는 아닐 것임\\n∙우리나라 중소기업들은 여전히 탄소중립에 대한 필요성을 크게 느끼지 못하고 있는 상태임\\n- 최근 대기업의 경우 탄소중립을 위한 협의체 구성·사업 재편 등을 통해서 적극적인 대응을 \\n시작하고 있지만 , 대다수의 중소기업은 준비할 여유와 경험이 없기 때문에 대응에 한계를 보\\n이고 있음\\n- 많은 중소기업이 친환경 기술 및 제품 개발, 사업 전환 등에 적극적으로 참여한다면 , 탄소중\\n립 시대에서 경쟁할 수 있는 역량을 확보하고 성장할 수 있는 동력을 마련할 수 있을 것임', metadata={'source': '/content/[정책브리프 2021-04] 탄소중립 대응을 위한 정부 정책과 동향 (1).pdf', 'page': 2}), Document(page_content='01이노비즈 정책브리프\\n01 탄소중립과 대응 필요성\\n탄소중립이란 ?\\n∙탄소중립은 개인·회사·단체 등에서 배출되는 탄소와 흡수되는 탄소량을 같게 해 탄소 ‘순배출이 제\\n로(0)’가 되게 하는 것으로 , ‘넷-제로(Net-Zero)’ 라 부르기도 함\\n- 인간의 활동에 의한 온실가스 * 배출을 최대한 줄이고 , 남은 온실가스는 흡수, 제거하여 ‘순배출이 제로\\n(0)’가 되는 개념이며 , 기후변화에 대응하기 위한 글로벌 추세로 자리 잡고 있음\\n*온실가스란 ‘지구 대기를 오염시켜 온실 효과를 일으키는 가스’를 통틀어 이르는 말로, 이산화탄소 (CO2), 메탄(CH4), 아산화질소 (N2O), 수\\n소불화탄소 (HFCs), 과불화탄소 (PFCs), 육불화황 (SF6) 등은 배출 규제 및 거래의 대상이 되고 있음 \\n대응 필요성\\n∙지구 온난화로 인한 폭염, 폭설, 태풍, 산불 등 이상기후 현상이 세계 곳곳에서 발생되고 있는 가\\n운데 기후변화 문제에 대한 국제사회의 공동 대응 필요성이 대두됨\\n- 국제사회는 기후변화에 대응하기 위해 선진국에 의무를 부여하는 ‘교토의정서 ’ 채택(1997 년)에 이어, 선\\n진국과 개도국이 모두 참여하는 ‘파리기후변화협정 ’을 2015년 12월 12일 채택함 \\n- 이후 2016년 11월 4일 발효된 ‘파리기후변화협정 ’은 (세계 온실가스 배출량의 90% 이상을 차지하고 있\\n는) 협정 참여 195개 당사국이 지구 평균온도를 산업화 이전 대비 2℃ 이상 상승하지 않도록 , 나아가 \\n1.5℃로 억제하기 위해 노력하겠다는 것임\\n- 모든 당사국은 2020년까지 장기저탄소발전전략 (LEDS*) 과 국가온실가스감축목표 (NDC**) 를 제출하기로 \\n합의함\\n *LEDS : Long-term low greenhouse gas Emission Development Strategies (장기저탄소발전전략 )\\n**NDC : Nationally Determined Contribution (국가 온실가스 감축 목표, 5년 주기 제출)', metadata={'source': '/content/[정책브리프 2021-04] 탄소중립 대응을 위한 정부 정책과 동향 (1).pdf', 'page': 3}), Document(page_content='**NDC : Nationally Determined Contribution (국가 온실가스 감축 목표, 5년 주기 제출)\\n∙IPCC* 는 2100년까지 지구 평균온도 상승폭을 1.5℃ 이내로 제한할 필요가 있다는 과학적 근거를 \\n마련함\\n*IPCC : Intergovernmental Panel on Climate Change (기후변화에 관한 정부간 협의체 )\\n- 지구의 온도 상승을 1.5℃로 제한할 경우 생물다양성 , 건강, 생계, 식량안보 , 인간 안보 및 경제 성장에 \\n대한 위험이 2℃보다 대폭 감소할 것으로 추정됨 \\n- 2100년까지 지구 평균온도 상승폭을 1.5℃ 이내로 제한하기 위해서는 전지구적으로 2030년까지 이산화\\n탄소 배출량을 2010년 대비 최소 45% 이상 감축하여야 하고, 2050년경에는 탄소중립을 달성해야 함', metadata={'source': '/content/[정책브리프 2021-04] 탄소중립 대응을 위한 정부 정책과 동향 (1).pdf', 'page': 3}), Document(page_content='02이노비즈협회\\n<표 1> 전지구 온도상승 1.5℃ vs 2℃ 주요 영향 비교\\n구 분 1.5℃ 2℃\\n생태계 및 인간계 높은 위험 매우 높은 위험\\n중위도 폭염일 온도 3℃ 상승 4℃ 상승\\n고위도 한파일 온도 4.5℃ 상승 6℃ 상승\\n산호 소멸 70~90% 99% 이상\\n기후영향 ·빈곤 취약 인구 2℃에서 2050년까지 최대 수억명 증가\\n물부족 인구 2℃에서 최대 50% 증가\\n대규모 기상이변 위험 중간 위험 중간~높은 위험\\n해수면 상승 0.26~0.77m 0.3~0.93m\\n북극 해빙 완전소멸 빈도 100년에 한번 10년에 한번\\n자료: 대한민국 2050 탄소중립전략 (LEDS)\\n∙온실가스 감축을 위한 행동에 국제사회의 모든 역량을 집중해야 기후변화 문제를 해결할 수 있다\\n는 문제의식이 공유되고 있음\\n- 2019년 9월 뉴욕에서 개최된 UN 기후정상회의 이후 121개 국가가 기후목표 상향동맹 *에 가입하였으\\n며, 지난 4월 미국의 주도로 ‘지구의 날’에 맞춰 열린 기후정상회의에서는 미국(2030 년까지 2005년 대\\n비 50% 감축), 일본(2030 년까지 2013년 대비 46% 감축) 등이 기존 목표보다도 상향된 목표를 제시함\\n*2050 탄소중립 목표 기후동맹 (‘19년 기후변화당사국총회 의장국인 칠레 주도 설립)\\n- 한편 기후정상회의에 참석한 문재인 대통령은 온실가스 감축 목표를 추가 상향해 올해 안에 UN에 제출\\n할 것이라고 밝힘\\n∙규제 강화 및 경영 환경 변화 등 글로벌 경제질서가 바뀌고 , 친환경 시장 선점을 위한 투자가 확\\n대되고 있음\\n- EU와 미국의 탄소국경세 * 도입 논의가 본격화하는 가운데 EU의 자동차 배출규제 상향, 플라스틱세 신\\n설 등 환경 규제도 강화되고 있는 상황임\\n*탄소국경세란 온실가스 배출 규제가 약한 국가의 상품을 규제가 강한 국가로 수출 시 관세를 부과하는 것을 의미함\\n- 민간부문에서도 글로벌 기업‧금융사의 RE100* 참여 및 ESG** 투자 확대, 환경 非친화적 기업 투자 제\\n한 등 환경을 고려한 경영 활동이 확산되고 있는 추세임', metadata={'source': '/content/[정책브리프 2021-04] 탄소중립 대응을 위한 정부 정책과 동향 (1).pdf', 'page': 4}), Document(page_content=\"- 민간부문에서도 글로벌 기업‧금융사의 RE100* 참여 및 ESG** 투자 확대, 환경 非친화적 기업 투자 제\\n한 등 환경을 고려한 경영 활동이 확산되고 있는 추세임 \\n *RE100 : '재생에너지 (Renewable Energy) 100%' 의 약자로 , 기업 사용전력의 100% 를 재생에너지로 충당하겠다는 자발적 캠페인임\\n**ESG : 기업의 비재무적 요소인 환경(Environment)· 사회(Social)· 지배구조 (Governance) 를 뜻하는 말로 기업 활동에 친환경 , 사회적 책임 \\n경영, 지배구조 개선 등 투명 경영을 고려해야 지속 가능한 발전을 할 수 있음\", metadata={'source': '/content/[정책브리프 2021-04] 탄소중립 대응을 위한 정부 정책과 동향 (1).pdf', 'page': 4}), Document(page_content='03이노비즈 정책브리프\\n02 탄소중립 대응을 위한 정부 정책 1)\\n탄소중립 2050 추진전략\\n∙우리나라 정부는 지난 2020년 12월 7일 관계부처 합동으로 ‘2050 탄소중립 추진전략 ’을 발표함\\n- 정부는 탄소중립이 어렵지만 가야할 길이라고 인식하는 한편 산업구조 저탄소화 및 신산업 육성 등 선도\\n적 대응이 필요할 것이라고 말함 \\n- 정부는 탄소중립을 실현하는 가운데 지속가능한 경제성장과 삶의 질 향상을 동시 달성하기 위해 △경제\\n구조 저탄소화 , △저탄소 산업생태계 조성, △탄소중립사회로의 공정전환의 3대 정책방향과 △탄소중립 \\n제도기반 강화라는 3+1의 전략을 추진하고자 함 \\n- 또한 3대 정책방향에 따른 10대 과제를 선정하여 신경제 ·사회구조 시스템 구축을 실현하겠다는 의지를 \\n표명함\\n ① 경제구조의 저탄소화\\n- (에너지 전환 가속화 ) 탄소중립을 위해 화석연료에 대한 높은 의존도를 줄이고 , 재생 에너지로의 전환 가\\n속화 추진\\n- 산업 분야에서는 재생에너지 , 수소, 에너지 IT 등 3대 에너지 신산업 육성에 집중\\n- (고탄소 산업구조 혁신) 철강, 석유화학 등 탄소 다배출 업종에 대한 기술개발 지원, 고탄소 중소기업 대\\n상 맞춤형 공정개선 지원 등을 통해 저탄소 산업구조로의 전환 추진\\n- 금속･화학제품제조업 등 다배출 중소기업을 대상으로 공정진단을 통해 맞춤형 공정개선 ‧설비보급을 지원\\n하는 등 산업 전과정 (연‧원료→공정→제품→소비‧자원 순환)에서의 저탄소 전환을 촉진\\n- (미래모빌리티로 전환) 친환경차 가격·충전·수요 혁신을 통해 수소·전기차 생산, 보급 확대, 전국 2천만 \\n세대 전기차 충전기 보급, 도시·거점별 수소 충전소 구축\\n- (도시·국토 저탄소화 ) 신규 건축물 제로에너지 건축 의무화 , 국토 계획 수립 시 생태자원 활용한 탄소흡\\n수 기능 강화 \\n ② 신유망 저탄소산업 생태계 조성\\n- (신유망 산업 육성) 차세대전지 관련 핵심기술 확보, 그린수소 적극활성화하여 2050년 수소에너지 전체', metadata={'source': '/content/[정책브리프 2021-04] 탄소중립 대응을 위한 정부 정책과 동향 (1).pdf', 'page': 5}), Document(page_content='수 기능 강화 \\n ② 신유망 저탄소산업 생태계 조성\\n- (신유망 산업 육성) 차세대전지 관련 핵심기술 확보, 그린수소 적극활성화하여 2050년 수소에너지 전체\\n의 80% 이상을 그린수소로 전환, CCUS* 기술 등 혁신기술 개발 \\n*CCUS : 이산화탄소 포집·활용 및 저장(Carbon Capture, Utilization and Storage) 을 의미하며 , 대규모로 배출되는 이산화탄소를 포집하\\n여 이용 또는 격리하는 기술을 의미함\\n1) 본 장은 정부에서 관계부처 합동으로 발표한 ‘2050 탄소중립 추진전략 ’(2020.12.7.) 의 주요 내용을 요약·재구성하여 작성함', metadata={'source': '/content/[정책브리프 2021-04] 탄소중립 대응을 위한 정부 정책과 동향 (1).pdf', 'page': 5}), Document(page_content='04이노비즈협회\\n- 차세대전지 기술 확보, 저전력 반도체 시장 선도, 화이트바이오 산업* 육성을 통해 신성장동력 및 일자리 \\n창출에 기여\\n*화이트바이오 산업이란 산업 생산 공정에 생명공학을 응용한 개념으로 , 재생가능한 식물자원을 원료로 화학제품 또는 바이오 연료 등의 물질\\n을 생산하는 산업을 의미함 \\n- (혁신 생태계 저변 구축) 친환경 ·저탄소 ·에너지산업 분야 유망기술 보유기업 발굴·지원, 그린 예비유니콘\\n으로 적극 육성, 탄소중립 규제자유특구 확대 \\n- 친환경･저탄소‧에너지신산업 분야 유망기술 보유 기업을 집중 발굴･지원, 대-중소기업간 협력 등 개방형 \\n생태계 구축, 친환경･저탄소 중심으로 지역주력산업 전면 개편 등 그린 경제 체제 기반 조성\\n- (순환경제 활성화 ) 지속가능한 생산·소비 체계 구축, 산업별 재생자원 이용 목표율 강화, 친환경 제품 정\\n보제공 확대 \\n- 재생원료 사용 극대화 , 철강, 플라스틱을 대체하는 혁신소재 개발, 탄소발자국 * 등 친환경 제품 정보 제\\n공 확대 등 순환 사회로의 전환 가속화\\n*탄소발자국이란 개인 또는 기업, 국가 등의 활동이나 상품을 생산하고 소비하는 전체 과정을 통해 발생시키는 온실가스 , 특히 이산화탄소의 \\n총량을 의미함\\n ③ 탄소중립 사회로의 공정전환\\n- (취약 산업·계층 보호) 내연기관차 완성차 및 부품업체 등 축소산업에 대한 R&D, M&A 등을 통해 대\\n체·유망분야로 사업전환 적극 지원, 맞춤형 재취업 지원\\n- 구조전환으로 축소되는 석탄발전 ‧내연기관차 산업 등의 경우, 대체‧유망분야로의 사업전환을 적극 지원하\\n고 직업훈련 ·재취업 지원 등 고용친화적 전환을 위한 정책 추진방향 마련\\n- (지역중심의 탄소중립 실현) 지역 중심 탄소중립 실행 지원, 지역별 맞춤형 전략 이행을 위한 전략 수립\\n- 국가 계획과 연계한 지역맞춤형 탄소중립 계획 수립 등을 지원하여 지역 주도의 탄소중립 실현이 가능하\\n도록 추진', metadata={'source': '/content/[정책브리프 2021-04] 탄소중립 대응을 위한 정부 정책과 동향 (1).pdf', 'page': 6}), Document(page_content='- 국가 계획과 연계한 지역맞춤형 탄소중립 계획 수립 등을 지원하여 지역 주도의 탄소중립 실현이 가능하\\n도록 추진\\n- (탄소중립 사회에 대한 국민인식 제고) 탄소중립의 의미에 대한 대국민 인식 공유 및 실천력 담보를 위한 \\n교육‧홍보 강화\\n ④ 탄소중립 제도적 기반 강화\\n- (재정) ‘기후대응기금 (가칭)’ 신규조성 , 세제·부담금 ·배출권거래제 등 탄소가격 체계 재구축 , 탄소인지예산\\n제도 도입 검토\\n- (녹색금융 ) 정책금융기관의 녹색분야 자금지원 비중 확대, 저탄소 산업구조로의 전환을 위한 기업지원 , 기\\n업의 환경관련 공시의무 단계적 확대 등 금융시장 인프라 정비 \\n- (R&D) CCUS, 에너지효율 극대화 , 태양전지 등 탄소중립을 위한 핵심기술 개발 집중 지원', metadata={'source': '/content/[정책브리프 2021-04] 탄소중립 대응을 위한 정부 정책과 동향 (1).pdf', 'page': 6}), Document(page_content='05이노비즈 정책브리프\\n장기저탄소발전전략 (LEDS)\\n∙우리나라는 녹색성장위원회 심의와 국무회의 의결을 거쳐 지난해 말 LEDS 를 UN에 제출하였으며 \\n부문별 전략은 다음과 같음\\n- (에너지공급 ) 화석연료 발전 중심의 전력공급 체계를 재생에너지와 그린수소 중심으로 전환하고 이산화탄\\n소포집 기술 등을 적극적으로 활용하여 전력부문의 탄소중립을 달성\\n- (산업) 미래 신기술 , 에너지효율 향상, 순환경제 실현으로 지속가능한 탄소중립 산업 생태계를 구축\\n- (수송) 청정 에너지원 (전기·수소)을 동력으로 하는 수송수단 (자동차 , 철도, 항공기 , 선박)을 확대하고 디지\\n털 기술을 활용한 자율주행차 , 교통 수요관리를 통해 수송부문 탄소중립 기반을 조성\\n- (건물) 단열과 기밀성능을 강화하고 에너지고효율 제품 사용을 확대하여 건물에서 사용되는 에너지를 최\\n소화하고 태양광 , 지열 등 건물 내 재생에너지 보급을 촉진하여 건물 에너지 자급자족을 실현\\n- (농축수산 ) 농축수산의 스마트화 촉진과 청정에너지 사용 확대를 통해 친환경 농축수산업 체계를 구축\\n- (탄소흡수원 ) 산림, 갯벌, 습지 등 자연·생태 기반 솔루션 강화로 탄소흡수 능력을 높여 우리나라 탄소중\\n립 달성에 기여\\n- (이행기반 ) 탄소중립을 위한 경제·사회의 녹색전환을 뒷받침하고자 정책(배출권거래제 , 세제, 부담금 등), \\n사회, 기술 전반에 걸친 이행기반을 구축\\n국가온실가스감축목표 (NDC)\\n∙세계 각국은 2015년 12월 ‘파리기후변화협정 ’ 채택 이전 국가온실가스감축목표를 UN에 제출했으\\n며, 2021년 파리협정의 본격적 이행을 앞두고 2020년까지 이를 갱신하기로 합의한 바 있음\\n- 우리나라는 2030년 배출전망치 대비 37%를 감축 목표로 제출(2015 년 6월)한 뒤, ‘2030 국가 온실가\\n스 감축 수정로드맵 (2018 년 7월)’을 마련하고 ‘저탄소 녹색성장 기본법 시행령 ’을 개정(2019 년 12월)하\\n는 등 감축목표 이행을 위해 노력해왔음', metadata={'source': '/content/[정책브리프 2021-04] 탄소중립 대응을 위한 정부 정책과 동향 (1).pdf', 'page': 7}), Document(page_content='스 감축 수정로드맵 (2018 년 7월)’을 마련하고 ‘저탄소 녹색성장 기본법 시행령 ’을 개정(2019 년 12월)하\\n는 등 감축목표 이행을 위해 노력해왔음\\n- 한편 문재인 대통령은 지난 4월 주요 40개 선진국이 참석한 화상 정상회의에서 기존에 제출한 국가온실\\n가스감축목표를 추가 상향해 올해 안에 UN에 제출하겠다고 밝혀 더욱 도전적인 목표가 수립될 것으로 \\n보임', metadata={'source': '/content/[정책브리프 2021-04] 탄소중립 대응을 위한 정부 정책과 동향 (1).pdf', 'page': 7}), Document(page_content='06이노비즈협회\\n03 해외 주요국 동향 2)\\n∙EU\\n- 2018년 11월 「A Clean Planet for All」 정책을 통해 2050년 탄소중립 선언\\n- 2020년 12월 EU 정상회의를 통해 2030년 온실가스를 55% 감축으로 목표 상향 \\n- 기후중립 지원, 적극적 순환경제 , 산업전환 투자 및 금융 등 7대 중점과제를 포함한 신산업전략을 발표\\n-2021년 7월 이전, 탄소국경세 등의 세부 시행 계획을 마련하여 발표할 예정\\n∙미국\\n-바이든 대통령은 2050년 탄소중립 달성을 대선 공약으로 추진하였으며 , 트럼프 전 대통령이 탈퇴한 파\\n리기후협약에 취임 첫날 복귀\\n- 2030년까지 2005년 배출량 대비 50~52% 감소 목표를 수립하였으며 , 이는 오바마 행정부 목표치 \\n26~28% 대비 두 배 증가한 수준\\n- 교통·에너지 ·탄소조정세에 중점을 두고, 청정에너지 ·저탄소를 포함한 인프라에 2조 달러를 지원할 계획\\n- 화력발전과 같은 탄소 다배출 사업에 대한 무역 금융 중지를 제안\\n- 타 국가에서 수입되는 모든 제품에 대하여 온실가스 감축 의무를 충족시킬 계획\\n∙중국\\n-2020년 9월 유엔총회 화상회의에서 탄소중립 선언\\n- 2060년까지 탄소 배출 제로 목표\\n- 중국 내 이산화탄소 배출량이 2030년 정점을 찍은 뒤 점차 감소할 수 있도록 목표를 수립하고 이를 실천\\n- 교통(친환경차 ), 에너지 (신재생에너지 ) 및 탄소배출권 거래제 도입 등의 국가 단위의 정책 방향 설정\\n∙일본\\n- 2020년 10월 정상 발표를 통해 탄소중립 선언\\n- 2013년도 대비 2030년 46%, 2050년 80% 감축을 위한 목표 수립\\n- 2020년 12월 2050년 온실가스 배출량 제로를 위해 해상풍력 , 수소, 자동차 등 14개의 주요 분야 목표\\n와 실행 계획이 포괄된 ‘그린성장전략 ’ 발표\\n2)본 장은 한국무역협회에서 발행한 ‘주요국 탄소중립 정책과 시사점 ’(2021.4.12.) 과 KOTRA 해외시장뉴스 ‘기후 정상회의 주요 내용 및 현지 반', metadata={'source': '/content/[정책브리프 2021-04] 탄소중립 대응을 위한 정부 정책과 동향 (1).pdf', 'page': 8}), Document(page_content='2)본 장은 한국무역협회에서 발행한 ‘주요국 탄소중립 정책과 시사점 ’(2021.4.12.) 과 KOTRA 해외시장뉴스 ‘기후 정상회의 주요 내용 및 현지 반\\n응’(2021.4.30.) 의 주요 내용을 요약·재구성하여 작성함', metadata={'source': '/content/[정책브리프 2021-04] 탄소중립 대응을 위한 정부 정책과 동향 (1).pdf', 'page': 8}), Document(page_content='07이노비즈 정책브리프\\n04 국내 대기업 동향 3)\\n∙SK그룹\\n- ‘20년 11월 국내 최초로 RE100 프로젝트에 가입\\n- 2025년까지 이천·청주 사업장의 1톤 차량을 전기 자동차로 교체할 예정\\n- SK하이닉스는 공정가스 제거시스템을 적용하는 사업장을 확대함\\n∙ 삼성전자\\n- 2019년 온실가스 배출량을 ‘18년 대비 8.9%, ‘08년 대비 70% 감축\\n- 수원사업장과 기흥사업장에 각각 1.9매가와트 , 1.5메가와트 규모의 태양광발전 설비 설치\\n- 제품 사용단계에서의 고효율 제품 및 저전력 반도체 개발을 통해 전력 효율화 추진\\n∙ LG그룹\\n- 15년째 세계 최대 지구촌 전등 끄기 캠페인인 ‘어스아워 ’에 동참\\n- 이사회 산하에 ESG 위원회 신설\\n- LG전자는 2030년까지 탄소중립을 달성하겠다는 목표를 수립하고 , 포스코와 협력하여 해수열냉난방시스\\n템, 건물일체형태양광 등 신재생에너지 관련 기술 개발에 적극 투자\\n∙ 현대제철 \\n- 미래 신성장사업으로 수소 사업 분야를 육성하기 위해 수소 생산·유통시설 확대 구축\\n- 주요 사업장 내 수소 연료전지차 (FCEV) 도입 및 수송차량 확대 적용\\n- 수소를 활용한 친환경 연료전지발전 시스템 구축 계획 추진\\n∙ KT\\n- 2018년부터 3년간 온실가스 약 14만 1000톤 감축\\n- 전국 네트워크 장비에 온실가스 배출량을 관리하는 모니터링 시스템을 마련할 예정\\n- AI 엔진 ‘로보오퍼레이터 ’를 개발하여 건물 내외 환경을 분석하여 냉난방을 제어하는 에너지 관리 솔루션\\n을 도입하고 공익성이 높은 건물에 무료로 제공할 예정\\n- 대기업 최초로 노조와 함께 ESG 경영 선포식 개최\\n3) 본 장은 기업의 탄소중립 관련 보도자료를 재구성하여 작성함', metadata={'source': '/content/[정책브리프 2021-04] 탄소중립 대응을 위한 정부 정책과 동향 (1).pdf', 'page': 9}), Document(page_content='08이노비즈협회\\n05 중소기업의 탄소중립 대응\\n탄소중립은 도전적인 과제\\n∙우리나라의 온실가스 배출량은 지난 2018년을 정점으로 감소세를 유지할 것이라는 전망이나 탄소\\n중립까지의 기간은 촉박한 상황임\\n- 현재 글로벌 경제는 기후변화에 대응하는 수준을 넘어 관련 규제가 강화되는 등 빠르게 변화하고 있음\\n- 우리나라 또한 이에 대응하여 다양한 방법으로 온실가스 배출량 감축을 위한 활동을 지속하고 있으나 , \\n현재의 추세대로라면 탄소중립까지 30년 이상의 기간이 필요할 것으로 예측됨\\n- 따라서 2050년까지 탄소중립을 실현하는 것은 도전적인 과제이며 , 기간 단축을 위한 전략이 지속적으로 \\n논의될 것으로 보임 \\n경제구조에서 기인하는 제약 요인\\n∙EU나 미국 같은 주요 선진국에서는 탄소국경세 도입을 통해 온실가스 배출규제가 약한 국가로부\\n터 수입한 상품에 비용을 부과하는 식으로 자국 산업을 보호하겠다고 선언한 상태임\\n∙무역 의존도가 높고 제조업 비중, 탄소 다배출 업종(철강, 석유화학 등) 비중이 높은 우리나라의 \\n산업 구조를 생각해 본다면 탄소중립 대응이 결코 쉬운 과제는 아닐 것임\\n- 기업의 경우 고탄소에서 저탄소로 산업구조가 변경됨에 따라 부담이 증가하고 중장기 경쟁력이 악화될 \\n우려가 있음\\n- 또한 화력발전이나 내연차와 같은 기존 산업의 기반이 약화되며 일자리가 감소하거나 공공요금이 상승되\\n는 등의 어려움도 발생할 것으로 예측됨\\n위기를 기회로 바꾸기 위한 대응이 필요한 시점\\n∙탄소중립은 더이상 미루거나 회피할 수 없는 모든 구성원의 과제이며 , 미온적으로 대응할 경우 국\\n내 주력 산업의 상당한 타격이 전망됨\\n- 산업구조의 저탄소화 및 신산업 육성 등 선제적 대응만이 탄소중립이라는 새로운 글로벌 질서에서 기회\\n를 창출할 수 있음\\n- 한국판 뉴딜을 통해 디지털과 그린을 융합한 혁신적 사업들을 성공적으로 추진한다면 탄소중립을 가속화\\n하고 이를 국가 경쟁력 제고의 기회로 활용할 수 있을 것으로 기대됨', metadata={'source': '/content/[정책브리프 2021-04] 탄소중립 대응을 위한 정부 정책과 동향 (1).pdf', 'page': 10}), Document(page_content='09이노비즈 정책브리프\\n탄소중립 대응에 중소기업의 참여가 필수\\n∙우리나라 중소기업들은 여전히 탄소중립에 대한 필요성을 크게 느끼지 못하고 있는 상태임\\n- 최근 대기업의 경우 탄소중립을 위한 협의체 구성·사업 재편 등을 통해서 적극적인 대응을 시작하고 있\\n지만, 대다수의 중소기업은 준비할 여유와 경험이 없기 때문에 대응에 한계를 보이고 있음\\n- 지난 3월 국내 정유업계 4대 기업인 SK이노베이션 , GS칼텍스 , S-OIL, 현대오일뱅크 등이 참여한 탄소\\n중립 협의회가 구성되었고 , 지난 달에는 LG화학과 KIST가 탄소 포집과 수소에너지 관련 기술 등을 공동\\n연구하기 위한 협약을 체결하는 등 대기업 중심의 탄소중립 대응 활동이 활발해지고 있음\\n- 대다수 중소기업이 영위하고 있는 사업 분야가 탄소중립과 상관없다고 생각하는 모습을 보이고 있는 가\\n운데, 다양한 기관에서 꾸준히 진행된 탄소중립 관련 조사 결과 또한 우리나라 중소기업들이 탄소중립에 \\n대한 대응 필요성을 느끼지 못한다는 결과를 보여주고 있음\\n∙향후 중소기업을 대상으로 도입될 정부 정책과 제도에 대한 관심과 적극적 참여가 필요함 \\n- 국가 경제에서 중소기업이 차지하는 비중이 높은 우리나라는 정부와 몇몇 대기업의 노력만으로 탄소중립\\n을 실현하기 불가능함\\n- 따라서 탄소중립에 대한 중소기업의 적극적 참여가 필요하며 , 중소기업의 참여를 유인할 수 있는 다양한 \\n정부 정책과 제도가 마련될 예정임\\n- 지원책을 적극 활용하여 많은 중소기업이 친환경 기술 및 제품 개발, 사업 전환 등에 적극적으로 참여한\\n다면, 탄소중립 시대에서 경쟁할 수 있는 역량을 확보하고 성장할 수 있는 동력을 마련할 수 있을 것임', metadata={'source': '/content/[정책브리프 2021-04] 탄소중립 대응을 위한 정부 정책과 동향 (1).pdf', 'page': 11}), Document(page_content='010이노비즈협회\\n부록: 주요 정부 정책과제 추진 일정\\n기본방향10대 \\n중점과제정 책 일 정 주관부처 링 크\\n경제구조의 \\n저탄소화에너지전환 ∙「에너지 탄소중립 혁신전략 」 마련 ‘21.4분기 산업부\\n고탄소 \\n산업∙「탄소중립 산업 대전환 추진전략 (제조업 르네\\n상스 2.0)」 마련‘21.4분기 산업부\\n∙「전통 중소기업 저탄소경영 지원방안 」 마련 ‘21.4분기 중기부\\n미래 \\n모빌리티∙「수송부문 미래차 전환전략 」 마련 ‘21.4분기 산업부 등\\n도시·국토∙「건물부문 2050 탄소중립 로드맵 」 수립 ‘21.4분기 국토부\\n∙「자연·생태기반 온실가스 감축·적응전략 」 마\\n련‘21.4분기 환경부 등\\n∙「2050 탄소중립을 위한 농식품분야 기후변화 \\n대응 기본계획 」 수립‘21.1분기 농식품부농업·농촌 탄소 중립 \\n및 기후변화 적응\\n∙「해양수산분야 2050 탄소중립 로드맵 」 수립 ‘21.4분기 해수부\\n∙「2050 탄소중립 산림부문 전략」 마련 ‘21.3분기 산림청 제6차 산림기본계획\\n신유망 \\n저탄소 \\n산업생태계 \\n조성신유망산업∙「수소경제이행 기본계획 (수소경제로드맵 2.0)」 \\n수립‘21.2분기 산업부\\n혁신생태계∙「그린 분야 혁신 벤처·창업 생태계 조성방안 」 \\n마련‘21.2분기 중기부 등\\n∙「녹색 유망기술 상용화 로드맵 」 수립 ‘21.3분기 환경부\\n순환경제 ∙「K-순환경제 혁신 로드맵 」 수립 ‘21.4분기 환경부', metadata={'source': '/content/[정책브리프 2021-04] 탄소중립 대응을 위한 정부 정책과 동향 (1).pdf', 'page': 12}), Document(page_content='011이노비즈 정책브리프\\n기본방향10대 \\n중점과제정 책 일 정 주관부처 링 크\\n탄소중립 \\n사회로의 \\n공정전환신사업 \\n체계로 \\n편입∙「지역에너지산업 전환」 연구 ‘21.3분기 산업부\\n∙「중소벤처기업 신사업 개척 및 재도약 촉진방안 」 \\n마련‘21.2분기 중기부\\n지역중심 ∙「지역사회 탄소중립 이행 및 지원 방안」 마련 ‘21.3분기 환경부\\n국민인식∙「탄소중립 등 학교 환경교육 지원 방안」 마련 ‘21.4분기 교육부 등\\n∙「탄소중립 사회에 대한 국민 인식 제고 전략」 \\n마련‘21.3분기 환경부\\n  - 「가정·기업·학교 등 분야별 기후행동 매뉴얼 」 \\n마련‘21.2분기 환경부\\n탄소중립 \\n제도적 \\n기반 강화배출권 \\n거래제∙「배출권 거래제 기술혁신 ·이행 로드맵 」 수립 ‘21.4분기 환경부\\n녹색금융∙「기후리스크 관리·감독 추진계획 」 수립 ‘21.1분기 금융위\\n2021년 녹색금융 \\n추진계획 (안)∙「금융권 녹색투자 가이드라인 」 마련 ‘21.1분기 금융위\\n∙「기후환경 정보공시 확대방안 」 마련 ‘21.2분기 금융위\\n∙「녹색금융 분류체계 」 수립 ‘21.2분기 환경부\\n∙「스튜어드십코드 」 시행성과 평가 및 개정검토 ‘21.4분기 금융위\\n연구개발∙「탄소중립 R&D 전략」 마련 ‘21.1분기 과기부\\n탄소중립 기술혁신 \\n추진전략  - 「CCU 로드맵 」 수립 ‘21.2분기 과기부\\n  - 「탄소중립 R&D 투자전략 」 수립 ‘21.1분기 과기부\\n  - 「(가칭) 2050 탄소중립 10대 R&D \\n프로젝트 」 기획‘21.2분기 과기부\\n국제협력∙「P4G 정상회의 개최 및 녹색 의제 주도」 ‘21.2분기 외교부2021 P4G 서울 \\n정상회의\\n∙「그린뉴딜 ODA 비중 확대 로드맵 수립」 ‘21.1분기 외교부K-뉴딜 글로벌화 \\n전략', metadata={'source': '/content/[정책브리프 2021-04] 탄소중립 대응을 위한 정부 정책과 동향 (1).pdf', 'page': 13}), Document(page_content='012이노비즈협회\\n부록: 탄소중립 관련 정보 제공 누리집\\n유관기관\\n홈페이지 내 용\\n한국에너지공단 (www.energy.or.kr)\\nŸ에너지 공급 단계 이후 합리적 ·효율적 에너지 이용 증진과 신·재생에너지 보급 \\n촉진 및 산업 활성화로 온실가스 저감을 유도하고 국민의 삶의 질 제고를 목적\\n으로 설립\\nŸ에너지절약교육 , 대한민국 에너지대전 , 에너지경영시스템 , 에너지진단 , 국가 에너\\n지사용 및 온실가스배출 실태조사 , 에너지 ·온실가스 기술시스템 분석\\n한국환경공단 (www.keco.or.kr)\\nŸ환경오염방지 ·환경개선 ·자원순환 촉진 및 기후변화대응을 위한 온실가스 관련 사\\n업을 통해 환경친화적 국가발전에 이바지하는 것을 목적으로 설립\\nŸ온실가스 ·에너지 목표관리제 운영, 국가 온실가스 배출량 통계 구축, 온실가스관\\n리 전문인력양성 , 탄소포인트제 등 사업 수행 및 운영\\n한국환경산업기술원 (www.keiti.re.kr)\\nŸ환경기술의 개발·지원, 환경산업 육성과 친환경생활 확산을 통한 국민의 환경복\\n지 서비스 향상 및 지속가능한 국가발전에 기여를 목적으로 설립\\nŸ환경기술 개발사업 기획·평가·관리, 환경마크제도 운영 및 녹색제품 보급 촉진, \\n환경신기술 인증 및 기술검증 , 환경산업 육성 및 해외시장 진출 지원\\n온실가스종합정보센터 (www.gir.go.kr)\\nŸ국가 온실가스 통계를 작성하고 분석 검증을 통해 공표, 효율적이고 체계적인 관\\n리를 위해 5년마다 국가 온실가스 통계 총괄 관리계획 수립\\nŸ국가온실가스 종합정보관리체계 운영, 온실가스 ·에너지 목표관리제 지원, 배출권\\n거래제 지원, 국가·부문별 온실가스 감축 목표 설정 지원 등 사업수행', metadata={'source': '/content/[정책브리프 2021-04] 탄소중립 대응을 위한 정부 정책과 동향 (1).pdf', 'page': 14}), Document(page_content='013이노비즈 정책브리프\\n제도 및 플랫폼\\n홈페이지 내 용\\n온실가스 ·에너지목표관리제 (www.greencompany.or.kr)\\nŸ산업·발전부문 온실가스 배출량 및 에너지사용량 목표를 설정하여 관리업체의 목\\n표 이행을 관리·지원\\nŸ목표관리제 이행절차 / 관련법령 / 기업지원사업 / 지정관리업체 현황 / 검증기\\n관 현황\\n탄소포인트제 (www.cpoint.or.kr)\\nŸ기후위기 대응을 위하여 온실가스를 줄일 수 있도록 가정, 상업, 아파트단지 등\\n에서 전기, 상수도 , 도시가스의 사용량을 절감하고 감축률에 따라 탄소포인트를 \\n부여하는 전국민 온실가스 감축 실천 제도\\nŸ탄소포인트제도 소개 / 참여방법 / 인센티브 지급 방법 / 지자체별 참여 현황\\n배출권시장 정보플랫폼 (ets.krx.co.kr)\\nŸ교토의정서 발효를 통해 온실가스 배출권시장이 확대에 따라서 국가 온실가스 감\\n축목표를 설장하고 녹색성장기본법이 재정되면서 ‘12년 5월 배출권거래제법 제정\\nŸ배출권 관련 지침·법령 등 정책정보 / 배출권 시세정보 / 교육 및 행사 / 탄소금융\\nEG-TIPS 에너지온실가스 종합정보 플랫폼 (tips.energy.or.kr)\\nŸ한국에너지공단에서 운영하는 원스톱 에너지절감 및 온실가스감축 종합 포털\\nŸ100대 에너지통계 , 에너지맵 등 통계정보 / 국내외 동향정보 / 설비, 업종 등 \\n기술정보 / 중소기업 지원정보\\n기상청 기후정보포털 (www.climate.go.kr)\\nŸ국내외 기후변화 자료를 토대로 기후변화 과학 정보에 대한 이해를 돕고 기후변\\n화 연구 결과들의 활용도를 높이기 위한 정보시스템\\nŸ기후 관련 법령 / 기후변화감시 / 기후변화시나리오 / 기후 예측 정보', metadata={'source': '/content/[정책브리프 2021-04] 탄소중립 대응을 위한 정부 정책과 동향 (1).pdf', 'page': 15}), Document(page_content='014이노비즈협회\\n통계, 홍보, 사업 시스템\\n홈페이지 내 용\\n2050 탄소중립 (www.gihoo.or.kr/netzero)\\nŸ2050 탄소중립을 홍보하고 관련 소식 및 자료 공유\\nŸ탄소중립에 대한 정보 및 추진 내용, 보도자료 , 탄소중립 청년 서포터즈 등 사업 \\n참여 및 정보 열람\\n신·재생에너지코리아 (www.renewableenergy.or.kr)\\nŸ신·재생에너지 관련 홍보 채널\\nŸ국내·해외 뉴스, 신재생 발전사업 , 통계현황 , 홍보\\n환경정보공개시스템 (www.env-info.kr)\\nŸ환경경영에 대한 기업의 자발적 추진의지를 제고하고 국민과의 환경 소통을 활\\n성화하여 사회전반의 환경경영 기반 조성 및 자율적 환경관리체계 구축\\nŸ기관 및 기업의 환경정보공개 내용 열람, 환경경영 정책 및 동향 관련 자료 수록\\n국가온실가스 배출량 종합정보 시스템 (netis.kemco.or.kr)\\nŸ사업장별 연료 연소에 따른 모집단 자료를 DB로 구축하여 온실가스감축 의무부\\n담 협상에 필요한 전략 수립 근거로 확보 \\nŸ에너지 수요 관련 정책 및 연구 활동의 발전 및 활성화 인프라 제공\\nŸ온실가스배출량조사 및 에너지총조사 진행 및 각종 통계자료 제공\\n국가온실가스 종합관리시스템 (ngms.gir.go.kr)\\nŸ온실가스 ·에너지 목표관리제 , 온실가스 공공부문 목표관리제 , 온실가스 배출권거\\n래제도 관리 시스템\\nŸ사용자등록 , 교육신청 등 사업 참여 / 할당대상업체 , 목표관리대상업체 , 명세서배\\n출량통계 , 공공부문배출량 관련 통계자료 제공', metadata={'source': '/content/[정책브리프 2021-04] 탄소중립 대응을 위한 정부 정책과 동향 (1).pdf', 'page': 16}), Document(page_content='이노비즈 정책브리프\\n발행인 |임병훈\\n편집인 |김세종\\n발행일 |2021년 5월 18일\\n발행처 |이노비즈정책연구원\\n경기도 성남시 분당구 판교로 255(삼평동 ) 이노밸리 E동 202호\\n전화 : 031-628-9600   팩스 : 031-628-9611   홈페이지 : http://www.innobiz.or.kr\\n※ 본지에 게재된 내용은 필자 개인(연구진 )의 견해이며 , 이노비즈협회의 공식 견해와 일치하지 않을 수도 있습니다 .\\n※ 본지의 내용은 상업적으로 사용할 수 없으며 , 내용을 인용할 때는 반드시 출처를 밝혀주시기 바랍니다 .\\n※ 본지는 일반 학술연구와는 달리 시의성 , 정책현안의 긴급성 등의 이유로 포괄적 ·개괄적 인용을 허용하고 있습니다 .', metadata={'source': '/content/[정책브리프 2021-04] 탄소중립 대응을 위한 정부 정책과 동향 (1).pdf', 'page': 17}), Document(page_content='이노비즈 정책브리프\\nI n n o b i z  P o l i c y  B r i e f\\n2021.05\\n탄소중립 대응을 위한 정부 정책과 동향', metadata={'source': '/content/[정책브리프 2021-04] 탄소중립 대응을 위한 정부 정책과 동향 (1).pdf', 'page': 18})]\n"
          ]
        }
      ]
    },
    {
      "cell_type": "code",
      "source": [
        "char_list = []\n",
        "for i in range(len(texts)):\n",
        "  char_list.append(len(texts[i].page_content))\n",
        "\n",
        "print(char_list)\n",
        "#pdf가 그렇게 크지않아서  chunk_size와  chunk_overlap을 줄이니까 됌"
      ],
      "metadata": {
        "colab": {
          "base_uri": "https://localhost:8080/"
        },
        "id": "GT9PPIWmA4Go",
        "outputId": "5bf1044b-51cf-43d9-8eee-ffa0ad394b3f"
      },
      "execution_count": 28,
      "outputs": [
        {
          "output_type": "stream",
          "name": "stdout",
          "text": [
            "[175, 239, 987, 304, 977, 415, 999, 325, 974, 324, 942, 379, 975, 206, 986, 125, 840, 962, 823, 686, 855, 818, 823, 751, 366, 78]\n"
          ]
        }
      ]
    },
    {
      "cell_type": "code",
      "source": [
        "from langchain.text_splitter import RecursiveCharacterTextSplitter\n",
        "text_splitter = RecursiveCharacterTextSplitter(\n",
        "    chunk_size=250,\n",
        "    chunk_overlap=25,\n",
        "    length_function=len\n",
        ")"
      ],
      "metadata": {
        "id": "7gRfXh_tA5R4"
      },
      "execution_count": 32,
      "outputs": []
    },
    {
      "cell_type": "code",
      "source": [
        "texts = text_splitter.create_documents([text_gen_ai])\n",
        "\n",
        "\n",
        "char_list = []\n",
        "for i in range(len(texts)):\n",
        "  char_list.append(len(texts[i].page_content))\n",
        "\n",
        "print(char_list) #250자 미만으로 전부 잘려져있다\n",
        "print(len(char_list))"
      ],
      "metadata": {
        "colab": {
          "base_uri": "https://localhost:8080/"
        },
        "id": "Vp_n8lSQCBGW",
        "outputId": "33eb06f2-20be-47cd-84ac-9671c162fb5b"
      },
      "execution_count": 35,
      "outputs": [
        {
          "output_type": "stream",
          "name": "stdout",
          "text": [
            "[22, 243, 73, 245, 127, 247, 105, 50, 247, 186, 194, 247, 133, 72, 239, 247, 243, 186, 246, 48, 36, 248, 249, 59, 201, 213, 170, 247, 155, 244, 147, 213, 60, 215, 175, 244, 142, 243, 110, 201, 242, 22, 181, 186, 178, 85, 247, 238, 130, 51, 214, 77, 230, 177, 247, 131, 242, 108, 195, 246, 47, 222, 70, 246, 187, 248, 55, 238, 34, 242, 101, 52, 223, 217, 215, 193, 205, 149, 50, 248, 37, 223, 116, 153, 183, 51, 249, 95, 248, 245, 176, 141, 203, 231, 240, 192, 243, 89, 69, 246, 246, 33, 242, 207, 242, 138, 188, 232, 197, 245, 247, 247, 88, 61, 247, 35, 198, 246, 98, 188, 59, 248, 99, 248]\n",
            "124\n"
          ]
        }
      ]
    },
    {
      "cell_type": "code",
      "source": [
        "# RecursiveCharacterTextSplitter같은 경우는 재귀적으로 원하는 분량까지 쪼갠다"
      ],
      "metadata": {
        "id": "wJycCPPxCRqH"
      },
      "execution_count": null,
      "outputs": []
    },
    {
      "cell_type": "markdown",
      "source": [
        "# 토큰 단위 텍스트 분할기"
      ],
      "metadata": {
        "id": "9GyKNs4xJpzW"
      }
    },
    {
      "cell_type": "code",
      "source": [
        "!pip install tiktoken"
      ],
      "metadata": {
        "colab": {
          "base_uri": "https://localhost:8080/"
        },
        "id": "hBOzJs2_JqGL",
        "outputId": "957b4e50-8604-43b6-e210-8b1c6c24dd6c"
      },
      "execution_count": 36,
      "outputs": [
        {
          "output_type": "stream",
          "name": "stdout",
          "text": [
            "Collecting tiktoken\n",
            "  Downloading tiktoken-0.5.2-cp310-cp310-manylinux_2_17_x86_64.manylinux2014_x86_64.whl (2.0 MB)\n",
            "\u001b[2K     \u001b[90m━━━━━━━━━━━━━━━━━━━━━━━━━━━━━━━━━━━━━━━━\u001b[0m \u001b[32m2.0/2.0 MB\u001b[0m \u001b[31m29.8 MB/s\u001b[0m eta \u001b[36m0:00:00\u001b[0m\n",
            "\u001b[?25hRequirement already satisfied: regex>=2022.1.18 in /usr/local/lib/python3.10/dist-packages (from tiktoken) (2023.6.3)\n",
            "Requirement already satisfied: requests>=2.26.0 in /usr/local/lib/python3.10/dist-packages (from tiktoken) (2.31.0)\n",
            "Requirement already satisfied: charset-normalizer<4,>=2 in /usr/local/lib/python3.10/dist-packages (from requests>=2.26.0->tiktoken) (3.3.2)\n",
            "Requirement already satisfied: idna<4,>=2.5 in /usr/local/lib/python3.10/dist-packages (from requests>=2.26.0->tiktoken) (3.6)\n",
            "Requirement already satisfied: urllib3<3,>=1.21.1 in /usr/local/lib/python3.10/dist-packages (from requests>=2.26.0->tiktoken) (2.0.7)\n",
            "Requirement already satisfied: certifi>=2017.4.17 in /usr/local/lib/python3.10/dist-packages (from requests>=2.26.0->tiktoken) (2023.11.17)\n",
            "Installing collected packages: tiktoken\n",
            "\u001b[31mERROR: pip's dependency resolver does not currently take into account all the packages that are installed. This behaviour is the source of the following dependency conflicts.\n",
            "llmx 0.0.15a0 requires cohere, which is not installed.\n",
            "llmx 0.0.15a0 requires openai, which is not installed.\u001b[0m\u001b[31m\n",
            "\u001b[0mSuccessfully installed tiktoken-0.5.2\n"
          ]
        }
      ]
    },
    {
      "cell_type": "code",
      "source": [
        "# tokenizer를 준비하는 과정\n",
        "import tiktoken\n",
        "tokenizer = tiktoken.get_encoding('cl100k_base')\n",
        "\n",
        "def tiktoken_len(text):\n",
        "  tokens = tokenizer.encode(text)\n",
        "  return len(tokens)"
      ],
      "metadata": {
        "id": "ihUgG6PuJrZi"
      },
      "execution_count": 37,
      "outputs": []
    },
    {
      "cell_type": "code",
      "source": [
        "print(texts[1].page_content)\n",
        "print(len(texts[1].page_content))\n",
        "print(tiktoken_len(texts[1].page_content))\n"
      ],
      "metadata": {
        "colab": {
          "base_uri": "https://localhost:8080/"
        },
        "id": "bab5kzoBJssi",
        "outputId": "b712a402-1fe0-4fe9-abbe-88fc58c42bac"
      },
      "execution_count": 38,
      "outputs": [
        {
          "output_type": "stream",
          "name": "stdout",
          "text": [
            "Generative AI can learn from existing artifacts to generate new, realistic artifacts (at scale) that reflect the characteristics of the training data but don’t repeat it. It can produce a variety of novel content, such as images, video, music,\n",
            "243\n",
            "49\n"
          ]
        }
      ]
    },
    {
      "cell_type": "code",
      "source": [
        "text_splitter = RecursiveCharacterTextSplitter(\n",
        "    chunk_size=100,\n",
        "    chunk_overlap=10,\n",
        "    length_function=tiktoken_len\n",
        "\n",
        ")\n",
        "\n",
        "texts = text_splitter.split_documents(pages)"
      ],
      "metadata": {
        "id": "aXBlB88TJtsL"
      },
      "execution_count": 42,
      "outputs": []
    },
    {
      "cell_type": "code",
      "source": [
        "print(texts[1].page_content)\n",
        "print(len(texts[1].page_content))\n",
        "print(tiktoken_len(texts[1].page_content))\n",
        "#한글은 유니코드로 되어있고 기본적으로 32비트임 그렇기때문에 보통 token 수가 늘어남"
      ],
      "metadata": {
        "colab": {
          "base_uri": "https://localhost:8080/"
        },
        "id": "ZTCEhNnZKcD0",
        "outputId": "3b2f114c-a09e-4b07-b41a-5cd8f2fd77d4"
      },
      "execution_count": 45,
      "outputs": [
        {
          "output_type": "stream",
          "name": "stdout",
          "text": [
            "–\n",
            "2021-04 호\n",
            "–\n",
            "발행처\n",
            "이노비즈정책연구원\n",
            "–\n",
            "발행인\n",
            "임병훈\n",
            "–\n",
            "편집인\n",
            "김세종\n",
            "–\n",
            "http://www.innobiz.or.kr\n",
            "74\n",
            "73\n"
          ]
        }
      ]
    },
    {
      "cell_type": "code",
      "source": [
        "\n"
      ],
      "metadata": {
        "id": "mZY-Myh1Kmo1"
      },
      "execution_count": null,
      "outputs": []
    }
  ]
}