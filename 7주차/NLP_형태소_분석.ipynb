{
  "nbformat": 4,
  "nbformat_minor": 0,
  "metadata": {
    "colab": {
      "provenance": [],
      "authorship_tag": "ABX9TyPsMUdzEPzNbuZzxYAkKZSR",
      "include_colab_link": true
    },
    "kernelspec": {
      "name": "python3",
      "display_name": "Python 3"
    },
    "language_info": {
      "name": "python"
    }
  },
  "cells": [
    {
      "cell_type": "markdown",
      "metadata": {
        "id": "view-in-github",
        "colab_type": "text"
      },
      "source": [
        "<a href=\"https://colab.research.google.com/github/barabonda/SK-AI-FLY/blob/main/7%EC%A3%BC%EC%B0%A8/NLP_%ED%98%95%ED%83%9C%EC%86%8C_%EB%B6%84%EC%84%9D.ipynb\" target=\"_parent\"><img src=\"https://colab.research.google.com/assets/colab-badge.svg\" alt=\"Open In Colab\"/></a>"
      ]
    },
    {
      "cell_type": "code",
      "source": [
        "!pip install konlpy"
      ],
      "metadata": {
        "colab": {
          "base_uri": "https://localhost:8080/"
        },
        "id": "2uoFvan1Horg",
        "outputId": "427cd7f6-9268-4d73-e19e-31a996b42495"
      },
      "execution_count": 2,
      "outputs": [
        {
          "output_type": "stream",
          "name": "stdout",
          "text": [
            "Collecting konlpy\n",
            "  Downloading konlpy-0.6.0-py2.py3-none-any.whl (19.4 MB)\n",
            "\u001b[2K     \u001b[90m━━━━━━━━━━━━━━━━━━━━━━━━━━━━━━━━━━━━━━━━\u001b[0m \u001b[32m19.4/19.4 MB\u001b[0m \u001b[31m62.5 MB/s\u001b[0m eta \u001b[36m0:00:00\u001b[0m\n",
            "\u001b[?25hCollecting JPype1>=0.7.0 (from konlpy)\n",
            "  Downloading JPype1-1.5.0-cp310-cp310-manylinux_2_17_x86_64.manylinux2014_x86_64.whl (488 kB)\n",
            "\u001b[2K     \u001b[90m━━━━━━━━━━━━━━━━━━━━━━━━━━━━━━━━━━━━━━━━\u001b[0m \u001b[32m488.6/488.6 kB\u001b[0m \u001b[31m32.5 MB/s\u001b[0m eta \u001b[36m0:00:00\u001b[0m\n",
            "\u001b[?25hRequirement already satisfied: lxml>=4.1.0 in /usr/local/lib/python3.10/dist-packages (from konlpy) (4.9.4)\n",
            "Requirement already satisfied: numpy>=1.6 in /usr/local/lib/python3.10/dist-packages (from konlpy) (1.23.5)\n",
            "Requirement already satisfied: packaging in /usr/local/lib/python3.10/dist-packages (from JPype1>=0.7.0->konlpy) (23.2)\n",
            "Installing collected packages: JPype1, konlpy\n",
            "Successfully installed JPype1-1.5.0 konlpy-0.6.0\n"
          ]
        }
      ]
    },
    {
      "cell_type": "code",
      "execution_count": 7,
      "metadata": {
        "colab": {
          "base_uri": "https://localhost:8080/"
        },
        "id": "cSzybHJMHh7E",
        "outputId": "f99eecbd-81da-499a-e21c-be0b3425f8c9"
      },
      "outputs": [
        {
          "output_type": "stream",
          "name": "stdout",
          "text": [
            "['앞', '으로', '도', '파이', '팅', ',', '그리고', '잘하', '고', '있', '어', '너', '는']\n",
            "[('앞', 'NNG'), ('으로', 'JKM'), ('도', 'JX'), ('파이', 'NNG'), ('팅', 'UN'), (',', 'SP'), ('그리고', 'MAC'), ('잘하', 'VV'), ('고', 'ECE'), ('있', 'VXV'), ('어', 'ECD'), ('너', 'NP'), ('는', 'JX')]\n",
            "['앞', '파이', '파이팅', '팅', '너']\n",
            "['안녕하십니까', '잘하고 있어 너는']\n"
          ]
        }
      ],
      "source": [
        "from konlpy.tag import Kkma\n",
        "# 꼬꼬마 형태소 분석기 객체 생성\n",
        "kkma = Kkma()\n",
        "text = \"앞으로도 파이팅, 그리고 잘하고 있어 너는\"\n",
        "\n",
        "# 형태소 추출\n",
        "morphs = kkma.morphs(text)\n",
        "print(morphs)\n",
        "\n",
        "# 형태소와 품사 태그 추출\n",
        "pos = kkma.pos(text)\n",
        "print(pos)\n",
        "\n",
        "# 명사만 추출\n",
        "nouns = kkma.nouns(text)\n",
        "print(nouns)\n",
        "\n",
        "# 문장 분리\n",
        "sentences = \"안녕하십니까 잘하고 있어 너는\"\n",
        "s = kkma.sentences(sentences)\n",
        "print(s)"
      ]
    },
    {
      "cell_type": "code",
      "source": [
        "from konlpy.tag import Komoran\n",
        "\n",
        "# 코모란 형태소 분석기 객체 생성\n",
        "komoran = Komoran()\n",
        "text = \"아버지가 방에 들어갑니다.\"\n",
        "\n",
        "# 형태소 추출\n",
        "morphs = komoran.morphs(text)\n",
        "print(morphs)\n",
        "\n",
        "# 형태소와 품사 태그 추출\n",
        "pos = komoran.pos(text)\n",
        "print(pos)\n",
        "\n",
        "# 명사만 추출\n",
        "nouns = komoran.nouns(text)\n",
        "print(nouns)"
      ],
      "metadata": {
        "colab": {
          "base_uri": "https://localhost:8080/"
        },
        "id": "2OWrUIdRHimc",
        "outputId": "74aad531-354d-473f-f3ef-e3fcfff4e57a"
      },
      "execution_count": 8,
      "outputs": [
        {
          "output_type": "stream",
          "name": "stdout",
          "text": [
            "['아버지', '가', '방', '에', '들어가', 'ㅂ니다', '.']\n",
            "[('아버지', 'NNG'), ('가', 'JKS'), ('방', 'NNG'), ('에', 'JKB'), ('들어가', 'VV'), ('ㅂ니다', 'EF'), ('.', 'SF')]\n",
            "['아버지', '방']\n"
          ]
        }
      ]
    },
    {
      "cell_type": "code",
      "source": [
        "from konlpy.tag import Okt\n",
        "\n",
        "# Okt 형태소 분석기 객체 생성\n",
        "okt = Okt()\n",
        "text = \"아버지가 방에 들어갑니다.\"\n",
        "\n",
        "# 형태소 추출\n",
        "morphs = okt.morphs(text)\n",
        "print(morphs)\n",
        "\n",
        "# 형태소와 품사 태그 추출\n",
        "pos = okt.pos(text)\n",
        "print(pos)\n",
        "\n",
        "# 명사만 추출\n",
        "nouns = okt.nouns(text)\n",
        "print(nouns)\n",
        "\n",
        "# 정규화, 어구 추출\n",
        "text = \"오늘 날씨가 좋아욬ㅋㅋ\"\n",
        "print(okt.normalize(text))\n",
        "print(okt.phrases(text))"
      ],
      "metadata": {
        "id": "9GxPANysJJh3"
      },
      "execution_count": null,
      "outputs": []
    },
    {
      "cell_type": "code",
      "source": [
        "from konlpy.tag import Komoran\n",
        "\n",
        "komoran = Komoran()\n",
        "text = \"할망, 노리는 촘말로 보물이우다\"\n",
        "pos = komoran.pos(text)\n",
        "print(pos)"
      ],
      "metadata": {
        "id": "RZgZEEJDWPZU",
        "outputId": "11e9bdc9-7e25-4ee1-9341-b11d31d2286b",
        "colab": {
          "base_uri": "https://localhost:8080/"
        }
      },
      "execution_count": 17,
      "outputs": [
        {
          "output_type": "stream",
          "name": "stdout",
          "text": [
            "[('하', 'VV'), ('ㄹ', 'ETM'), ('망', 'NNG'), (',', 'SP'), ('노리', 'VV'), ('는', 'ETM'), ('촘말로', 'NA'), ('보물', 'NNP'), ('이우', 'NNP'), ('다', 'JX')]\n"
          ]
        }
      ]
    },
    {
      "cell_type": "code",
      "source": [
        "from konlpy.tag import Komoran\n",
        "\n",
        "komoran = Komoran(userdic='/content/HID.tsv')\n",
        "text = \"할망, 노리는 촘말로 보물이우다\"\n",
        "pos = komoran.pos(text)\n",
        "print(pos)"
      ],
      "metadata": {
        "colab": {
          "base_uri": "https://localhost:8080/"
        },
        "id": "OuNbyjeBKxox",
        "outputId": "6a144057-c452-4755-bdca-4f203ce6983a"
      },
      "execution_count": 16,
      "outputs": [
        {
          "output_type": "stream",
          "name": "stdout",
          "text": [
            "[('할망', 'NNG'), (',', 'SP'), ('노리', 'NNG'), ('는', 'JX'), ('촘말로', 'MAG'), ('보물', 'NNG'), ('이우', 'NNP'), ('다', 'JX')]\n"
          ]
        }
      ]
    },
    {
      "cell_type": "code",
      "source": [],
      "metadata": {
        "id": "9xoYwwEnVPfs"
      },
      "execution_count": null,
      "outputs": []
    }
  ]
}