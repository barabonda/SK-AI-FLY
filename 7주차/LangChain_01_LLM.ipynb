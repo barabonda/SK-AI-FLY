{
  "nbformat": 4,
  "nbformat_minor": 0,
  "metadata": {
    "colab": {
      "provenance": [],
      "authorship_tag": "ABX9TyPqLxPS9uXj9m9FvOjf+vKc",
      "include_colab_link": true
    },
    "kernelspec": {
      "name": "python3",
      "display_name": "Python 3"
    },
    "language_info": {
      "name": "python"
    }
  },
  "cells": [
    {
      "cell_type": "markdown",
      "metadata": {
        "id": "view-in-github",
        "colab_type": "text"
      },
      "source": [
        "<a href=\"https://colab.research.google.com/github/barabonda/SK-AI-FLY/blob/main/7%EC%A3%BC%EC%B0%A8/LangChain_01_LLM.ipynb\" target=\"_parent\"><img src=\"https://colab.research.google.com/assets/colab-badge.svg\" alt=\"Open In Colab\"/></a>"
      ]
    },
    {
      "cell_type": "code",
      "execution_count": 3,
      "metadata": {
        "colab": {
          "base_uri": "https://localhost:8080/"
        },
        "id": "R76CSPAtw_FV",
        "outputId": "26d48f54-4119-416d-df9e-7f01f90497ad"
      },
      "outputs": [
        {
          "output_type": "stream",
          "name": "stdout",
          "text": [
            "Collecting openai\n",
            "  Downloading openai-1.10.0-py3-none-any.whl (225 kB)\n",
            "\u001b[?25l     \u001b[90m━━━━━━━━━━━━━━━━━━━━━━━━━━━━━━━━━━━━━━━━\u001b[0m \u001b[32m0.0/225.1 kB\u001b[0m \u001b[31m?\u001b[0m eta \u001b[36m-:--:--\u001b[0m\r\u001b[2K     \u001b[91m━━━━━━━━━━\u001b[0m\u001b[91m╸\u001b[0m\u001b[90m━━━━━━━━━━━━━━━━━━━━━━━━━━━━━\u001b[0m \u001b[32m61.4/225.1 kB\u001b[0m \u001b[31m1.8 MB/s\u001b[0m eta \u001b[36m0:00:01\u001b[0m\r\u001b[2K     \u001b[90m━━━━━━━━━━━━━━━━━━━━━━━━━━━━━━━━━━━━━━━━\u001b[0m \u001b[32m225.1/225.1 kB\u001b[0m \u001b[31m3.7 MB/s\u001b[0m eta \u001b[36m0:00:00\u001b[0m\n",
            "\u001b[?25hRequirement already satisfied: anyio<5,>=3.5.0 in /usr/local/lib/python3.10/dist-packages (from openai) (3.7.1)\n",
            "Requirement already satisfied: distro<2,>=1.7.0 in /usr/lib/python3/dist-packages (from openai) (1.7.0)\n",
            "Collecting httpx<1,>=0.23.0 (from openai)\n",
            "  Downloading httpx-0.26.0-py3-none-any.whl (75 kB)\n",
            "\u001b[2K     \u001b[90m━━━━━━━━━━━━━━━━━━━━━━━━━━━━━━━━━━━━━━━━\u001b[0m \u001b[32m75.9/75.9 kB\u001b[0m \u001b[31m9.3 MB/s\u001b[0m eta \u001b[36m0:00:00\u001b[0m\n",
            "\u001b[?25hRequirement already satisfied: pydantic<3,>=1.9.0 in /usr/local/lib/python3.10/dist-packages (from openai) (1.10.14)\n",
            "Requirement already satisfied: sniffio in /usr/local/lib/python3.10/dist-packages (from openai) (1.3.0)\n",
            "Requirement already satisfied: tqdm>4 in /usr/local/lib/python3.10/dist-packages (from openai) (4.66.1)\n",
            "Collecting typing-extensions<5,>=4.7 (from openai)\n",
            "  Downloading typing_extensions-4.9.0-py3-none-any.whl (32 kB)\n",
            "Requirement already satisfied: idna>=2.8 in /usr/local/lib/python3.10/dist-packages (from anyio<5,>=3.5.0->openai) (3.6)\n",
            "Requirement already satisfied: exceptiongroup in /usr/local/lib/python3.10/dist-packages (from anyio<5,>=3.5.0->openai) (1.2.0)\n",
            "Requirement already satisfied: certifi in /usr/local/lib/python3.10/dist-packages (from httpx<1,>=0.23.0->openai) (2023.11.17)\n",
            "Collecting httpcore==1.* (from httpx<1,>=0.23.0->openai)\n",
            "  Downloading httpcore-1.0.2-py3-none-any.whl (76 kB)\n",
            "\u001b[2K     \u001b[90m━━━━━━━━━━━━━━━━━━━━━━━━━━━━━━━━━━━━━━━━\u001b[0m \u001b[32m76.9/76.9 kB\u001b[0m \u001b[31m8.8 MB/s\u001b[0m eta \u001b[36m0:00:00\u001b[0m\n",
            "\u001b[?25hCollecting h11<0.15,>=0.13 (from httpcore==1.*->httpx<1,>=0.23.0->openai)\n",
            "  Downloading h11-0.14.0-py3-none-any.whl (58 kB)\n",
            "\u001b[2K     \u001b[90m━━━━━━━━━━━━━━━━━━━━━━━━━━━━━━━━━━━━━━━━\u001b[0m \u001b[32m58.3/58.3 kB\u001b[0m \u001b[31m6.6 MB/s\u001b[0m eta \u001b[36m0:00:00\u001b[0m\n",
            "\u001b[?25hInstalling collected packages: typing-extensions, h11, httpcore, httpx, openai\n",
            "  Attempting uninstall: typing-extensions\n",
            "    Found existing installation: typing_extensions 4.5.0\n",
            "    Uninstalling typing_extensions-4.5.0:\n",
            "      Successfully uninstalled typing_extensions-4.5.0\n",
            "\u001b[31mERROR: pip's dependency resolver does not currently take into account all the packages that are installed. This behaviour is the source of the following dependency conflicts.\n",
            "llmx 0.0.15a0 requires cohere, which is not installed.\n",
            "llmx 0.0.15a0 requires tiktoken, which is not installed.\n",
            "tensorflow-probability 0.22.0 requires typing-extensions<4.6.0, but you have typing-extensions 4.9.0 which is incompatible.\u001b[0m\u001b[31m\n",
            "\u001b[0mSuccessfully installed h11-0.14.0 httpcore-1.0.2 httpx-0.26.0 openai-1.10.0 typing-extensions-4.9.0\n",
            "Requirement already satisfied: langchain in /usr/local/lib/python3.10/dist-packages (0.1.4)\n",
            "Requirement already satisfied: PyYAML>=5.3 in /usr/local/lib/python3.10/dist-packages (from langchain) (6.0.1)\n",
            "Requirement already satisfied: SQLAlchemy<3,>=1.4 in /usr/local/lib/python3.10/dist-packages (from langchain) (2.0.24)\n",
            "Requirement already satisfied: aiohttp<4.0.0,>=3.8.3 in /usr/local/lib/python3.10/dist-packages (from langchain) (3.9.1)\n",
            "Requirement already satisfied: async-timeout<5.0.0,>=4.0.0 in /usr/local/lib/python3.10/dist-packages (from langchain) (4.0.3)\n",
            "Requirement already satisfied: dataclasses-json<0.7,>=0.5.7 in /usr/local/lib/python3.10/dist-packages (from langchain) (0.6.3)\n",
            "Requirement already satisfied: jsonpatch<2.0,>=1.33 in /usr/local/lib/python3.10/dist-packages (from langchain) (1.33)\n",
            "Requirement already satisfied: langchain-community<0.1,>=0.0.14 in /usr/local/lib/python3.10/dist-packages (from langchain) (0.0.16)\n",
            "Requirement already satisfied: langchain-core<0.2,>=0.1.16 in /usr/local/lib/python3.10/dist-packages (from langchain) (0.1.17)\n",
            "Requirement already satisfied: langsmith<0.1,>=0.0.83 in /usr/local/lib/python3.10/dist-packages (from langchain) (0.0.84)\n",
            "Requirement already satisfied: numpy<2,>=1 in /usr/local/lib/python3.10/dist-packages (from langchain) (1.23.5)\n",
            "Requirement already satisfied: pydantic<3,>=1 in /usr/local/lib/python3.10/dist-packages (from langchain) (1.10.14)\n",
            "Requirement already satisfied: requests<3,>=2 in /usr/local/lib/python3.10/dist-packages (from langchain) (2.31.0)\n",
            "Requirement already satisfied: tenacity<9.0.0,>=8.1.0 in /usr/local/lib/python3.10/dist-packages (from langchain) (8.2.3)\n",
            "Requirement already satisfied: attrs>=17.3.0 in /usr/local/lib/python3.10/dist-packages (from aiohttp<4.0.0,>=3.8.3->langchain) (23.2.0)\n",
            "Requirement already satisfied: multidict<7.0,>=4.5 in /usr/local/lib/python3.10/dist-packages (from aiohttp<4.0.0,>=3.8.3->langchain) (6.0.4)\n",
            "Requirement already satisfied: yarl<2.0,>=1.0 in /usr/local/lib/python3.10/dist-packages (from aiohttp<4.0.0,>=3.8.3->langchain) (1.9.4)\n",
            "Requirement already satisfied: frozenlist>=1.1.1 in /usr/local/lib/python3.10/dist-packages (from aiohttp<4.0.0,>=3.8.3->langchain) (1.4.1)\n",
            "Requirement already satisfied: aiosignal>=1.1.2 in /usr/local/lib/python3.10/dist-packages (from aiohttp<4.0.0,>=3.8.3->langchain) (1.3.1)\n",
            "Requirement already satisfied: marshmallow<4.0.0,>=3.18.0 in /usr/local/lib/python3.10/dist-packages (from dataclasses-json<0.7,>=0.5.7->langchain) (3.20.2)\n",
            "Requirement already satisfied: typing-inspect<1,>=0.4.0 in /usr/local/lib/python3.10/dist-packages (from dataclasses-json<0.7,>=0.5.7->langchain) (0.9.0)\n",
            "Requirement already satisfied: jsonpointer>=1.9 in /usr/local/lib/python3.10/dist-packages (from jsonpatch<2.0,>=1.33->langchain) (2.4)\n",
            "Requirement already satisfied: anyio<5,>=3 in /usr/local/lib/python3.10/dist-packages (from langchain-core<0.2,>=0.1.16->langchain) (3.7.1)\n",
            "Requirement already satisfied: packaging<24.0,>=23.2 in /usr/local/lib/python3.10/dist-packages (from langchain-core<0.2,>=0.1.16->langchain) (23.2)\n",
            "Requirement already satisfied: typing-extensions>=4.2.0 in /usr/local/lib/python3.10/dist-packages (from pydantic<3,>=1->langchain) (4.9.0)\n",
            "Requirement already satisfied: charset-normalizer<4,>=2 in /usr/local/lib/python3.10/dist-packages (from requests<3,>=2->langchain) (3.3.2)\n",
            "Requirement already satisfied: idna<4,>=2.5 in /usr/local/lib/python3.10/dist-packages (from requests<3,>=2->langchain) (3.6)\n",
            "Requirement already satisfied: urllib3<3,>=1.21.1 in /usr/local/lib/python3.10/dist-packages (from requests<3,>=2->langchain) (2.0.7)\n",
            "Requirement already satisfied: certifi>=2017.4.17 in /usr/local/lib/python3.10/dist-packages (from requests<3,>=2->langchain) (2023.11.17)\n",
            "Requirement already satisfied: greenlet!=0.4.17 in /usr/local/lib/python3.10/dist-packages (from SQLAlchemy<3,>=1.4->langchain) (3.0.3)\n",
            "Requirement already satisfied: sniffio>=1.1 in /usr/local/lib/python3.10/dist-packages (from anyio<5,>=3->langchain-core<0.2,>=0.1.16->langchain) (1.3.0)\n",
            "Requirement already satisfied: exceptiongroup in /usr/local/lib/python3.10/dist-packages (from anyio<5,>=3->langchain-core<0.2,>=0.1.16->langchain) (1.2.0)\n",
            "Requirement already satisfied: mypy-extensions>=0.3.0 in /usr/local/lib/python3.10/dist-packages (from typing-inspect<1,>=0.4.0->dataclasses-json<0.7,>=0.5.7->langchain) (1.0.0)\n"
          ]
        }
      ],
      "source": [
        "!pip install openai\n",
        "!pip install langchain"
      ]
    },
    {
      "cell_type": "code",
      "source": [
        "import os\n",
        "\n",
        "os.environ['OPENAI_API_KEY'] = '3a9d04966a3c43ca92de7be4b803d6f7'\n",
        "os.environ['AZURE_OPENAI_ENDPOINT'] = 'https://skyfly-001.openai.azure.com/'\n",
        "os.environ['OPENAI_API_TYPE'] = 'azure'\n",
        "os.environ['OPENAI_API_VERSION'] = '2023-05-15'"
      ],
      "metadata": {
        "id": "AgoJqrrvxOOx"
      },
      "execution_count": 4,
      "outputs": []
    },
    {
      "cell_type": "code",
      "source": [
        "from langchain.llms import AzureOpenAI\n",
        "\n",
        "llm = AzureOpenAI(\n",
        "                  deployment_name='dev-gpt-35-turbo-instruct' #instruct가 안붙은게대화형 모델\n",
        "\n",
        "      )\n",
        "\n",
        "llm.invoke('why python is the most popular language?')\n"
      ],
      "metadata": {
        "colab": {
          "base_uri": "https://localhost:8080/",
          "height": 236
        },
        "id": "tc0Trmmc2FXn",
        "outputId": "a757a8e8-96da-493f-f463-a7d359708e31"
      },
      "execution_count": 7,
      "outputs": [
        {
          "output_type": "execute_result",
          "data": {
            "text/plain": [
              "'\\n\\n1. Versatility: Python is a general-purpose language, meaning it can be used for a wide range of applications such as web development, data analysis, machine learning, and scientific computing. This versatility makes it a popular choice among developers.\\n\\n2. Easy to Learn: Python is known for its simple and easy-to-understand syntax, making it a great language for beginners to learn. The clean and readable code also makes it easier to maintain and debug, saving time and effort for developers.\\n\\n3. Large Community and Support: Python has a large and active community of developers who contribute to its growth and improvement. This community also provides support to beginners and experienced developers, making it easier to learn and troubleshoot any issues.\\n\\n4. Extensive Libraries and Frameworks: Python has an extensive collection of libraries and frameworks that can be used for various tasks, such as data analysis, web development, and machine learning. These pre-built tools save developers time and effort in writing code from scratch.\\n\\n5. High Demand in the Job Market: Python is in high demand in the job market, with many companies using it for various applications. This makes it a popular language among developers seeking employment opportunities.\\n\\n6. Integration and Interoperability: Python can easily integrate with other languages and tools,'"
            ],
            "application/vnd.google.colaboratory.intrinsic+json": {
              "type": "string"
            }
          },
          "metadata": {},
          "execution_count": 7
        }
      ]
    },
    {
      "cell_type": "markdown",
      "source": [
        "언어 모델의 사이즈\n",
        "GPT4 > GPT 3.5 > Davinci > Babbage > Ada"
      ],
      "metadata": {
        "id": "pLAiB6bB4D9n"
      }
    },
    {
      "cell_type": "code",
      "source": [],
      "metadata": {
        "id": "46p6vp1VA1qa"
      },
      "execution_count": null,
      "outputs": []
    },
    {
      "cell_type": "code",
      "source": [],
      "metadata": {
        "id": "hqlkUAw7A140"
      },
      "execution_count": null,
      "outputs": []
    },
    {
      "cell_type": "code",
      "source": [
        "from langchain.chat_models import AzureChatOpenAI\n",
        "\n",
        "chatgpt = AzureChatOpenAI(deployment_name='dev-gpt-35-turbo', temperature=1)\n",
        "answer = chatgpt.invoke('Why Python is the most popular language? answer the Korean')\n",
        "print(answer.content)"
      ],
      "metadata": {
        "colab": {
          "base_uri": "https://localhost:8080/"
        },
        "id": "21q8Ao_22-HA",
        "outputId": "d3806544-440e-4aec-ab3b-7a478834e3a2"
      },
      "execution_count": 20,
      "outputs": [
        {
          "output_type": "stream",
          "name": "stdout",
          "text": [
            "파이썬은 현재 가장 인기있는 프로그래밍 언어로써 다양한 이유로 인해 인기를 얻고 있습니다.\n",
            "\n",
            "1. 문법의 간결성: 파이썬은 간결하고 읽기 쉬운 문법을 가지고 있어 입문자에게 이해하기 쉽습니다. 프로그램의 작성과 유지 보수가 쉬워 빠른 개발을 가능하게 합니다.\n",
            "\n",
            "2. 다양한 용도로의 적용: 파이썬은 웹 개발, 데이터 분석, 인공 지능, 게임 개발 등 다양한 분야에서 활용할 수 있으며, 다른 프로그래밍 언어들과도 쉽게 통합하기 때문에 유연한 사용이 가능합니다.\n",
            "\n",
            "3. 생태계의 발전: 다양한 개발자 커뮤니티와 오픈소스 프로젝트가 활발히 이루어지고 있어 파이썬의 생태계가 빠르게 발전하고 있습니다. 사용자들은 다양한 라이브러리와 도구를 활용할 수 있어 빠른 개발이 가능하다는 장점을 가지고 있습니다.\n",
            "\n",
            "4. 산업적 요구의 증가: 데이터 분석, 기계 학습, 인공 지능 등의 분야에서 파이썬이 많이 사용되고 있습니다. 이러한 분야에서 파이썬은 다른 언어들보다 편리하고 실용적인 해결책을 제공하고 있어 인기를 얻었습니다.\n",
            "\n",
            "5. 커뮤니티의 활동성: 파이썬은 프로그래머들의 커뮤니티가 활발하며 지속적으로 업데이트와 개선이 이루어지고 있습니다. 이러한 활발한 커뮤니티 활동으로 파이썬은 지속적으로 발전하고 있는 언어로 인식되고 있습니다.\n",
            "\n",
            "이러한 이유들로 인해 파이썬은 현재 가장 인기있는 프로그래밍 언어로 선호되고 있습니다.\n"
          ]
        }
      ]
    },
    {
      "cell_type": "code",
      "source": [
        "\n",
        "from langchain.callbacks.streaming_stdout import StreamingStdOutCallbackHandler\n",
        "chatgpt = AzureChatOpenAI(deployment_name='dev-gpt-35-turbo',\n",
        "                          temperature=1,\n",
        "                          streaming=True,\n",
        "                          callbacks=[StreamingStdOutCallbackHandler()])\n",
        "answer = chatgpt.invoke('why python is the most popular language?')"
      ],
      "metadata": {
        "colab": {
          "base_uri": "https://localhost:8080/"
        },
        "id": "zeY-NCs25BT4",
        "outputId": "4cd8b6c0-c4a7-4e0e-958a-9fa3dc0ff61a"
      },
      "execution_count": 21,
      "outputs": [
        {
          "output_type": "stream",
          "name": "stdout",
          "text": [
            "Python is considered one of the most popular programming languages for several reasons:\n",
            "\n",
            "1. Easy-to-learn syntax: Python has a simple and readable syntax, making it easier for beginners to understand and write code. Its code readability is often compared to writing in plain English.\n",
            "\n",
            "2. Versatility: Python can be used for a wide variety of applications, such as web development, data analysis, machine learning, scientific computing, artificial intelligence, and more. Its versatility makes it applicable to many different fields.\n",
            "\n",
            "3. Vast library ecosystem: Python has a vast collection of libraries and frameworks that enable developers to quickly and easily implement complex functionalities without having to build everything from scratch. Popular libraries like NumPy, Pandas, and TensorFlow make tasks like data manipulation, analysis, and machine learning more accessible.\n",
            "\n",
            "4. Community and support: Python has a vibrant and supportive community of developers who contribute to open-source projects, share knowledge, and help each other solve problems. The availability of online resources, documentation, and tutorials makes learning Python easier.\n",
            "\n",
            "5. Scalability and performance: Although Python is an interpreted language, which means it may not be as fast as compiled languages like C++, it offers robust performance with options for optimization. Python also supports parallel processing and provides integration capabilities with other languages for performance-critical tasks.\n",
            "\n",
            "6. Adopted by industry giants: Many large technology companies, such as Google, Facebook, Netflix, and Instagram, have adopted Python for their projects. This widespread usage has contributed to Python's popularity and increased demand for Python developers in the job market.\n",
            "\n",
            "Overall, Python's ease of use, versatility, extensive library ecosystem, strong community support, and adoption by industry players have collectively contributed to its popularity."
          ]
        }
      ]
    },
    {
      "cell_type": "code",
      "source": [
        "from langchain.chat_models import AzureChatOpenAI\n",
        "from langchain.schema import SystemMessage, AIMessage, HumanMessage\n",
        "\n",
        "chatgpt = AzureChatOpenAI(deployment_name = 'dev-gpt-35-turbo', temperature = 0)\n",
        "\n",
        "messages = [\n",
        "    SystemMessage(content='You are a helpful assistant that translates English to Korean'),\n",
        "    HumanMessage(content='I love langchain')\n",
        "]\n",
        "\n",
        "responce = chatgpt(messages)\n",
        "responce"
      ],
      "metadata": {
        "colab": {
          "base_uri": "https://localhost:8080/"
        },
        "id": "f0yF4p-_AtmG",
        "outputId": "a5b2d328-e170-4272-ec12-fee0dc8f7bee"
      },
      "execution_count": 29,
      "outputs": [
        {
          "output_type": "execute_result",
          "data": {
            "text/plain": [
              "AIMessage(content='저는 랭체인을 사랑합니다.')"
            ]
          },
          "metadata": {},
          "execution_count": 29
        }
      ]
    },
    {
      "cell_type": "code",
      "source": [
        "chatgpt = AzureChatOpenAI(deployment_name = 'dev-gpt-35-turbo',\n",
        "                          temperature = 1,\n",
        "                          streaming=True,\n",
        "                          callbacks = [StreamingStdOutCallbackHandler()])\n",
        "messages = [\n",
        "    SystemMessage(content = '당신은 공부 계획을 세워주는 스터디 플래너 머신입니다. 사용자의 공부 주제를 입력 받으면 이를 합습하기 위한 공부 계획을 세워 줍니다.'),\n",
        "    HumanMessage(content = 'Large Language Model에 대해서 공부하고 싶어요ㅑ')\n",
        "]\n",
        "answer = chatgpt(messages)"
      ],
      "metadata": {
        "colab": {
          "base_uri": "https://localhost:8080/"
        },
        "id": "Sh16kLJ0BWKr",
        "outputId": "c837eba6-66ee-4273-950a-e3d2615a37d0"
      },
      "execution_count": 32,
      "outputs": [
        {
          "output_type": "stream",
          "name": "stdout",
          "text": [
            "좋습니다! Large Language Model에 대해 공부하기 위한 계획을 세워보겠습니다. 아래는 해당 주제에 대한 공부 계획의 예입니다.\n",
            "\n",
            "1. 개념 이해\n",
            "   - Large Language Model이란 무엇인지 이해하기\n",
            "   - NLP (Natural Language Processing)와의 관련성 이해하기\n",
            "\n",
            "2. 대표적인 Large Language Model 학습 리소스 찾기\n",
            "   - OpenAI의 GPT-3에 대한 논문 읽기\n",
            "   - GPT-3의 구조와 작동 방식 이해하기\n",
            "   - GPT-3의 주요 기능 및 응용 분야 확인하기\n",
            "\n",
            "3. Large Language Model 구현 방법 이해\n",
            "   - Transfer Learning 개념 이해하기\n",
            "   - Pre-training 및 Fine-tuning 절차 이해하기\n",
            "\n",
            "4. Large Language Model 활용 사례 분석\n",
            "   - GPT-3를 활용한 자연어 이해 및 생성 기능 탐구하기\n",
            "   - 대화 시스템, 요약 생성, 번역 등 실용적인 응용 분야 확인하기\n",
            "\n",
            "5. Large Language Model의 한계와 과제 이해\n",
            "   - 계산 자원 및 속도, 성능 관련 기술적 제한 사항 이해하기\n",
            "   - 인공지능의 윤리적 문제 및 대중적인 이해상 갈등 분석하기\n",
            "\n",
            "6. 추가 참고 자료 정리 및 요약\n",
            "   - 관련 연구 논문, 기사, 강의 등 추가적인 자료 찾기\n",
            "   - 핵심 개념과 관련된 내용을 정리하고 반복해서 복습하기\n",
            "\n",
            "이러한 계획을 기반으로 공부를 진행하시면 Large Language Model에 대해 깊이있게 이해하고 활용할 수 있을 것입니다. 자신의 학습 시간과 분량에 맞게 일정을 조정하세요. 행운을 빕니다!"
          ]
        }
      ]
    },
    {
      "cell_type": "code",
      "source": [],
      "metadata": {
        "id": "mXf76AElDyoF"
      },
      "execution_count": null,
      "outputs": []
    }
  ]
}