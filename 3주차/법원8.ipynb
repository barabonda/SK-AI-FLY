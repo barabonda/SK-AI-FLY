{
  "nbformat": 4,
  "nbformat_minor": 0,
  "metadata": {
    "colab": {
      "provenance": [],
      "gpuType": "T4",
      "authorship_tag": "ABX9TyMvnh2CRZfzNG/K9dKNhFS4",
      "include_colab_link": true
    },
    "kernelspec": {
      "name": "python3",
      "display_name": "Python 3"
    },
    "language_info": {
      "name": "python"
    },
    "accelerator": "GPU"
  },
  "cells": [
    {
      "cell_type": "markdown",
      "metadata": {
        "id": "view-in-github",
        "colab_type": "text"
      },
      "source": [
        "<a href=\"https://colab.research.google.com/github/barabonda/SK-AI-FLY/blob/main/3%EC%A3%BC%EC%B0%A8/%EB%B2%95%EC%9B%908.ipynb\" target=\"_parent\"><img src=\"https://colab.research.google.com/assets/colab-badge.svg\" alt=\"Open In Colab\"/></a>"
      ]
    },
    {
      "cell_type": "code",
      "execution_count": 1,
      "metadata": {
        "colab": {
          "base_uri": "https://localhost:8080/"
        },
        "id": "L3epzPHhujPS",
        "outputId": "11aac2ae-5732-40d7-dd4d-54444dafa3b0"
      },
      "outputs": [
        {
          "output_type": "stream",
          "name": "stdout",
          "text": [
            "Requirement already satisfied: gensim in /usr/local/lib/python3.10/dist-packages (4.3.2)\n",
            "Requirement already satisfied: numpy>=1.18.5 in /usr/local/lib/python3.10/dist-packages (from gensim) (1.23.5)\n",
            "Requirement already satisfied: scipy>=1.7.0 in /usr/local/lib/python3.10/dist-packages (from gensim) (1.11.4)\n",
            "Requirement already satisfied: smart-open>=1.8.1 in /usr/local/lib/python3.10/dist-packages (from gensim) (6.4.0)\n",
            "Requirement already satisfied: tensorflow in /usr/local/lib/python3.10/dist-packages (2.15.0)\n",
            "Requirement already satisfied: absl-py>=1.0.0 in /usr/local/lib/python3.10/dist-packages (from tensorflow) (1.4.0)\n",
            "Requirement already satisfied: astunparse>=1.6.0 in /usr/local/lib/python3.10/dist-packages (from tensorflow) (1.6.3)\n",
            "Requirement already satisfied: flatbuffers>=23.5.26 in /usr/local/lib/python3.10/dist-packages (from tensorflow) (23.5.26)\n",
            "Requirement already satisfied: gast!=0.5.0,!=0.5.1,!=0.5.2,>=0.2.1 in /usr/local/lib/python3.10/dist-packages (from tensorflow) (0.5.4)\n",
            "Requirement already satisfied: google-pasta>=0.1.1 in /usr/local/lib/python3.10/dist-packages (from tensorflow) (0.2.0)\n",
            "Requirement already satisfied: h5py>=2.9.0 in /usr/local/lib/python3.10/dist-packages (from tensorflow) (3.9.0)\n",
            "Requirement already satisfied: libclang>=13.0.0 in /usr/local/lib/python3.10/dist-packages (from tensorflow) (16.0.6)\n",
            "Requirement already satisfied: ml-dtypes~=0.2.0 in /usr/local/lib/python3.10/dist-packages (from tensorflow) (0.2.0)\n",
            "Requirement already satisfied: numpy<2.0.0,>=1.23.5 in /usr/local/lib/python3.10/dist-packages (from tensorflow) (1.23.5)\n",
            "Requirement already satisfied: opt-einsum>=2.3.2 in /usr/local/lib/python3.10/dist-packages (from tensorflow) (3.3.0)\n",
            "Requirement already satisfied: packaging in /usr/local/lib/python3.10/dist-packages (from tensorflow) (23.2)\n",
            "Requirement already satisfied: protobuf!=4.21.0,!=4.21.1,!=4.21.2,!=4.21.3,!=4.21.4,!=4.21.5,<5.0.0dev,>=3.20.3 in /usr/local/lib/python3.10/dist-packages (from tensorflow) (3.20.3)\n",
            "Requirement already satisfied: setuptools in /usr/local/lib/python3.10/dist-packages (from tensorflow) (67.7.2)\n",
            "Requirement already satisfied: six>=1.12.0 in /usr/local/lib/python3.10/dist-packages (from tensorflow) (1.16.0)\n",
            "Requirement already satisfied: termcolor>=1.1.0 in /usr/local/lib/python3.10/dist-packages (from tensorflow) (2.4.0)\n",
            "Requirement already satisfied: typing-extensions>=3.6.6 in /usr/local/lib/python3.10/dist-packages (from tensorflow) (4.5.0)\n",
            "Requirement already satisfied: wrapt<1.15,>=1.11.0 in /usr/local/lib/python3.10/dist-packages (from tensorflow) (1.14.1)\n",
            "Requirement already satisfied: tensorflow-io-gcs-filesystem>=0.23.1 in /usr/local/lib/python3.10/dist-packages (from tensorflow) (0.35.0)\n",
            "Requirement already satisfied: grpcio<2.0,>=1.24.3 in /usr/local/lib/python3.10/dist-packages (from tensorflow) (1.60.0)\n",
            "Requirement already satisfied: tensorboard<2.16,>=2.15 in /usr/local/lib/python3.10/dist-packages (from tensorflow) (2.15.1)\n",
            "Requirement already satisfied: tensorflow-estimator<2.16,>=2.15.0 in /usr/local/lib/python3.10/dist-packages (from tensorflow) (2.15.0)\n",
            "Requirement already satisfied: keras<2.16,>=2.15.0 in /usr/local/lib/python3.10/dist-packages (from tensorflow) (2.15.0)\n",
            "Requirement already satisfied: wheel<1.0,>=0.23.0 in /usr/local/lib/python3.10/dist-packages (from astunparse>=1.6.0->tensorflow) (0.42.0)\n",
            "Requirement already satisfied: google-auth<3,>=1.6.3 in /usr/local/lib/python3.10/dist-packages (from tensorboard<2.16,>=2.15->tensorflow) (2.17.3)\n",
            "Requirement already satisfied: google-auth-oauthlib<2,>=0.5 in /usr/local/lib/python3.10/dist-packages (from tensorboard<2.16,>=2.15->tensorflow) (1.2.0)\n",
            "Requirement already satisfied: markdown>=2.6.8 in /usr/local/lib/python3.10/dist-packages (from tensorboard<2.16,>=2.15->tensorflow) (3.5.1)\n",
            "Requirement already satisfied: requests<3,>=2.21.0 in /usr/local/lib/python3.10/dist-packages (from tensorboard<2.16,>=2.15->tensorflow) (2.31.0)\n",
            "Requirement already satisfied: tensorboard-data-server<0.8.0,>=0.7.0 in /usr/local/lib/python3.10/dist-packages (from tensorboard<2.16,>=2.15->tensorflow) (0.7.2)\n",
            "Requirement already satisfied: werkzeug>=1.0.1 in /usr/local/lib/python3.10/dist-packages (from tensorboard<2.16,>=2.15->tensorflow) (3.0.1)\n",
            "Requirement already satisfied: cachetools<6.0,>=2.0.0 in /usr/local/lib/python3.10/dist-packages (from google-auth<3,>=1.6.3->tensorboard<2.16,>=2.15->tensorflow) (5.3.2)\n",
            "Requirement already satisfied: pyasn1-modules>=0.2.1 in /usr/local/lib/python3.10/dist-packages (from google-auth<3,>=1.6.3->tensorboard<2.16,>=2.15->tensorflow) (0.3.0)\n",
            "Requirement already satisfied: rsa<5,>=3.1.4 in /usr/local/lib/python3.10/dist-packages (from google-auth<3,>=1.6.3->tensorboard<2.16,>=2.15->tensorflow) (4.9)\n",
            "Requirement already satisfied: requests-oauthlib>=0.7.0 in /usr/local/lib/python3.10/dist-packages (from google-auth-oauthlib<2,>=0.5->tensorboard<2.16,>=2.15->tensorflow) (1.3.1)\n",
            "Requirement already satisfied: charset-normalizer<4,>=2 in /usr/local/lib/python3.10/dist-packages (from requests<3,>=2.21.0->tensorboard<2.16,>=2.15->tensorflow) (3.3.2)\n",
            "Requirement already satisfied: idna<4,>=2.5 in /usr/local/lib/python3.10/dist-packages (from requests<3,>=2.21.0->tensorboard<2.16,>=2.15->tensorflow) (3.6)\n",
            "Requirement already satisfied: urllib3<3,>=1.21.1 in /usr/local/lib/python3.10/dist-packages (from requests<3,>=2.21.0->tensorboard<2.16,>=2.15->tensorflow) (2.0.7)\n",
            "Requirement already satisfied: certifi>=2017.4.17 in /usr/local/lib/python3.10/dist-packages (from requests<3,>=2.21.0->tensorboard<2.16,>=2.15->tensorflow) (2023.11.17)\n",
            "Requirement already satisfied: MarkupSafe>=2.1.1 in /usr/local/lib/python3.10/dist-packages (from werkzeug>=1.0.1->tensorboard<2.16,>=2.15->tensorflow) (2.1.3)\n",
            "Requirement already satisfied: pyasn1<0.6.0,>=0.4.6 in /usr/local/lib/python3.10/dist-packages (from pyasn1-modules>=0.2.1->google-auth<3,>=1.6.3->tensorboard<2.16,>=2.15->tensorflow) (0.5.1)\n",
            "Requirement already satisfied: oauthlib>=3.0.0 in /usr/local/lib/python3.10/dist-packages (from requests-oauthlib>=0.7.0->google-auth-oauthlib<2,>=0.5->tensorboard<2.16,>=2.15->tensorflow) (3.2.2)\n",
            "Collecting optuna\n",
            "  Downloading optuna-3.5.0-py3-none-any.whl (413 kB)\n",
            "\u001b[2K     \u001b[90m━━━━━━━━━━━━━━━━━━━━━━━━━━━━━━━━━━━━━━━━\u001b[0m \u001b[32m413.4/413.4 kB\u001b[0m \u001b[31m5.0 MB/s\u001b[0m eta \u001b[36m0:00:00\u001b[0m\n",
            "\u001b[?25hCollecting alembic>=1.5.0 (from optuna)\n",
            "  Downloading alembic-1.13.1-py3-none-any.whl (233 kB)\n",
            "\u001b[2K     \u001b[90m━━━━━━━━━━━━━━━━━━━━━━━━━━━━━━━━━━━━━━━━\u001b[0m \u001b[32m233.4/233.4 kB\u001b[0m \u001b[31m9.3 MB/s\u001b[0m eta \u001b[36m0:00:00\u001b[0m\n",
            "\u001b[?25hCollecting colorlog (from optuna)\n",
            "  Downloading colorlog-6.8.0-py3-none-any.whl (11 kB)\n",
            "Requirement already satisfied: numpy in /usr/local/lib/python3.10/dist-packages (from optuna) (1.23.5)\n",
            "Requirement already satisfied: packaging>=20.0 in /usr/local/lib/python3.10/dist-packages (from optuna) (23.2)\n",
            "Requirement already satisfied: sqlalchemy>=1.3.0 in /usr/local/lib/python3.10/dist-packages (from optuna) (2.0.23)\n",
            "Requirement already satisfied: tqdm in /usr/local/lib/python3.10/dist-packages (from optuna) (4.66.1)\n",
            "Requirement already satisfied: PyYAML in /usr/local/lib/python3.10/dist-packages (from optuna) (6.0.1)\n",
            "Collecting Mako (from alembic>=1.5.0->optuna)\n",
            "  Downloading Mako-1.3.0-py3-none-any.whl (78 kB)\n",
            "\u001b[2K     \u001b[90m━━━━━━━━━━━━━━━━━━━━━━━━━━━━━━━━━━━━━━━━\u001b[0m \u001b[32m78.6/78.6 kB\u001b[0m \u001b[31m9.5 MB/s\u001b[0m eta \u001b[36m0:00:00\u001b[0m\n",
            "\u001b[?25hRequirement already satisfied: typing-extensions>=4 in /usr/local/lib/python3.10/dist-packages (from alembic>=1.5.0->optuna) (4.5.0)\n",
            "Requirement already satisfied: greenlet!=0.4.17 in /usr/local/lib/python3.10/dist-packages (from sqlalchemy>=1.3.0->optuna) (3.0.2)\n",
            "Requirement already satisfied: MarkupSafe>=0.9.2 in /usr/local/lib/python3.10/dist-packages (from Mako->alembic>=1.5.0->optuna) (2.1.3)\n",
            "Installing collected packages: Mako, colorlog, alembic, optuna\n",
            "Successfully installed Mako-1.3.0 alembic-1.13.1 colorlog-6.8.0 optuna-3.5.0\n",
            "Requirement already satisfied: seaborn in /usr/local/lib/python3.10/dist-packages (0.12.2)\n",
            "Requirement already satisfied: matplotlib in /usr/local/lib/python3.10/dist-packages (3.7.1)\n",
            "Requirement already satisfied: numpy!=1.24.0,>=1.17 in /usr/local/lib/python3.10/dist-packages (from seaborn) (1.23.5)\n",
            "Requirement already satisfied: pandas>=0.25 in /usr/local/lib/python3.10/dist-packages (from seaborn) (1.5.3)\n",
            "Requirement already satisfied: contourpy>=1.0.1 in /usr/local/lib/python3.10/dist-packages (from matplotlib) (1.2.0)\n",
            "Requirement already satisfied: cycler>=0.10 in /usr/local/lib/python3.10/dist-packages (from matplotlib) (0.12.1)\n",
            "Requirement already satisfied: fonttools>=4.22.0 in /usr/local/lib/python3.10/dist-packages (from matplotlib) (4.47.0)\n",
            "Requirement already satisfied: kiwisolver>=1.0.1 in /usr/local/lib/python3.10/dist-packages (from matplotlib) (1.4.5)\n",
            "Requirement already satisfied: packaging>=20.0 in /usr/local/lib/python3.10/dist-packages (from matplotlib) (23.2)\n",
            "Requirement already satisfied: pillow>=6.2.0 in /usr/local/lib/python3.10/dist-packages (from matplotlib) (9.4.0)\n",
            "Requirement already satisfied: pyparsing>=2.3.1 in /usr/local/lib/python3.10/dist-packages (from matplotlib) (3.1.1)\n",
            "Requirement already satisfied: python-dateutil>=2.7 in /usr/local/lib/python3.10/dist-packages (from matplotlib) (2.8.2)\n",
            "Requirement already satisfied: pytz>=2020.1 in /usr/local/lib/python3.10/dist-packages (from pandas>=0.25->seaborn) (2023.3.post1)\n",
            "Requirement already satisfied: six>=1.5 in /usr/local/lib/python3.10/dist-packages (from python-dateutil>=2.7->matplotlib) (1.16.0)\n",
            "Requirement already satisfied: imbalanced-learn in /usr/local/lib/python3.10/dist-packages (0.10.1)\n",
            "Requirement already satisfied: numpy>=1.17.3 in /usr/local/lib/python3.10/dist-packages (from imbalanced-learn) (1.23.5)\n",
            "Requirement already satisfied: scipy>=1.3.2 in /usr/local/lib/python3.10/dist-packages (from imbalanced-learn) (1.11.4)\n",
            "Requirement already satisfied: scikit-learn>=1.0.2 in /usr/local/lib/python3.10/dist-packages (from imbalanced-learn) (1.2.2)\n",
            "Requirement already satisfied: joblib>=1.1.1 in /usr/local/lib/python3.10/dist-packages (from imbalanced-learn) (1.3.2)\n",
            "Requirement already satisfied: threadpoolctl>=2.0.0 in /usr/local/lib/python3.10/dist-packages (from imbalanced-learn) (3.2.0)\n"
          ]
        }
      ],
      "source": [
        "!pip install gensim\n",
        "!pip install tensorflow\n",
        "!pip install optuna\n",
        "!pip install seaborn matplotlib\n",
        "!pip install imbalanced-learn"
      ]
    },
    {
      "cell_type": "code",
      "source": [
        "import pandas as pd\n",
        "import numpy as np\n",
        "from gensim.models import FastText\n",
        "from sklearn.model_selection import train_test_split\n",
        "import tensorflow as tf\n",
        "from tensorflow.keras.models import Sequential\n",
        "from tensorflow.keras.layers import LSTM, Dropout, Dense, Embedding\n",
        "from tensorflow.keras.preprocessing.sequence import pad_sequences\n",
        "from tensorflow.keras.preprocessing.text import Tokenizer\n",
        "from tensorflow.keras.initializers import Constant\n",
        "import nltk\n",
        "import re\n",
        "from nltk.stem import WordNetLemmatizer\n",
        "from nltk.corpus import stopwords\n",
        "from sklearn.utils import resample\n",
        "import seaborn as sns\n",
        "import matplotlib.pyplot as plt"
      ],
      "metadata": {
        "id": "leXHC_qmvjhe"
      },
      "execution_count": 2,
      "outputs": []
    },
    {
      "cell_type": "code",
      "source": [
        "train = pd.read_csv('/content/train.csv')\n",
        "test = pd.read_csv('/content/test.csv')"
      ],
      "metadata": {
        "id": "VUtzh3L4vrfL"
      },
      "execution_count": 4,
      "outputs": []
    },
    {
      "cell_type": "code",
      "source": [
        "(train['first_party_winner'] == 0).sum()\n",
        "\n",
        "subset_0 = train[train[\"first_party_winner\"] == 0]\n",
        "subset_1 = train[train[\"first_party_winner\"] == 1]\n",
        "\n",
        "subset_1_downsampled = resample(subset_1,\n",
        "                                replace=False,\n",
        "                                n_samples=829,\n",
        "                                random_state=42)\n",
        "\n",
        "train = pd.concat([subset_0, subset_1_downsampled])"
      ],
      "metadata": {
        "id": "jeIqlMhav6ZP"
      },
      "execution_count": 5,
      "outputs": []
    },
    {
      "cell_type": "code",
      "source": [
        "nltk.download('wordnet')\n",
        "nltk.download('punkt')\n",
        "nltk.download('stopwords')"
      ],
      "metadata": {
        "colab": {
          "base_uri": "https://localhost:8080/"
        },
        "id": "rDhlXAs-wDe2",
        "outputId": "f6d7bc79-a6eb-4aa3-a89d-b53abac270c1"
      },
      "execution_count": 6,
      "outputs": [
        {
          "output_type": "stream",
          "name": "stderr",
          "text": [
            "[nltk_data] Downloading package wordnet to /root/nltk_data...\n",
            "[nltk_data] Downloading package punkt to /root/nltk_data...\n",
            "[nltk_data]   Unzipping tokenizers/punkt.zip.\n",
            "[nltk_data] Downloading package stopwords to /root/nltk_data...\n",
            "[nltk_data]   Unzipping corpora/stopwords.zip.\n"
          ]
        },
        {
          "output_type": "execute_result",
          "data": {
            "text/plain": [
              "True"
            ]
          },
          "metadata": {},
          "execution_count": 6
        }
      ]
    },
    {
      "cell_type": "code",
      "source": [
        "lemmatizer = WordNetLemmatizer()"
      ],
      "metadata": {
        "id": "37U9p_S6wF0J"
      },
      "execution_count": 7,
      "outputs": []
    },
    {
      "cell_type": "code",
      "source": [
        "def preprocess_text(text):\n",
        "    # Convert NaNs to empty strings\n",
        "    if pd.isnull(text):\n",
        "        text = ''\n",
        "    # Remove punctuation\n",
        "    text = re.sub(r'[^\\w\\s]', '', text)\n",
        "    # Convert text to lowercase\n",
        "    text = text.lower()\n",
        "    # Tokenize the text\n",
        "    tokens = nltk.word_tokenize(text)\n",
        "    # Remove stopwords and apply lemmatization\n",
        "    tokens = [lemmatizer.lemmatize(token) for token in tokens if token not in stopwords.words('english')]\n",
        "    return tokens"
      ],
      "metadata": {
        "id": "e5VlmLSPwJ3w"
      },
      "execution_count": 8,
      "outputs": []
    },
    {
      "cell_type": "code",
      "source": [
        "train['facts'] = train['facts'].apply(preprocess_text)\n",
        "train['first_party'] = train['first_party'].apply(preprocess_text)\n",
        "train['second_party'] = train['second_party'].apply(preprocess_text)\n",
        "\n",
        "test['facts'] = test['facts'].apply(preprocess_text)\n",
        "test['first_party'] = test['first_party'].apply(preprocess_text)\n",
        "test['second_party'] = test['second_party'].apply(preprocess_text)\n",
        "\n",
        "all_texts = train['facts'].tolist() + train['first_party'].tolist() + train['second_party'].tolist()"
      ],
      "metadata": {
        "id": "YsIWYNIRwMtN"
      },
      "execution_count": 9,
      "outputs": []
    },
    {
      "cell_type": "code",
      "source": [
        "train['word_count'] = train['facts'].apply(lambda x: len(str(x).split()))\n",
        "test['word_count'] = test['facts'].apply(lambda x: len(str(x).split()))"
      ],
      "metadata": {
        "id": "7BZemeBOwP1t"
      },
      "execution_count": 10,
      "outputs": []
    },
    {
      "cell_type": "code",
      "source": [
        "# Visualize the word count distribution\n",
        "plt.figure(figsize=(10, 6))\n",
        "plt.hist(train['word_count'], bins=20, edgecolor='black')\n",
        "plt.xlabel('Word Count')\n",
        "plt.ylabel('Frequency')\n",
        "plt.title('Distribution of Word Count')\n",
        "plt.show()"
      ],
      "metadata": {
        "colab": {
          "base_uri": "https://localhost:8080/",
          "height": 487
        },
        "id": "c9C3jHt7wfPI",
        "outputId": "37a93ca3-8422-4589-b07a-df12567338fd"
      },
      "execution_count": 11,
      "outputs": [
        {
          "output_type": "display_data",
          "data": {
            "text/plain": [
              "<Figure size 1000x600 with 1 Axes>"
            ],
            "image/png": "[encoded data removed]"
          },
          "metadata": {}
        }
      ]
    },
    {
      "cell_type": "code",
      "source": [
        "# We train FastText model on all_texts\n",
        "fasttext_model = FastText(sentences=all_texts, vector_size=200, window=5, min_count=1, workers=4)\n",
        "\n",
        "# Define Tokenizer\n",
        "tokenizer = Tokenizer()\n",
        "tokenizer.fit_on_texts(all_texts)\n",
        "word_index = tokenizer.word_index\n",
        "\n",
        "EMBEDDING_DIM = 200  # this should match the dimensionality of the FastText vectors\n",
        "\n",
        "# Prepare embedding matrix\n",
        "embedding_matrix = np.zeros((len(word_index) + 1, EMBEDDING_DIM))\n",
        "for word, i in word_index.items():\n",
        "    if word in fasttext_model.wv:\n",
        "        embedding_vector = fasttext_model.wv[word]\n",
        "        embedding_matrix[i] = embedding_vector\n",
        "\n",
        "# Load this into an Embedding layer\n",
        "# Note that we set trainable=False to prevent the weights from being updated during training.\n",
        "embedding_layer = Embedding(len(word_index) + 1,\n",
        "                            EMBEDDING_DIM,\n",
        "                            embeddings_initializer=Constant(embedding_matrix),\n",
        "                            trainable=False)"
      ],
      "metadata": {
        "id": "bYS84_-vwhj2"
      },
      "execution_count": 12,
      "outputs": []
    },
    {
      "cell_type": "code",
      "source": [
        "def get_vector(model, texts):\n",
        "    vectors = []\n",
        "    for text in texts:\n",
        "        text_vectors = []\n",
        "        for word in text:\n",
        "            if word in model.wv.key_to_index:\n",
        "                text_vectors.append(model.wv.get_vector(word))\n",
        "        if len(text_vectors) > 0:\n",
        "            text_vector = np.mean(text_vectors, axis=0)\n",
        "            vectors.append(text_vector)\n",
        "        else:\n",
        "            vectors.append(np.zeros(model.vector_size))\n",
        "    return np.array(vectors)"
      ],
      "metadata": {
        "id": "PJd0ESUOwjoJ"
      },
      "execution_count": 13,
      "outputs": []
    },
    {
      "cell_type": "code",
      "source": [
        "X_train_facts = get_vector(fasttext_model, train['facts'])\n",
        "X_train_party1 = get_vector(fasttext_model, train['first_party'])\n",
        "X_train_party2 = get_vector(fasttext_model, train['second_party'])\n",
        "X_train = np.concatenate([X_train_party1, X_train_party2, X_train_facts], axis=1)\n",
        "Y_train = train['first_party_winner']\n",
        "\n",
        "X_test_facts = get_vector(fasttext_model, test['facts'])\n",
        "X_test_party1 = get_vector(fasttext_model, test['first_party'])\n",
        "X_test_party2 = get_vector(fasttext_model, test['second_party'])\n",
        "X_test = np.concatenate([X_test_party1,X_test_party2, X_test_facts], axis=1)\n",
        "\n",
        "X_train, X_val, Y_train, Y_val = train_test_split(X_train, Y_train, test_size=0.2, random_state=123)"
      ],
      "metadata": {
        "id": "X0r1YW1bwvV6"
      },
      "execution_count": 14,
      "outputs": []
    },
    {
      "cell_type": "code",
      "source": [
        "X_train = X_train.reshape((X_train.shape[0], 1, X_train.shape[1]))\n",
        "X_test = X_test.reshape((X_test.shape[0], 1, X_test.shape[1]))\n",
        "X_val = X_val.reshape((X_val.shape[0], 1, X_val.shape[1]))"
      ],
      "metadata": {
        "id": "Utc0LpWWwwK_"
      },
      "execution_count": 15,
      "outputs": []
    },
    {
      "cell_type": "code",
      "source": [
        "import optuna\n",
        "from tensorflow.keras.layers import LSTM\n",
        "from tensorflow.keras.optimizers import Adam, RMSprop\n",
        "from tensorflow.keras.callbacks import EarlyStopping"
      ],
      "metadata": {
        "id": "-3DZN7Flwxyt"
      },
      "execution_count": 16,
      "outputs": []
    },
    {
      "cell_type": "code",
      "source": [
        "def objective(trial):\n",
        "    # Define the search space for hyperparameters\n",
        "    units = trial.suggest_int(\"units\", 32, 128)\n",
        "    learning_rate = trial.suggest_loguniform(\"learning_rate\", 1e-5, 1e-1)\n",
        "    dropout_rate = trial.suggest_uniform('dropout_rate', 0.0, 0.5)\n",
        "    batch_size = trial.suggest_categorical(\"batch_size\", [16, 32])\n",
        "    optimizer = Adam(learning_rate=learning_rate)\n",
        "\n",
        "    # Define the model architecture\n",
        "    model = Sequential()\n",
        "    model.add(LSTM(units, return_sequences=True, input_shape=(1, X_train.shape[2])))\n",
        "    model.add(Dropout(dropout_rate))\n",
        "    model.add(LSTM(units))\n",
        "    model.add(Dropout(dropout_rate))\n",
        "    model.add(Dense(1, activation='sigmoid'))\n",
        "\n",
        "    # Compile the model\n",
        "    model.compile(optimizer=optimizer, loss='binary_crossentropy', metrics=['accuracy'])\n",
        "\n",
        "    # Define early stopping\n",
        "    es = EarlyStopping(monitor='val_loss', mode='min', verbose=1, patience=10)\n",
        "\n",
        "    # Train the model\n",
        "    model.fit(X_train, Y_train, epochs=100, batch_size=batch_size, validation_data=(X_val, Y_val), verbose=0, callbacks=[es])\n",
        "\n",
        "    # Evaluate the model\n",
        "    accuracy = model.evaluate(X_val, Y_val, verbose=0)[1]\n",
        "\n",
        "    return accuracy"
      ],
      "metadata": {
        "id": "fBojMQKMwzaU"
      },
      "execution_count": 17,
      "outputs": []
    },
    {
      "cell_type": "code",
      "source": [
        "# Define the study and optimize the objective function\n",
        "study = optuna.create_study(direction='maximize')\n",
        "study.optimize(objective, n_trials=50)\n",
        "\n",
        "# Print the best hyperparameters and objective value\n",
        "best_params = study.best_params\n",
        "best_value = study.best_value\n",
        "print(\"Best Parameters: \", best_params)\n",
        "print(\"Best Value: \", best_value)"
      ],
      "metadata": {
        "colab": {
          "base_uri": "https://localhost:8080/"
        },
        "id": "ULwHOfNRw1zO",
        "outputId": "44ff0f60-c613-43a4-c45b-b425cd0556b3"
      },
      "execution_count": 18,
      "outputs": [
        {
          "output_type": "stream",
          "name": "stderr",
          "text": [
            "[I 2024-01-03 01:01:27,230] A new study created in memory with name: no-name-ab7c56ac-8ad4-47db-9ed2-d9f3240ddc1a\n",
            "<ipython-input-17-85f1acc3dace>:4: FutureWarning: suggest_loguniform has been deprecated in v3.0.0. This feature will be removed in v6.0.0. See https://github.com/optuna/optuna/releases/tag/v3.0.0. Use suggest_float(..., log=True) instead.\n",
            "  learning_rate = trial.suggest_loguniform(\"learning_rate\", 1e-5, 1e-1)\n",
            "<ipython-input-17-85f1acc3dace>:5: FutureWarning: suggest_uniform has been deprecated in v3.0.0. This feature will be removed in v6.0.0. See https://github.com/optuna/optuna/releases/tag/v3.0.0. Use suggest_float instead.\n",
            "  dropout_rate = trial.suggest_uniform('dropout_rate', 0.0, 0.5)\n"
          ]
        },
        {
          "output_type": "stream",
          "name": "stdout",
          "text": [
            "Epoch 23: early stopping\n"
          ]
        },
        {
          "output_type": "stream",
          "name": "stderr",
          "text": [
            "[I 2024-01-03 01:01:52,652] Trial 0 finished with value: 0.5692771077156067 and parameters: {'units': 65, 'learning_rate': 0.0059522256115075636, 'dropout_rate': 0.28444856110465383, 'batch_size': 32}. Best is trial 0 with value: 0.5692771077156067.\n"
          ]
        },
        {
          "output_type": "stream",
          "name": "stdout",
          "text": [
            "Epoch 22: early stopping\n"
          ]
        },
        {
          "output_type": "stream",
          "name": "stderr",
          "text": [
            "[I 2024-01-03 01:02:06,158] Trial 1 finished with value: 0.5632529854774475 and parameters: {'units': 98, 'learning_rate': 0.0001458009654486879, 'dropout_rate': 0.37515216356217873, 'batch_size': 32}. Best is trial 0 with value: 0.5692771077156067.\n"
          ]
        },
        {
          "output_type": "stream",
          "name": "stdout",
          "text": [
            "Epoch 19: early stopping\n"
          ]
        },
        {
          "output_type": "stream",
          "name": "stderr",
          "text": [
            "[I 2024-01-03 01:02:20,845] Trial 2 finished with value: 0.5481927990913391 and parameters: {'units': 47, 'learning_rate': 0.0006233485315051526, 'dropout_rate': 0.3643780615848069, 'batch_size': 16}. Best is trial 0 with value: 0.5692771077156067.\n"
          ]
        },
        {
          "output_type": "stream",
          "name": "stdout",
          "text": [
            "Epoch 24: early stopping\n"
          ]
        },
        {
          "output_type": "stream",
          "name": "stderr",
          "text": [
            "[I 2024-01-03 01:02:44,588] Trial 3 finished with value: 0.5692771077156067 and parameters: {'units': 114, 'learning_rate': 0.0002515855300469961, 'dropout_rate': 0.2701255956655694, 'batch_size': 16}. Best is trial 0 with value: 0.5692771077156067.\n"
          ]
        },
        {
          "output_type": "stream",
          "name": "stdout",
          "text": [
            "Epoch 42: early stopping\n"
          ]
        },
        {
          "output_type": "stream",
          "name": "stderr",
          "text": [
            "[I 2024-01-03 01:03:08,326] Trial 4 finished with value: 0.5692771077156067 and parameters: {'units': 124, 'learning_rate': 5.230572713702775e-05, 'dropout_rate': 0.26369102183077575, 'batch_size': 32}. Best is trial 0 with value: 0.5692771077156067.\n"
          ]
        },
        {
          "output_type": "stream",
          "name": "stdout",
          "text": [
            "Epoch 20: early stopping\n"
          ]
        },
        {
          "output_type": "stream",
          "name": "stderr",
          "text": [
            "[I 2024-01-03 01:03:22,404] Trial 5 finished with value: 0.47289156913757324 and parameters: {'units': 57, 'learning_rate': 0.0800219903726509, 'dropout_rate': 0.07957874065415754, 'batch_size': 32}. Best is trial 0 with value: 0.5692771077156067.\n"
          ]
        },
        {
          "output_type": "stream",
          "name": "stdout",
          "text": [
            "Epoch 22: early stopping\n"
          ]
        },
        {
          "output_type": "stream",
          "name": "stderr",
          "text": [
            "[I 2024-01-03 01:03:35,898] Trial 6 finished with value: 0.5843373537063599 and parameters: {'units': 56, 'learning_rate': 0.0004338836715981002, 'dropout_rate': 0.49618971954115143, 'batch_size': 32}. Best is trial 6 with value: 0.5843373537063599.\n",
            "[I 2024-01-03 01:04:10,956] Trial 7 finished with value: 0.5692771077156067 and parameters: {'units': 36, 'learning_rate': 1.8381383632450804e-05, 'dropout_rate': 0.43238171057740005, 'batch_size': 32}. Best is trial 6 with value: 0.5843373537063599.\n"
          ]
        },
        {
          "output_type": "stream",
          "name": "stdout",
          "text": [
            "Epoch 11: early stopping\n"
          ]
        },
        {
          "output_type": "stream",
          "name": "stderr",
          "text": [
            "[I 2024-01-03 01:04:18,789] Trial 8 finished with value: 0.5271084308624268 and parameters: {'units': 43, 'learning_rate': 0.025530476198107877, 'dropout_rate': 0.09868928529910931, 'batch_size': 32}. Best is trial 6 with value: 0.5843373537063599.\n",
            "[I 2024-01-03 01:04:53,790] Trial 9 finished with value: 0.5753012299537659 and parameters: {'units': 125, 'learning_rate': 1.1025081073398509e-05, 'dropout_rate': 0.053511216358316016, 'batch_size': 32}. Best is trial 6 with value: 0.5843373537063599.\n"
          ]
        },
        {
          "output_type": "stream",
          "name": "stdout",
          "text": [
            "Epoch 46: early stopping\n"
          ]
        },
        {
          "output_type": "stream",
          "name": "stderr",
          "text": [
            "[I 2024-01-03 01:05:23,681] Trial 10 finished with value: 0.5692771077156067 and parameters: {'units': 78, 'learning_rate': 0.0022446872173510226, 'dropout_rate': 0.49179987427691074, 'batch_size': 16}. Best is trial 6 with value: 0.5843373537063599.\n"
          ]
        },
        {
          "output_type": "stream",
          "name": "stdout",
          "text": [
            "Epoch 98: early stopping\n"
          ]
        },
        {
          "output_type": "stream",
          "name": "stderr",
          "text": [
            "[I 2024-01-03 01:05:57,082] Trial 11 finished with value: 0.5813252925872803 and parameters: {'units': 95, 'learning_rate': 1.5772414555479284e-05, 'dropout_rate': 0.1540458787541431, 'batch_size': 32}. Best is trial 6 with value: 0.5843373537063599.\n"
          ]
        },
        {
          "output_type": "stream",
          "name": "stdout",
          "text": [
            "Epoch 31: early stopping\n"
          ]
        },
        {
          "output_type": "stream",
          "name": "stderr",
          "text": [
            "[I 2024-01-03 01:06:12,317] Trial 12 finished with value: 0.5692771077156067 and parameters: {'units': 91, 'learning_rate': 6.808889979336472e-05, 'dropout_rate': 0.16517490973936985, 'batch_size': 32}. Best is trial 6 with value: 0.5843373537063599.\n"
          ]
        },
        {
          "output_type": "stream",
          "name": "stdout",
          "text": [
            "Epoch 24: early stopping\n"
          ]
        },
        {
          "output_type": "stream",
          "name": "stderr",
          "text": [
            "[I 2024-01-03 01:06:26,668] Trial 13 finished with value: 0.5933734774589539 and parameters: {'units': 75, 'learning_rate': 0.0009496287117161145, 'dropout_rate': 0.17301078569495065, 'batch_size': 32}. Best is trial 13 with value: 0.5933734774589539.\n"
          ]
        },
        {
          "output_type": "stream",
          "name": "stdout",
          "text": [
            "Epoch 28: early stopping\n"
          ]
        },
        {
          "output_type": "stream",
          "name": "stderr",
          "text": [
            "[I 2024-01-03 01:06:50,951] Trial 14 finished with value: 0.5903614163398743 and parameters: {'units': 71, 'learning_rate': 0.0013529426150608644, 'dropout_rate': 0.20148771457843734, 'batch_size': 16}. Best is trial 13 with value: 0.5933734774589539.\n"
          ]
        },
        {
          "output_type": "stream",
          "name": "stdout",
          "text": [
            "Epoch 22: early stopping\n"
          ]
        },
        {
          "output_type": "stream",
          "name": "stderr",
          "text": [
            "[I 2024-01-03 01:07:16,263] Trial 15 finished with value: 0.5421686768531799 and parameters: {'units': 75, 'learning_rate': 0.002395445892989341, 'dropout_rate': 0.18520029859993561, 'batch_size': 16}. Best is trial 13 with value: 0.5933734774589539.\n"
          ]
        },
        {
          "output_type": "stream",
          "name": "stdout",
          "text": [
            "Epoch 19: early stopping\n"
          ]
        },
        {
          "output_type": "stream",
          "name": "stderr",
          "text": [
            "[I 2024-01-03 01:07:31,884] Trial 16 finished with value: 0.47289156913757324 and parameters: {'units': 73, 'learning_rate': 0.008909831055191771, 'dropout_rate': 0.2123438172949212, 'batch_size': 16}. Best is trial 13 with value: 0.5933734774589539.\n"
          ]
        },
        {
          "output_type": "stream",
          "name": "stdout",
          "text": [
            "Epoch 22: early stopping\n"
          ]
        },
        {
          "output_type": "stream",
          "name": "stderr",
          "text": [
            "[I 2024-01-03 01:07:47,978] Trial 17 finished with value: 0.5873494148254395 and parameters: {'units': 88, 'learning_rate': 0.0013712200161352399, 'dropout_rate': 0.01713906112150343, 'batch_size': 16}. Best is trial 13 with value: 0.5933734774589539.\n"
          ]
        },
        {
          "output_type": "stream",
          "name": "stdout",
          "text": [
            "Epoch 21: early stopping\n"
          ]
        },
        {
          "output_type": "stream",
          "name": "stderr",
          "text": [
            "[I 2024-01-03 01:08:11,700] Trial 18 finished with value: 0.47289156913757324 and parameters: {'units': 66, 'learning_rate': 0.00713501246983277, 'dropout_rate': 0.12423438706576367, 'batch_size': 16}. Best is trial 13 with value: 0.5933734774589539.\n"
          ]
        },
        {
          "output_type": "stream",
          "name": "stdout",
          "text": [
            "Epoch 28: early stopping\n"
          ]
        },
        {
          "output_type": "stream",
          "name": "stderr",
          "text": [
            "[I 2024-01-03 01:08:35,478] Trial 19 finished with value: 0.5662650465965271 and parameters: {'units': 102, 'learning_rate': 0.0008004555090341153, 'dropout_rate': 0.20981662425780145, 'batch_size': 16}. Best is trial 13 with value: 0.5933734774589539.\n"
          ]
        },
        {
          "output_type": "stream",
          "name": "stdout",
          "text": [
            "Epoch 13: early stopping\n"
          ]
        },
        {
          "output_type": "stream",
          "name": "stderr",
          "text": [
            "[I 2024-01-03 01:08:49,006] Trial 20 finished with value: 0.5271084308624268 and parameters: {'units': 83, 'learning_rate': 0.025719116800458987, 'dropout_rate': 0.3402559612036448, 'batch_size': 16}. Best is trial 13 with value: 0.5933734774589539.\n"
          ]
        },
        {
          "output_type": "stream",
          "name": "stdout",
          "text": [
            "Epoch 21: early stopping\n"
          ]
        },
        {
          "output_type": "stream",
          "name": "stderr",
          "text": [
            "[I 2024-01-03 01:09:06,108] Trial 21 finished with value: 0.5813252925872803 and parameters: {'units': 89, 'learning_rate': 0.001794940007964058, 'dropout_rate': 0.0012006275589357476, 'batch_size': 16}. Best is trial 13 with value: 0.5933734774589539.\n"
          ]
        },
        {
          "output_type": "stream",
          "name": "stdout",
          "text": [
            "Epoch 25: early stopping\n"
          ]
        },
        {
          "output_type": "stream",
          "name": "stderr",
          "text": [
            "[I 2024-01-03 01:09:24,488] Trial 22 finished with value: 0.5692771077156067 and parameters: {'units': 65, 'learning_rate': 0.0013433068078534851, 'dropout_rate': 0.03181745474265035, 'batch_size': 16}. Best is trial 13 with value: 0.5933734774589539.\n"
          ]
        },
        {
          "output_type": "stream",
          "name": "stdout",
          "text": [
            "Epoch 33: early stopping\n"
          ]
        },
        {
          "output_type": "stream",
          "name": "stderr",
          "text": [
            "[I 2024-01-03 01:09:48,245] Trial 23 finished with value: 0.5632529854774475 and parameters: {'units': 85, 'learning_rate': 0.003922123848990852, 'dropout_rate': 0.12014886422943305, 'batch_size': 16}. Best is trial 13 with value: 0.5933734774589539.\n"
          ]
        },
        {
          "output_type": "stream",
          "name": "stdout",
          "text": [
            "Epoch 35: early stopping\n"
          ]
        },
        {
          "output_type": "stream",
          "name": "stderr",
          "text": [
            "[I 2024-01-03 01:10:11,227] Trial 24 finished with value: 0.5692771077156067 and parameters: {'units': 113, 'learning_rate': 0.0002799308786730321, 'dropout_rate': 0.30153424315799293, 'batch_size': 16}. Best is trial 13 with value: 0.5933734774589539.\n"
          ]
        },
        {
          "output_type": "stream",
          "name": "stdout",
          "text": [
            "Epoch 21: early stopping\n"
          ]
        },
        {
          "output_type": "stream",
          "name": "stderr",
          "text": [
            "[I 2024-01-03 01:10:35,530] Trial 25 finished with value: 0.5873494148254395 and parameters: {'units': 104, 'learning_rate': 0.0007806840310506669, 'dropout_rate': 0.2304481608282661, 'batch_size': 16}. Best is trial 13 with value: 0.5933734774589539.\n"
          ]
        },
        {
          "output_type": "stream",
          "name": "stdout",
          "text": [
            "Epoch 24: early stopping\n"
          ]
        },
        {
          "output_type": "stream",
          "name": "stderr",
          "text": [
            "[I 2024-01-03 01:10:53,704] Trial 26 finished with value: 0.5753012299537659 and parameters: {'units': 69, 'learning_rate': 0.00012126038525323131, 'dropout_rate': 0.14675796723719017, 'batch_size': 16}. Best is trial 13 with value: 0.5933734774589539.\n"
          ]
        },
        {
          "output_type": "stream",
          "name": "stdout",
          "text": [
            "Epoch 15: early stopping\n"
          ]
        },
        {
          "output_type": "stream",
          "name": "stderr",
          "text": [
            "[I 2024-01-03 01:11:06,586] Trial 27 finished with value: 0.47289156913757324 and parameters: {'units': 54, 'learning_rate': 0.014878742422002956, 'dropout_rate': 0.0019437242067537608, 'batch_size': 16}. Best is trial 13 with value: 0.5933734774589539.\n"
          ]
        },
        {
          "output_type": "stream",
          "name": "stdout",
          "text": [
            "Epoch 29: early stopping\n"
          ]
        },
        {
          "output_type": "stream",
          "name": "stderr",
          "text": [
            "[I 2024-01-03 01:11:21,264] Trial 28 finished with value: 0.5542168617248535 and parameters: {'units': 81, 'learning_rate': 0.0032546710096649518, 'dropout_rate': 0.07651058513961148, 'batch_size': 32}. Best is trial 13 with value: 0.5933734774589539.\n"
          ]
        },
        {
          "output_type": "stream",
          "name": "stdout",
          "text": [
            "Epoch 34: early stopping\n"
          ]
        },
        {
          "output_type": "stream",
          "name": "stderr",
          "text": [
            "[I 2024-01-03 01:11:36,035] Trial 29 finished with value: 0.5783132314682007 and parameters: {'units': 62, 'learning_rate': 0.001089400864174274, 'dropout_rate': 0.3142129394756315, 'batch_size': 32}. Best is trial 13 with value: 0.5933734774589539.\n"
          ]
        },
        {
          "output_type": "stream",
          "name": "stdout",
          "text": [
            "Epoch 26: early stopping\n"
          ]
        },
        {
          "output_type": "stream",
          "name": "stderr",
          "text": [
            "[I 2024-01-03 01:11:54,949] Trial 30 finished with value: 0.5150602459907532 and parameters: {'units': 75, 'learning_rate': 0.005274798638306527, 'dropout_rate': 0.18806652169610277, 'batch_size': 16}. Best is trial 13 with value: 0.5933734774589539.\n"
          ]
        },
        {
          "output_type": "stream",
          "name": "stdout",
          "text": [
            "Epoch 34: early stopping\n"
          ]
        },
        {
          "output_type": "stream",
          "name": "stderr",
          "text": [
            "[I 2024-01-03 01:12:18,791] Trial 31 finished with value: 0.5813252925872803 and parameters: {'units': 103, 'learning_rate': 0.00047791478112603714, 'dropout_rate': 0.24265460394024957, 'batch_size': 16}. Best is trial 13 with value: 0.5933734774589539.\n"
          ]
        },
        {
          "output_type": "stream",
          "name": "stdout",
          "text": [
            "Epoch 33: early stopping\n"
          ]
        },
        {
          "output_type": "stream",
          "name": "stderr",
          "text": [
            "[I 2024-01-03 01:12:40,477] Trial 32 finished with value: 0.5753012299537659 and parameters: {'units': 109, 'learning_rate': 0.0012937603408527713, 'dropout_rate': 0.23269049250755225, 'batch_size': 16}. Best is trial 13 with value: 0.5933734774589539.\n"
          ]
        },
        {
          "output_type": "stream",
          "name": "stdout",
          "text": [
            "Epoch 31: early stopping\n"
          ]
        },
        {
          "output_type": "stream",
          "name": "stderr",
          "text": [
            "[I 2024-01-03 01:13:01,462] Trial 33 finished with value: 0.5783132314682007 and parameters: {'units': 95, 'learning_rate': 0.0002715382648189475, 'dropout_rate': 0.22557791046309164, 'batch_size': 16}. Best is trial 13 with value: 0.5933734774589539.\n"
          ]
        },
        {
          "output_type": "stream",
          "name": "stdout",
          "text": [
            "Epoch 21: early stopping\n"
          ]
        },
        {
          "output_type": "stream",
          "name": "stderr",
          "text": [
            "[I 2024-01-03 01:13:17,003] Trial 34 finished with value: 0.5963855385780334 and parameters: {'units': 88, 'learning_rate': 0.0006927083722023474, 'dropout_rate': 0.2982609298696595, 'batch_size': 16}. Best is trial 34 with value: 0.5963855385780334.\n"
          ]
        },
        {
          "output_type": "stream",
          "name": "stdout",
          "text": [
            "Epoch 33: early stopping\n"
          ]
        },
        {
          "output_type": "stream",
          "name": "stderr",
          "text": [
            "[I 2024-01-03 01:13:41,277] Trial 35 finished with value: 0.5783132314682007 and parameters: {'units': 87, 'learning_rate': 0.00013623879619283232, 'dropout_rate': 0.3638110482091287, 'batch_size': 16}. Best is trial 34 with value: 0.5963855385780334.\n"
          ]
        },
        {
          "output_type": "stream",
          "name": "stdout",
          "text": [
            "Epoch 23: early stopping\n"
          ]
        },
        {
          "output_type": "stream",
          "name": "stderr",
          "text": [
            "[I 2024-01-03 01:13:52,693] Trial 36 finished with value: 0.5542168617248535 and parameters: {'units': 69, 'learning_rate': 0.0005392454626345412, 'dropout_rate': 0.2830868416499822, 'batch_size': 32}. Best is trial 34 with value: 0.5963855385780334.\n"
          ]
        },
        {
          "output_type": "stream",
          "name": "stdout",
          "text": [
            "Epoch 43: early stopping\n"
          ]
        },
        {
          "output_type": "stream",
          "name": "stderr",
          "text": [
            "[I 2024-01-03 01:14:38,446] Trial 37 finished with value: 0.5753012299537659 and parameters: {'units': 81, 'learning_rate': 0.0003941190715990408, 'dropout_rate': 0.4294567403507753, 'batch_size': 16}. Best is trial 34 with value: 0.5963855385780334.\n"
          ]
        },
        {
          "output_type": "stream",
          "name": "stdout",
          "text": [
            "Epoch 19: early stopping\n"
          ]
        },
        {
          "output_type": "stream",
          "name": "stderr",
          "text": [
            "[I 2024-01-03 01:14:51,986] Trial 38 finished with value: 0.5692771077156067 and parameters: {'units': 92, 'learning_rate': 0.00021929449729807252, 'dropout_rate': 0.33476404332461157, 'batch_size': 32}. Best is trial 34 with value: 0.5963855385780334.\n"
          ]
        },
        {
          "output_type": "stream",
          "name": "stdout",
          "text": [
            "Epoch 16: early stopping\n"
          ]
        },
        {
          "output_type": "stream",
          "name": "stderr",
          "text": [
            "[I 2024-01-03 01:15:05,262] Trial 39 finished with value: 0.5512048006057739 and parameters: {'units': 50, 'learning_rate': 0.0015351119772183002, 'dropout_rate': 0.26587341481584265, 'batch_size': 16}. Best is trial 34 with value: 0.5963855385780334.\n"
          ]
        },
        {
          "output_type": "stream",
          "name": "stdout",
          "text": [
            "Epoch 30: early stopping\n"
          ]
        },
        {
          "output_type": "stream",
          "name": "stderr",
          "text": [
            "[I 2024-01-03 01:15:18,781] Trial 40 finished with value: 0.5933734774589539 and parameters: {'units': 60, 'learning_rate': 0.0008294822925079959, 'dropout_rate': 0.18679595166748578, 'batch_size': 32}. Best is trial 34 with value: 0.5963855385780334.\n"
          ]
        },
        {
          "output_type": "stream",
          "name": "stdout",
          "text": [
            "Epoch 29: early stopping\n"
          ]
        },
        {
          "output_type": "stream",
          "name": "stderr",
          "text": [
            "[I 2024-01-03 01:15:31,690] Trial 41 finished with value: 0.5602409839630127 and parameters: {'units': 60, 'learning_rate': 0.0007121658142987967, 'dropout_rate': 0.1910564568764739, 'batch_size': 32}. Best is trial 34 with value: 0.5963855385780334.\n"
          ]
        },
        {
          "output_type": "stream",
          "name": "stdout",
          "text": [
            "Epoch 19: early stopping\n"
          ]
        },
        {
          "output_type": "stream",
          "name": "stderr",
          "text": [
            "[I 2024-01-03 01:15:42,035] Trial 42 finished with value: 0.5361445546150208 and parameters: {'units': 71, 'learning_rate': 0.0032675438736305728, 'dropout_rate': 0.11940000677230271, 'batch_size': 32}. Best is trial 34 with value: 0.5963855385780334.\n"
          ]
        },
        {
          "output_type": "stream",
          "name": "stdout",
          "text": [
            "Epoch 30: early stopping\n"
          ]
        },
        {
          "output_type": "stream",
          "name": "stderr",
          "text": [
            "[I 2024-01-03 01:16:05,813] Trial 43 finished with value: 0.5933734774589539 and parameters: {'units': 42, 'learning_rate': 0.0009723504095181885, 'dropout_rate': 0.26013350432289395, 'batch_size': 32}. Best is trial 34 with value: 0.5963855385780334.\n"
          ]
        },
        {
          "output_type": "stream",
          "name": "stdout",
          "text": [
            "Epoch 31: early stopping\n"
          ]
        },
        {
          "output_type": "stream",
          "name": "stderr",
          "text": [
            "[I 2024-01-03 01:16:29,593] Trial 44 finished with value: 0.5632529854774475 and parameters: {'units': 35, 'learning_rate': 0.000371849282984781, 'dropout_rate': 0.25417190411524615, 'batch_size': 32}. Best is trial 34 with value: 0.5963855385780334.\n"
          ]
        },
        {
          "output_type": "stream",
          "name": "stdout",
          "text": [
            "Epoch 17: early stopping\n"
          ]
        },
        {
          "output_type": "stream",
          "name": "stderr",
          "text": [
            "[I 2024-01-03 01:16:41,177] Trial 45 finished with value: 0.5421686768531799 and parameters: {'units': 41, 'learning_rate': 0.0008480764915632722, 'dropout_rate': 0.17396532066837148, 'batch_size': 32}. Best is trial 34 with value: 0.5963855385780334.\n"
          ]
        },
        {
          "output_type": "stream",
          "name": "stdout",
          "text": [
            "Epoch 24: early stopping\n"
          ]
        },
        {
          "output_type": "stream",
          "name": "stderr",
          "text": [
            "[I 2024-01-03 01:17:04,958] Trial 46 finished with value: 0.5783132314682007 and parameters: {'units': 50, 'learning_rate': 0.002169302164357892, 'dropout_rate': 0.2846390731281043, 'batch_size': 32}. Best is trial 34 with value: 0.5963855385780334.\n"
          ]
        },
        {
          "output_type": "stream",
          "name": "stdout",
          "text": [
            "Epoch 46: early stopping\n"
          ]
        },
        {
          "output_type": "stream",
          "name": "stderr",
          "text": [
            "[I 2024-01-03 01:17:23,525] Trial 47 finished with value: 0.5481927990913391 and parameters: {'units': 43, 'learning_rate': 0.00018913941599102736, 'dropout_rate': 0.13887372531221945, 'batch_size': 32}. Best is trial 34 with value: 0.5963855385780334.\n"
          ]
        },
        {
          "output_type": "stream",
          "name": "stdout",
          "text": [
            "Epoch 53: early stopping\n"
          ]
        },
        {
          "output_type": "stream",
          "name": "stderr",
          "text": [
            "[I 2024-01-03 01:17:44,052] Trial 48 finished with value: 0.5843373537063599 and parameters: {'units': 57, 'learning_rate': 5.980643645257568e-05, 'dropout_rate': 0.20358092200236869, 'batch_size': 32}. Best is trial 34 with value: 0.5963855385780334.\n"
          ]
        },
        {
          "output_type": "stream",
          "name": "stdout",
          "text": [
            "Epoch 29: early stopping\n"
          ]
        },
        {
          "output_type": "stream",
          "name": "stderr",
          "text": [
            "[I 2024-01-03 01:17:57,547] Trial 49 finished with value: 0.5722891688346863 and parameters: {'units': 77, 'learning_rate': 0.0005466907130533948, 'dropout_rate': 0.16497161004713085, 'batch_size': 32}. Best is trial 34 with value: 0.5963855385780334.\n"
          ]
        },
        {
          "output_type": "stream",
          "name": "stdout",
          "text": [
            "Best Parameters:  {'units': 88, 'learning_rate': 0.0006927083722023474, 'dropout_rate': 0.2982609298696595, 'batch_size': 16}\n",
            "Best Value:  0.5963855385780334\n"
          ]
        }
      ]
    },
    {
      "cell_type": "code",
      "source": [
        "from sklearn.metrics import roc_curve\n",
        "\n",
        "model = Sequential()\n",
        "model.add(LSTM(best_params['units'], return_sequences=True, input_shape=(1, X_train.shape[2])))\n",
        "model.add(Dropout(best_params['dropout_rate']))\n",
        "model.add(LSTM(best_params['units']))\n",
        "model.add(Dropout(best_params['dropout_rate']))\n",
        "model.add(Dense(1, activation='sigmoid'))\n",
        "\n",
        "model.compile(optimizer='adam', loss='binary_crossentropy', metrics=['accuracy'])\n",
        "\n",
        "es = EarlyStopping(monitor='val_loss', mode='min', verbose=1, patience=10)\n",
        "\n",
        "# Train the model\n",
        "model.fit(X_train, Y_train, epochs=100, batch_size=best_params['batch_size'], validation_data=(X_val, Y_val), callbacks=[es])\n",
        "#model.fit(X_train, Y_train, epochs=100, batch_size=best_params['batch_size'], validation_data=(X_val, Y_val))\n",
        "\n",
        "vector_size = X_train.shape[2]  # Assuming X_train is already defined\n",
        "X_test = X_test.reshape((X_test.shape[0], 1, vector_size))\n",
        "\n",
        "# predicting probabilities instead of classes\n",
        "pred_probs = model.predict(X_test)\n",
        "\n",
        "# get the false positive rate, true positive rate, and all thresholds\n",
        "fpr, tpr, thresholds = roc_curve(Y_val, model.predict(X_val).ravel())\n",
        "\n",
        "# calculate the g-mean for each threshold\n",
        "gmeans = np.sqrt(tpr * (1-fpr))\n",
        "\n",
        "# locate the index of the largest g-mean\n",
        "ix = np.argmax(gmeans)\n",
        "\n",
        "print('Best Threshold=%f' % thresholds[ix])"
      ],
      "metadata": {
        "colab": {
          "base_uri": "https://localhost:8080/"
        },
        "id": "d4pq0Mfew3KU",
        "outputId": "7f4723db-ba6b-42fe-9c2f-69078f6247ce"
      },
      "execution_count": 19,
      "outputs": [
        {
          "output_type": "stream",
          "name": "stdout",
          "text": [
            "Epoch 1/100\n",
            "83/83 [==============================] - 5s 16ms/step - loss: 0.6940 - accuracy: 0.5181 - val_loss: 0.6920 - val_accuracy: 0.4940\n",
            "Epoch 2/100\n",
            "83/83 [==============================] - 1s 7ms/step - loss: 0.6918 - accuracy: 0.5219 - val_loss: 0.6860 - val_accuracy: 0.5723\n",
            "Epoch 3/100\n",
            "83/83 [==============================] - 1s 7ms/step - loss: 0.6890 - accuracy: 0.5294 - val_loss: 0.6962 - val_accuracy: 0.5000\n",
            "Epoch 4/100\n",
            "83/83 [==============================] - 1s 6ms/step - loss: 0.6899 - accuracy: 0.5309 - val_loss: 0.6823 - val_accuracy: 0.5873\n",
            "Epoch 5/100\n",
            "83/83 [==============================] - 1s 6ms/step - loss: 0.6857 - accuracy: 0.5377 - val_loss: 0.6825 - val_accuracy: 0.5843\n",
            "Epoch 6/100\n",
            "83/83 [==============================] - 1s 6ms/step - loss: 0.6885 - accuracy: 0.5332 - val_loss: 0.6804 - val_accuracy: 0.5843\n",
            "Epoch 7/100\n",
            "83/83 [==============================] - 1s 8ms/step - loss: 0.6872 - accuracy: 0.5324 - val_loss: 0.6875 - val_accuracy: 0.4970\n",
            "Epoch 8/100\n",
            "83/83 [==============================] - 1s 9ms/step - loss: 0.6878 - accuracy: 0.5415 - val_loss: 0.6825 - val_accuracy: 0.5994\n",
            "Epoch 9/100\n",
            "83/83 [==============================] - 1s 10ms/step - loss: 0.6865 - accuracy: 0.5520 - val_loss: 0.6861 - val_accuracy: 0.5271\n",
            "Epoch 10/100\n",
            "83/83 [==============================] - 1s 9ms/step - loss: 0.6853 - accuracy: 0.5219 - val_loss: 0.6851 - val_accuracy: 0.5422\n",
            "Epoch 11/100\n",
            "83/83 [==============================] - 1s 7ms/step - loss: 0.6877 - accuracy: 0.5324 - val_loss: 0.6836 - val_accuracy: 0.5813\n",
            "Epoch 12/100\n",
            "83/83 [==============================] - 1s 6ms/step - loss: 0.6855 - accuracy: 0.5339 - val_loss: 0.6822 - val_accuracy: 0.5753\n",
            "Epoch 13/100\n",
            "83/83 [==============================] - 1s 7ms/step - loss: 0.6842 - accuracy: 0.5498 - val_loss: 0.6788 - val_accuracy: 0.5813\n",
            "Epoch 14/100\n",
            "83/83 [==============================] - 1s 8ms/step - loss: 0.6848 - accuracy: 0.5558 - val_loss: 0.6803 - val_accuracy: 0.5783\n",
            "Epoch 15/100\n",
            "83/83 [==============================] - 1s 6ms/step - loss: 0.6878 - accuracy: 0.5354 - val_loss: 0.6825 - val_accuracy: 0.5693\n",
            "Epoch 16/100\n",
            "83/83 [==============================] - 1s 7ms/step - loss: 0.6847 - accuracy: 0.5385 - val_loss: 0.6814 - val_accuracy: 0.5934\n",
            "Epoch 17/100\n",
            "83/83 [==============================] - 1s 6ms/step - loss: 0.6852 - accuracy: 0.5400 - val_loss: 0.6818 - val_accuracy: 0.5964\n",
            "Epoch 18/100\n",
            "83/83 [==============================] - 1s 6ms/step - loss: 0.6833 - accuracy: 0.5528 - val_loss: 0.6818 - val_accuracy: 0.5633\n",
            "Epoch 19/100\n",
            "83/83 [==============================] - 1s 6ms/step - loss: 0.6824 - accuracy: 0.5505 - val_loss: 0.6863 - val_accuracy: 0.5271\n",
            "Epoch 20/100\n",
            "83/83 [==============================] - 1s 6ms/step - loss: 0.6892 - accuracy: 0.5196 - val_loss: 0.6851 - val_accuracy: 0.5843\n",
            "Epoch 21/100\n",
            "83/83 [==============================] - 1s 6ms/step - loss: 0.6855 - accuracy: 0.5452 - val_loss: 0.6857 - val_accuracy: 0.5271\n",
            "Epoch 22/100\n",
            "83/83 [==============================] - 1s 7ms/step - loss: 0.6832 - accuracy: 0.5588 - val_loss: 0.6832 - val_accuracy: 0.5813\n",
            "Epoch 23/100\n",
            "83/83 [==============================] - 1s 7ms/step - loss: 0.6834 - accuracy: 0.5528 - val_loss: 0.6798 - val_accuracy: 0.5934\n",
            "Epoch 23: early stopping\n",
            "39/39 [==============================] - 1s 2ms/step\n",
            "11/11 [==============================] - 0s 2ms/step\n",
            "Best Threshold=0.507939\n"
          ]
        }
      ]
    },
    {
      "cell_type": "code",
      "source": [
        "from sklearn.metrics import roc_curve, auc\n",
        "import matplotlib.pyplot as plt\n",
        "\n",
        "# Compute ROC curve and ROC area for each class\n",
        "fpr, tpr, _ = roc_curve(Y_val, model.predict(X_val).ravel())\n",
        "roc_auc = auc(fpr, tpr)\n",
        "\n",
        "plt.figure()\n",
        "lw = 2\n",
        "plt.plot(fpr, tpr, color='darkorange',\n",
        "         lw=lw, label='ROC curve (area = %0.2f)' % roc_auc)\n",
        "plt.plot([0, 1], [0, 1], color='navy', lw=lw, linestyle='--')\n",
        "plt.xlim([0.0, 1.0])\n",
        "plt.ylim([0.0, 1.05])\n",
        "plt.xlabel('False Positive Rate')\n",
        "plt.ylabel('True Positive Rate')\n",
        "plt.title('Receiver Operating Characteristic')\n",
        "plt.legend(loc=\"lower right\")\n",
        "plt.show()"
      ],
      "metadata": {
        "colab": {
          "base_uri": "https://localhost:8080/",
          "height": 490
        },
        "id": "SOOMywb3w8I3",
        "outputId": "f660bbb1-dd98-40cb-a301-1324ac9f535f"
      },
      "execution_count": 20,
      "outputs": [
        {
          "output_type": "stream",
          "name": "stdout",
          "text": [
            "11/11 [==============================] - 0s 2ms/step\n"
          ]
        },
        {
          "output_type": "display_data",
          "data": {
            "text/plain": [
              "<Figure size 640x480 with 1 Axes>"
            ],
            "image/png": "[encoded data removed]"
          },
          "metadata": {}
        }
      ]
    },
    {
      "cell_type": "code",
      "source": [
        "predictions = (pred_probs > thresholds[ix]).astype(int).flatten()\n",
        "\n",
        "submit = pd.read_csv('/content/sample_submission.csv')\n",
        "\n",
        "submit['first_party_winner'] = predictions\n",
        "submit.to_csv('/content/baseline_submit_best.csv', index=False)\n",
        "print('Done')"
      ],
      "metadata": {
        "colab": {
          "base_uri": "https://localhost:8080/"
        },
        "id": "O8vxbWyRw-To",
        "outputId": "4709ef5b-6abf-4663-ae98-f4eec74f56b8"
      },
      "execution_count": 21,
      "outputs": [
        {
          "output_type": "stream",
          "name": "stdout",
          "text": [
            "Done\n"
          ]
        }
      ]
    },
    {
      "cell_type": "code",
      "source": [],
      "metadata": {
        "id": "dgbyY3WdxAmr"
      },
      "execution_count": 21,
      "outputs": []
    }
  ]
}