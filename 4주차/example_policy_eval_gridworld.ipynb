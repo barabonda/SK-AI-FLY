{
  "cells": [
    {
      "cell_type": "markdown",
      "metadata": {
        "id": "view-in-github",
        "colab_type": "text"
      },
      "source": [
        "<a href=\"https://colab.research.google.com/github/barabonda/SK-AI-FLY/blob/main/4%EC%A3%BC%EC%B0%A8example_policy_eval_gridworld.ipynb\" target=\"_parent\"><img src=\"https://colab.research.google.com/assets/colab-badge.svg\" alt=\"Open In Colab\"/></a>"
      ]
    },
    {
      "cell_type": "markdown",
      "id": "abe37352-4a88-4c11-b7db-c14b3afb7599",
      "metadata": {
        "id": "abe37352-4a88-4c11-b7db-c14b3afb7599"
      },
      "source": [
        "# The Simple Gridworld Problem"
      ]
    },
    {
      "cell_type": "code",
      "execution_count": null,
      "id": "4963df85-6833-4292-b163-a0971ae7c056",
      "metadata": {
        "colab": {
          "base_uri": "https://localhost:8080/"
        },
        "id": "4963df85-6833-4292-b163-a0971ae7c056",
        "outputId": "dd529e10-52ed-4a16-bdac-e337c7c3efc6"
      },
      "outputs": [
        {
          "output_type": "execute_result",
          "data": {
            "text/plain": [
              "(4, 15, 15)"
            ]
          },
          "metadata": {},
          "execution_count": 1
        }
      ],
      "source": [
        "import numpy as np\n",
        "\n",
        "P = np.array([\n",
        "    # up\n",
        "    [[1, 0, 0, 0, 0, 0, 0, 0, 0, 0, 0, 0, 0, 0, 0],\n",
        "     [0, 1, 0, 0, 0, 0, 0, 0, 0, 0, 0, 0, 0, 0, 0],\n",
        "     [0, 0, 1, 0, 0, 0, 0, 0, 0, 0, 0, 0, 0, 0, 0],\n",
        "     [0, 0, 0, 0, 0, 0, 0, 0, 0, 0, 0, 0, 0, 0, 1],\n",
        "     [1, 0, 0, 0, 0, 0, 0, 0, 0, 0, 0, 0, 0, 0, 0],\n",
        "     [0, 1, 0, 0, 0, 0, 0, 0, 0, 0, 0, 0, 0, 0, 0],\n",
        "     [0, 0, 1, 0, 0, 0, 0, 0, 0, 0, 0, 0, 0, 0, 0],\n",
        "     [0, 0, 0, 1, 0, 0, 0, 0, 0, 0, 0, 0, 0, 0, 0],\n",
        "     [0, 0, 0, 0, 1, 0, 0, 0, 0, 0, 0, 0, 0, 0, 0],\n",
        "     [0, 0, 0, 0, 0, 1, 0, 0, 0, 0, 0, 0, 0, 0, 0],\n",
        "     [0, 0, 0, 0, 0, 0, 1, 0, 0, 0, 0, 0, 0, 0, 0],\n",
        "     [0, 0, 0, 0, 0, 0, 0, 1, 0, 0, 0, 0, 0, 0, 0],\n",
        "     [0, 0, 0, 0, 0, 0, 0, 0, 1, 0, 0, 0, 0, 0, 0],\n",
        "     [0, 0, 0, 0, 0, 0, 0, 0, 0, 1, 0, 0, 0, 0, 0],\n",
        "     [0, 0, 0, 0, 0, 0, 0, 0, 0, 0, 0, 0, 0, 0, 1]],\n",
        "\n",
        "    # down\n",
        "    [[0, 0, 0, 0, 1, 0, 0, 0, 0, 0, 0, 0, 0, 0, 0],\n",
        "     [0, 0, 0, 0, 0, 1, 0, 0, 0, 0, 0, 0, 0, 0, 0],\n",
        "     [0, 0, 0, 0, 0, 0, 1, 0, 0, 0, 0, 0, 0, 0, 0],\n",
        "     [0, 0, 0, 0, 0, 0, 0, 1, 0, 0, 0, 0, 0, 0, 0],\n",
        "     [0, 0, 0, 0, 0, 0, 0, 0, 1, 0, 0, 0, 0, 0, 0],\n",
        "     [0, 0, 0, 0, 0, 0, 0, 0, 0, 1, 0, 0, 0, 0, 0],\n",
        "     [0, 0, 0, 0, 0, 0, 0, 0, 0, 0, 1, 0, 0, 0, 0],\n",
        "     [0, 0, 0, 0, 0, 0, 0, 0, 0, 0, 0, 1, 0, 0, 0],\n",
        "     [0, 0, 0, 0, 0, 0, 0, 0, 0, 0, 0, 0, 1, 0, 0],\n",
        "     [0, 0, 0, 0, 0, 0, 0, 0, 0, 0, 0, 0, 0, 1, 0],\n",
        "     [0, 0, 0, 0, 0, 0, 0, 0, 0, 0, 0, 0, 0, 0, 1],\n",
        "     [0, 0, 0, 0, 0, 0, 0, 0, 0, 0, 0, 1, 0, 0, 0],\n",
        "     [0, 0, 0, 0, 0, 0, 0, 0, 0, 0, 0, 0, 1, 0, 0],\n",
        "     [0, 0, 0, 0, 0, 0, 0, 0, 0, 0, 0, 0, 0, 1, 0],\n",
        "     [0, 0, 0, 0, 0, 0, 0, 0, 0, 0, 0, 0, 0, 0, 1]],\n",
        "\n",
        "    # left\n",
        "    [[0, 0, 0, 0, 0, 0, 0, 0, 0, 0, 0, 0, 0, 0, 1],\n",
        "     [1, 0, 0, 0, 0, 0, 0, 0, 0, 0, 0, 0, 0, 0, 0],\n",
        "     [0, 1, 0, 0, 0, 0, 0, 0, 0, 0, 0, 0, 0, 0, 0],\n",
        "     [0, 0, 0, 1, 0, 0, 0, 0, 0, 0, 0, 0, 0, 0, 0],\n",
        "     [0, 0, 0, 1, 0, 0, 0, 0, 0, 0, 0, 0, 0, 0, 0],\n",
        "     [0, 0, 0, 0, 1, 0, 0, 0, 0, 0, 0, 0, 0, 0, 0],\n",
        "     [0, 0, 0, 0, 0, 1, 0, 0, 0, 0, 0, 0, 0, 0, 0],\n",
        "     [0, 0, 0, 0, 0, 0, 0, 1, 0, 0, 0, 0, 0, 0, 0],\n",
        "     [0, 0, 0, 0, 0, 0, 0, 1, 0, 0, 0, 0, 0, 0, 0],\n",
        "     [0, 0, 0, 0, 0, 0, 0, 0, 1, 0, 0, 0, 0, 0, 0],\n",
        "     [0, 0, 0, 0, 0, 0, 0, 0, 0, 1, 0, 0, 0, 0, 0],\n",
        "     [0, 0, 0, 0, 0, 0, 0, 0, 0, 0, 0, 1, 0, 0, 0],\n",
        "     [0, 0, 0, 0, 0, 0, 0, 0, 0, 0, 0, 1, 0, 0, 0],\n",
        "     [0, 0, 0, 0, 0, 0, 0, 0, 0, 0, 0, 0, 1, 0, 0],\n",
        "     [0, 0, 0, 0, 0, 0, 0, 0, 0, 0, 0, 0, 0, 0, 1]],\n",
        "\n",
        "    # right\n",
        "    [[0, 1, 0, 0, 0, 0, 0, 0, 0, 0, 0, 0, 0, 0, 0],\n",
        "     [0, 0, 1, 0, 0, 0, 0, 0, 0, 0, 0, 0, 0, 0, 0],\n",
        "     [0, 0, 1, 0, 0, 0, 0, 0, 0, 0, 0, 0, 0, 0, 0],\n",
        "     [0, 0, 0, 0, 1, 0, 0, 0, 0, 0, 0, 0, 0, 0, 0],\n",
        "     [0, 0, 0, 0, 0, 1, 0, 0, 0, 0, 0, 0, 0, 0, 0],\n",
        "     [0, 0, 0, 0, 0, 0, 1, 0, 0, 0, 0, 0, 0, 0, 0],\n",
        "     [0, 0, 0, 0, 0, 0, 1, 0, 0, 0, 0, 0, 0, 0, 0],\n",
        "     [0, 0, 0, 0, 0, 0, 0, 0, 1, 0, 0, 0, 0, 0, 0],\n",
        "     [0, 0, 0, 0, 0, 0, 0, 0, 0, 1, 0, 0, 0, 0, 0],\n",
        "     [0, 0, 0, 0, 0, 0, 0, 0, 0, 0, 1, 0, 0, 0, 0],\n",
        "     [0, 0, 0, 0, 0, 0, 0, 0, 0, 0, 1, 0, 0, 0, 0],\n",
        "     [0, 0, 0, 0, 0, 0, 0, 0, 0, 0, 0, 0, 1, 0, 0],\n",
        "     [0, 0, 0, 0, 0, 0, 0, 0, 0, 0, 0, 0, 0, 1, 0],\n",
        "     [0, 0, 0, 0, 0, 0, 0, 0, 0, 0, 0, 0, 0, 0, 1],\n",
        "     [0, 0, 0, 0, 0, 0, 0, 0, 0, 0, 0, 0, 0, 0, 1]]], dtype='float32')\n",
        "\n",
        "P.shape"
      ]
    },
    {
      "cell_type": "code",
      "execution_count": null,
      "id": "7a1e1a68-a51e-42a3-979a-2820637cdb46",
      "metadata": {
        "id": "7a1e1a68-a51e-42a3-979a-2820637cdb46"
      },
      "outputs": [],
      "source": [
        "P = P.transpose(1, 0, 2)"
      ]
    },
    {
      "cell_type": "code",
      "execution_count": null,
      "id": "86b6143f-dd03-4c30-b617-0f1e38fe967b",
      "metadata": {
        "colab": {
          "base_uri": "https://localhost:8080/"
        },
        "id": "86b6143f-dd03-4c30-b617-0f1e38fe967b",
        "outputId": "637c9560-ab44-408c-e4b6-8eac18de0abf"
      },
      "outputs": [
        {
          "output_type": "execute_result",
          "data": {
            "text/plain": [
              "(15, 4, 15)"
            ]
          },
          "metadata": {},
          "execution_count": 3
        }
      ],
      "source": [
        "P.shape"
      ]
    },
    {
      "cell_type": "code",
      "execution_count": null,
      "id": "3ce09b51-cf71-4e8e-b520-57de84fa68ac",
      "metadata": {
        "tags": [],
        "id": "3ce09b51-cf71-4e8e-b520-57de84fa68ac"
      },
      "outputs": [],
      "source": [
        "R = np.array([\n",
        "    [-1, -1, -1,  1, -1, -1, -1, -1, -1, -1, -1, -1, -1, -1,  0], # up\n",
        "    [-1, -1, -1, -1, -1, -1, -1, -1, -1, -1,  1, -1, -1, -1,  0], # down\n",
        "    [ 1, -1, -1, -1, -1, -1, -1, -1, -1, -1, -1, -1, -1, -1,  0], # left\n",
        "    [-1, -1, -1, -1, -1, -1, -1, -1, -1, -1, -1, -1, -1,  1,  0]], #right\n",
        "    dtype='float32')"
      ]
    },
    {
      "cell_type": "code",
      "execution_count": null,
      "id": "b3e28746-7410-4bff-9536-4881de76bc7a",
      "metadata": {
        "colab": {
          "base_uri": "https://localhost:8080/"
        },
        "id": "b3e28746-7410-4bff-9536-4881de76bc7a",
        "outputId": "73b48f0c-f180-4567-bbe4-264bcd600286"
      },
      "outputs": [
        {
          "output_type": "execute_result",
          "data": {
            "text/plain": [
              "(4, 15)"
            ]
          },
          "metadata": {},
          "execution_count": 5
        }
      ],
      "source": [
        "R.shape"
      ]
    },
    {
      "cell_type": "code",
      "execution_count": null,
      "id": "55e5d7a5-5312-4313-8949-44d0b4564dc8",
      "metadata": {
        "id": "55e5d7a5-5312-4313-8949-44d0b4564dc8"
      },
      "outputs": [],
      "source": [
        "R = R.transpose()"
      ]
    },
    {
      "cell_type": "code",
      "execution_count": null,
      "id": "ec0efe69-4c45-4a44-b4b9-e818b2d206a8",
      "metadata": {
        "colab": {
          "base_uri": "https://localhost:8080/"
        },
        "id": "ec0efe69-4c45-4a44-b4b9-e818b2d206a8",
        "outputId": "c1eec021-21d0-49a7-d561-9b65f4145433"
      },
      "outputs": [
        {
          "output_type": "execute_result",
          "data": {
            "text/plain": [
              "(15, 4)"
            ]
          },
          "metadata": {},
          "execution_count": 7
        }
      ],
      "source": [
        "R.shape"
      ]
    },
    {
      "cell_type": "code",
      "execution_count": null,
      "id": "9f13bbae-9c52-4ca5-92ea-8da4b2618604",
      "metadata": {
        "id": "9f13bbae-9c52-4ca5-92ea-8da4b2618604"
      },
      "outputs": [],
      "source": [
        "pi = np.ones((15, 4), dtype='float32') * 0.25"
      ]
    },
    {
      "cell_type": "code",
      "execution_count": null,
      "id": "64a52d91-e7c2-46a2-bed7-b160d51423b1",
      "metadata": {
        "colab": {
          "base_uri": "https://localhost:8080/"
        },
        "id": "64a52d91-e7c2-46a2-bed7-b160d51423b1",
        "outputId": "f9d44bff-121a-40da-e259-11ad7932aa74"
      },
      "outputs": [
        {
          "output_type": "execute_result",
          "data": {
            "text/plain": [
              "(15, 4)"
            ]
          },
          "metadata": {},
          "execution_count": 9
        }
      ],
      "source": [
        "pi.shape"
      ]
    },
    {
      "cell_type": "code",
      "source": [
        "def policy_eval(P, R, pi, maxiter=30):\n",
        "    V = np.zeros((maxiter, 15), dtype='float32')\n",
        "\n",
        "    for i in range(maxiter-1):\n",
        "        V[i+1] = np.squeeze(\n",
        "            np.matmul(\n",
        "                np.expand_dims( pi, 1 ),\n",
        "                np.expand_dims( R + 0.6 * np.dot(P, V[i]), 2 )))\n",
        "\n",
        "    return V[maxiter-1]\n",
        "\n",
        "def policy_upd(P, R, v):\n",
        "    a_idx = np.argmax(np.squeeze(np.expand_dims( R + 0.6 * np.dot(P, v), 2 )), axis=1)\n",
        "    pi = np.zeros((15, 4), dtype='float32')\n",
        "    pi[range(15), a_idx] = 1.\n",
        "    return pi\n",
        "\n",
        "pi_old = None\n",
        "pi = np.ones((15, 4), dtype='float32') * 0.25\n",
        "\n",
        "while not np.all(np.equal(pi_old, pi)):\n",
        "    pi_old = pi.copy()\n",
        "    v = policy_eval(P, R, pi)\n",
        "    pi = policy_upd(P, R, v)\n",
        "\n",
        "print(\"The optimal policy is:\\n\", pi)"
      ],
      "metadata": {
        "colab": {
          "base_uri": "https://localhost:8080/",
          "height": 318
        },
        "id": "z_OXhqaOtP8s",
        "outputId": "0fae450b-35bd-4e0e-a0dc-906301b33f01"
      },
      "id": "z_OXhqaOtP8s",
      "execution_count": null,
      "outputs": [
        {
          "output_type": "error",
          "ename": "ValueError",
          "evalue": "shapes (16,16) and (15,) not aligned: 16 (dim 1) != 15 (dim 0)",
          "traceback": [
            "\u001b[0;31m---------------------------------------------------------------------------\u001b[0m",
            "\u001b[0;31mValueError\u001b[0m                                Traceback (most recent call last)",
            "\u001b[0;32m<ipython-input-17-4bc625006c37>\u001b[0m in \u001b[0;36m<cell line: 21>\u001b[0;34m()\u001b[0m\n\u001b[1;32m     21\u001b[0m \u001b[0;32mwhile\u001b[0m \u001b[0;32mnot\u001b[0m \u001b[0mnp\u001b[0m\u001b[0;34m.\u001b[0m\u001b[0mall\u001b[0m\u001b[0;34m(\u001b[0m\u001b[0mnp\u001b[0m\u001b[0;34m.\u001b[0m\u001b[0mequal\u001b[0m\u001b[0;34m(\u001b[0m\u001b[0mpi_old\u001b[0m\u001b[0;34m,\u001b[0m \u001b[0mpi\u001b[0m\u001b[0;34m)\u001b[0m\u001b[0;34m)\u001b[0m\u001b[0;34m:\u001b[0m\u001b[0;34m\u001b[0m\u001b[0;34m\u001b[0m\u001b[0m\n\u001b[1;32m     22\u001b[0m     \u001b[0mpi_old\u001b[0m \u001b[0;34m=\u001b[0m \u001b[0mpi\u001b[0m\u001b[0;34m.\u001b[0m\u001b[0mcopy\u001b[0m\u001b[0;34m(\u001b[0m\u001b[0;34m)\u001b[0m\u001b[0;34m\u001b[0m\u001b[0;34m\u001b[0m\u001b[0m\n\u001b[0;32m---> 23\u001b[0;31m     \u001b[0mv\u001b[0m \u001b[0;34m=\u001b[0m \u001b[0mpolicy_eval\u001b[0m\u001b[0;34m(\u001b[0m\u001b[0mP\u001b[0m\u001b[0;34m,\u001b[0m \u001b[0mR\u001b[0m\u001b[0;34m,\u001b[0m \u001b[0mpi\u001b[0m\u001b[0;34m)\u001b[0m\u001b[0;34m\u001b[0m\u001b[0;34m\u001b[0m\u001b[0m\n\u001b[0m\u001b[1;32m     24\u001b[0m     \u001b[0mpi\u001b[0m \u001b[0;34m=\u001b[0m \u001b[0mpolicy_upd\u001b[0m\u001b[0;34m(\u001b[0m\u001b[0mP\u001b[0m\u001b[0;34m,\u001b[0m \u001b[0mR\u001b[0m\u001b[0;34m,\u001b[0m \u001b[0mv\u001b[0m\u001b[0;34m)\u001b[0m\u001b[0;34m\u001b[0m\u001b[0;34m\u001b[0m\u001b[0m\n\u001b[1;32m     25\u001b[0m \u001b[0;34m\u001b[0m\u001b[0m\n",
            "\u001b[0;32m<ipython-input-17-4bc625006c37>\u001b[0m in \u001b[0;36mpolicy_eval\u001b[0;34m(P, R, pi, maxiter)\u001b[0m\n\u001b[1;32m      6\u001b[0m             np.matmul(\n\u001b[1;32m      7\u001b[0m                 \u001b[0mnp\u001b[0m\u001b[0;34m.\u001b[0m\u001b[0mexpand_dims\u001b[0m\u001b[0;34m(\u001b[0m \u001b[0mpi\u001b[0m\u001b[0;34m,\u001b[0m \u001b[0;36m1\u001b[0m \u001b[0;34m)\u001b[0m\u001b[0;34m,\u001b[0m\u001b[0;34m\u001b[0m\u001b[0;34m\u001b[0m\u001b[0m\n\u001b[0;32m----> 8\u001b[0;31m                 np.expand_dims( R + 0.6 * np.dot(P, V[i]), 2 )))\n\u001b[0m\u001b[1;32m      9\u001b[0m \u001b[0;34m\u001b[0m\u001b[0m\n\u001b[1;32m     10\u001b[0m     \u001b[0;32mreturn\u001b[0m \u001b[0mV\u001b[0m\u001b[0;34m[\u001b[0m\u001b[0mmaxiter\u001b[0m\u001b[0;34m-\u001b[0m\u001b[0;36m1\u001b[0m\u001b[0;34m]\u001b[0m\u001b[0;34m\u001b[0m\u001b[0;34m\u001b[0m\u001b[0m\n",
            "\u001b[0;32m/usr/local/lib/python3.10/dist-packages/numpy/core/overrides.py\u001b[0m in \u001b[0;36mdot\u001b[0;34m(*args, **kwargs)\u001b[0m\n",
            "\u001b[0;31mValueError\u001b[0m: shapes (16,16) and (15,) not aligned: 16 (dim 1) != 15 (dim 0)"
          ]
        }
      ]
    },
    {
      "cell_type": "markdown",
      "id": "653cf068-a4fa-4c61-938b-03821f02b244",
      "metadata": {
        "id": "653cf068-a4fa-4c61-938b-03821f02b244"
      },
      "source": [
        "### In summary,"
      ]
    },
    {
      "cell_type": "code",
      "execution_count": null,
      "id": "9621be64-6454-46d5-89c9-4a7159fbc40a",
      "metadata": {
        "colab": {
          "base_uri": "https://localhost:8080/"
        },
        "id": "9621be64-6454-46d5-89c9-4a7159fbc40a",
        "outputId": "6858fbe7-672a-4749-9761-a8e9e6a2f699"
      },
      "outputs": [
        {
          "output_type": "stream",
          "name": "stdout",
          "text": [
            "[[-1.8125088 -2.258132   1.        -2.346084 ]\n",
            " [-2.346084  -2.381265  -1.8125088 -2.434036 ]\n",
            " [-2.434036  -2.346084  -2.346084  -2.434036 ]\n",
            " [ 1.        -2.346084  -1.8125088 -2.258132 ]\n",
            " [-1.8125088 -2.381265  -1.8125088 -2.381265 ]\n",
            " [-2.346084  -2.258132  -2.258132  -2.346084 ]\n",
            " [-2.434036  -1.8125088 -2.381265  -2.346084 ]\n",
            " [-1.8125088 -2.434036  -2.346084  -2.381265 ]\n",
            " [-2.258132  -2.346084  -2.346084  -2.258132 ]\n",
            " [-2.381265  -1.8125088 -2.381265  -1.8125088]\n",
            " [-2.346084   1.        -2.258132  -1.8125088]\n",
            " [-2.346084  -2.434036  -2.434036  -2.346084 ]\n",
            " [-2.381265  -2.346084  -2.434036  -1.8125088]\n",
            " [-2.258132  -1.8125088 -2.346084   1.       ]\n",
            " [ 0.         0.         0.         0.       ]]\n",
            "[[-0.39999998 -1.24        1.         -1.24      ]\n",
            " [-1.24       -1.744      -0.39999998 -1.744     ]\n",
            " [-1.744      -1.24       -1.24       -1.744     ]\n",
            " [ 1.         -1.24       -0.39999998 -1.24      ]\n",
            " [-0.39999998 -1.744      -0.39999998 -1.744     ]\n",
            " [-1.24       -1.24       -1.24       -1.24      ]\n",
            " [-1.744      -0.39999998 -1.744      -1.24      ]\n",
            " [-0.39999998 -1.744      -1.24       -1.744     ]\n",
            " [-1.24       -1.24       -1.24       -1.24      ]\n",
            " [-1.744      -0.39999998 -1.744      -0.39999998]\n",
            " [-1.24        1.         -1.24       -0.39999998]\n",
            " [-1.24       -1.744      -1.744      -1.24      ]\n",
            " [-1.744      -1.24       -1.744      -0.39999998]\n",
            " [-1.24       -0.39999998 -1.24        1.        ]\n",
            " [ 0.          0.          0.          0.        ]]\n",
            "[[-0.39999998 -1.24        1.         -1.24      ]\n",
            " [-1.24       -1.744      -0.39999998 -1.744     ]\n",
            " [-1.744      -1.24       -1.24       -1.744     ]\n",
            " [ 1.         -1.24       -0.39999998 -1.24      ]\n",
            " [-0.39999998 -1.744      -0.39999998 -1.744     ]\n",
            " [-1.24       -1.24       -1.24       -1.24      ]\n",
            " [-1.744      -0.39999998 -1.744      -1.24      ]\n",
            " [-0.39999998 -1.744      -1.24       -1.744     ]\n",
            " [-1.24       -1.24       -1.24       -1.24      ]\n",
            " [-1.744      -0.39999998 -1.744      -0.39999998]\n",
            " [-1.24        1.         -1.24       -0.39999998]\n",
            " [-1.24       -1.744      -1.744      -1.24      ]\n",
            " [-1.744      -1.24       -1.744      -0.39999998]\n",
            " [-1.24       -0.39999998 -1.24        1.        ]\n",
            " [ 0.          0.          0.          0.        ]]\n",
            "[[0. 0. 1. 0.]\n",
            " [0. 0. 1. 0.]\n",
            " [0. 1. 0. 0.]\n",
            " [1. 0. 0. 0.]\n",
            " [1. 0. 0. 0.]\n",
            " [1. 0. 0. 0.]\n",
            " [0. 1. 0. 0.]\n",
            " [1. 0. 0. 0.]\n",
            " [1. 0. 0. 0.]\n",
            " [0. 1. 0. 0.]\n",
            " [0. 1. 0. 0.]\n",
            " [1. 0. 0. 0.]\n",
            " [0. 0. 0. 1.]\n",
            " [0. 0. 0. 1.]\n",
            " [1. 0. 0. 0.]]\n"
          ]
        }
      ],
      "source": [
        "def policy_eval(P, R, pi, maxiter=30):\n",
        "    V = np.zeros((maxiter, 15), dtype='float32')\n",
        "\n",
        "    for i in range(maxiter-1):\n",
        "        V[i+1] = np.squeeze(\n",
        "            np.matmul(\n",
        "                np.expand_dims( pi, 1 ),\n",
        "                np.expand_dims( R + 0.6 * np.dot(P, V[i]), 2 )))\n",
        "\n",
        "    return V[maxiter-1]\n",
        "\n",
        "def policy_upd(P, R, v):\n",
        "    print(np.squeeze(np.expand_dims( R + 0.6 * np.dot(P, v), 2 )))\n",
        "    a_idx = np.argmax(np.squeeze(np.expand_dims( R + 0.6 * np.dot(P, v), 2 )), axis=1)\n",
        "    pi = np.zeros((15, 4), dtype='float32')\n",
        "    pi[range(15), a_idx] = 1.\n",
        "    return pi\n",
        "\n",
        "pi_old = None\n",
        "pi = np.ones((15, 4), dtype='float32') * 0.25\n",
        "\n",
        "while not np.all(np.equal(pi_old, pi)):\n",
        "    pi_old = pi.copy()\n",
        "    v = policy_eval(P, R, pi)\n",
        "    pi = policy_upd(P, R, v)\n",
        "\n",
        "print(pi)"
      ]
    },
    {
      "cell_type": "code",
      "execution_count": null,
      "id": "80c01550-0ecb-4586-9840-7e035a1136aa",
      "metadata": {
        "colab": {
          "base_uri": "https://localhost:8080/",
          "height": 386
        },
        "id": "80c01550-0ecb-4586-9840-7e035a1136aa",
        "outputId": "7752ce85-c4af-403a-c8a1-82cd1760c4f6"
      },
      "outputs": [
        {
          "output_type": "error",
          "ename": "ValueError",
          "evalue": "operands could not be broadcast together with shapes (16,4) (16,) ",
          "traceback": [
            "\u001b[0;31m---------------------------------------------------------------------------\u001b[0m",
            "\u001b[0;31mValueError\u001b[0m                                Traceback (most recent call last)",
            "\u001b[0;32m<ipython-input-12-cdc9e3da84ce>\u001b[0m in \u001b[0;36m<cell line: 56>\u001b[0;34m()\u001b[0m\n\u001b[1;32m     56\u001b[0m \u001b[0;32mwhile\u001b[0m \u001b[0;32mnot\u001b[0m \u001b[0mnp\u001b[0m\u001b[0;34m.\u001b[0m\u001b[0mall\u001b[0m\u001b[0;34m(\u001b[0m\u001b[0mnp\u001b[0m\u001b[0;34m.\u001b[0m\u001b[0mequal\u001b[0m\u001b[0;34m(\u001b[0m\u001b[0mpi_old\u001b[0m\u001b[0;34m,\u001b[0m \u001b[0mpi\u001b[0m\u001b[0;34m)\u001b[0m\u001b[0;34m)\u001b[0m\u001b[0;34m:\u001b[0m\u001b[0;34m\u001b[0m\u001b[0;34m\u001b[0m\u001b[0m\n\u001b[1;32m     57\u001b[0m     \u001b[0mpi_old\u001b[0m \u001b[0;34m=\u001b[0m \u001b[0mpi\u001b[0m\u001b[0;34m.\u001b[0m\u001b[0mcopy\u001b[0m\u001b[0;34m(\u001b[0m\u001b[0;34m)\u001b[0m\u001b[0;34m\u001b[0m\u001b[0;34m\u001b[0m\u001b[0m\n\u001b[0;32m---> 58\u001b[0;31m     \u001b[0mv\u001b[0m \u001b[0;34m=\u001b[0m \u001b[0mpolicy_eval\u001b[0m\u001b[0;34m(\u001b[0m\u001b[0mP\u001b[0m\u001b[0;34m,\u001b[0m \u001b[0mR\u001b[0m\u001b[0;34m,\u001b[0m \u001b[0mpi\u001b[0m\u001b[0;34m)\u001b[0m\u001b[0;34m\u001b[0m\u001b[0;34m\u001b[0m\u001b[0m\n\u001b[0m\u001b[1;32m     59\u001b[0m     \u001b[0mpi\u001b[0m \u001b[0;34m=\u001b[0m \u001b[0mpolicy_upd\u001b[0m\u001b[0;34m(\u001b[0m\u001b[0mP\u001b[0m\u001b[0;34m,\u001b[0m \u001b[0mR\u001b[0m\u001b[0;34m,\u001b[0m \u001b[0mv\u001b[0m\u001b[0;34m)\u001b[0m\u001b[0;34m\u001b[0m\u001b[0;34m\u001b[0m\u001b[0m\n\u001b[1;32m     60\u001b[0m \u001b[0;34m\u001b[0m\u001b[0m\n",
            "\u001b[0;32m<ipython-input-12-cdc9e3da84ce>\u001b[0m in \u001b[0;36mpolicy_eval\u001b[0;34m(P, R, pi, maxiter)\u001b[0m\n\u001b[1;32m     32\u001b[0m             np.matmul(\n\u001b[1;32m     33\u001b[0m                 \u001b[0mnp\u001b[0m\u001b[0;34m.\u001b[0m\u001b[0mexpand_dims\u001b[0m\u001b[0;34m(\u001b[0m\u001b[0mpi\u001b[0m\u001b[0;34m,\u001b[0m \u001b[0;36m1\u001b[0m\u001b[0;34m)\u001b[0m\u001b[0;34m,\u001b[0m\u001b[0;34m\u001b[0m\u001b[0;34m\u001b[0m\u001b[0m\n\u001b[0;32m---> 34\u001b[0;31m                 np.expand_dims(R + 0.6 * np.dot(P, V[i]), 2)))\n\u001b[0m\u001b[1;32m     35\u001b[0m \u001b[0;34m\u001b[0m\u001b[0m\n\u001b[1;32m     36\u001b[0m     \u001b[0;32mreturn\u001b[0m \u001b[0mV\u001b[0m\u001b[0;34m[\u001b[0m\u001b[0mmaxiter\u001b[0m\u001b[0;34m-\u001b[0m\u001b[0;36m1\u001b[0m\u001b[0;34m]\u001b[0m\u001b[0;34m\u001b[0m\u001b[0;34m\u001b[0m\u001b[0m\n",
            "\u001b[0;31mValueError\u001b[0m: operands could not be broadcast together with shapes (16,4) (16,) "
          ]
        }
      ],
      "source": [
        "import numpy as np\n",
        "\n",
        "# Define the transition probability matrix P for a deterministic grid world\n",
        "# (assuming that the agent always reaches the intended cell)\n",
        "P = np.eye(16)\n",
        "\n",
        "# Define the reward matrix R\n",
        "# R[s, a] is the reward for taking action a in state s\n",
        "R = np.zeros((16, 4), dtype='float32')\n",
        "\n",
        "# Define the blocked cells\n",
        "blocked_cells = [1, 5, 6, 10]\n",
        "\n",
        "# Set rewards for valid actions (up, down, left, right)\n",
        "for s in range(16):\n",
        "    if s not in blocked_cells:\n",
        "        # Up\n",
        "        R[s, 0] = -1 if s - 4 < 0 or (s - 4) in blocked_cells else 0\n",
        "        # Down\n",
        "        R[s, 1] = -1 if s + 4 > 15 or (s + 4) in blocked_cells else 0\n",
        "        # Left\n",
        "        R[s, 2] = -1 if s % 4 == 0 or (s - 1) in blocked_cells else 0\n",
        "        # Right\n",
        "        R[s, 3] = -1 if (s + 1) % 4 == 0 or (s + 1) in blocked_cells else 0\n",
        "\n",
        "# Function for policy evaluation\n",
        "def policy_eval(P, R, pi, maxiter=30):\n",
        "    V = np.zeros((maxiter, 16), dtype='float32')\n",
        "\n",
        "    for i in range(maxiter-1):\n",
        "        V[i+1] = np.squeeze(\n",
        "            np.matmul(\n",
        "                np.expand_dims(pi, 1),\n",
        "                np.expand_dims(R + 0.6 * np.dot(P, V[i]), 2)))\n",
        "\n",
        "    return V[maxiter-1]\n",
        "\n",
        "# Function for policy update\n",
        "def policy_upd(P, R, v):\n",
        "    # Set the policy to 0 for blocked cells\n",
        "    R_blocked = np.copy(R)\n",
        "    R_blocked[:, :] = -np.inf\n",
        "    for blocked_cell in blocked_cells:\n",
        "        R_blocked[blocked_cell, :] = 0\n",
        "\n",
        "    a_idx = np.argmax(np.squeeze(np.expand_dims(R_blocked + 0.6 * np.dot(P, v), 2)), axis=1)\n",
        "    pi = np.zeros((16, 4), dtype='float32')\n",
        "    pi[range(16), a_idx] = 1.\n",
        "    return pi\n",
        "\n",
        "# Initial policy\n",
        "pi_old = None\n",
        "pi = np.ones((16, 4), dtype='float32') * 0.25\n",
        "\n",
        "# Policy iteration loop\n",
        "while not np.all(np.equal(pi_old, pi)):\n",
        "    pi_old = pi.copy()\n",
        "    v = policy_eval(P, R, pi)\n",
        "    pi = policy_upd(P, R, v)\n",
        "\n",
        "# Display the final policy\n",
        "print(pi)\n"
      ]
    },
    {
      "cell_type": "code",
      "source": [
        "def find_path(grid, start, goal):\n",
        "    queue = [(start, [start])]\n",
        "    visited = set()\n",
        "\n",
        "    while queue:\n",
        "        (current, path) = queue.pop(0)\n",
        "        if current in visited:\n",
        "            continue\n",
        "\n",
        "        visited.add(current)\n",
        "\n",
        "        for direction in [(1, 0), (-1, 0), (0, 1), (0, -1)]:\n",
        "            next_step = (current[0] + direction[0], current[1] + direction[1])\n",
        "\n",
        "            if (\n",
        "                0 <= next_step[0] < len(grid) and\n",
        "                0 <= next_step[1] < len(grid[0]) and\n",
        "                grid[next_step[0]][next_step[1]] != -1\n",
        "            ):\n",
        "                new_path = list(path)\n",
        "                new_path.append(next_step)\n",
        "\n",
        "                if grid[next_step[0]][next_step[1]] == goal:\n",
        "                    return new_path\n",
        "\n",
        "                queue.append((next_step, new_path))\n",
        "\n",
        "# Example usage\n",
        "grid = [\n",
        "    [  0,1,2,3],\n",
        "    [4, -11,-11,-11],\n",
        "    [5,6,-11,11]\n",
        "    ,[7,8,9,10]\n",
        "]\n",
        "\n",
        "print(find_path(grid=grid,start=(0,0),goal=11))\n"
      ],
      "metadata": {
        "colab": {
          "base_uri": "https://localhost:8080/"
        },
        "id": "9eAuH6pCqpvR",
        "outputId": "b7cbb9c9-cf88-48d6-9ce7-c78b9753b586"
      },
      "id": "9eAuH6pCqpvR",
      "execution_count": null,
      "outputs": [
        {
          "output_type": "stream",
          "name": "stdout",
          "text": [
            "[(0, 0), (1, 0), (2, 0), (2, 1), (2, 2), (2, 3)]\n"
          ]
        }
      ]
    },
    {
      "cell_type": "code",
      "source": [
        "import numpy as np\n",
        "\n",
        "P = np.array([\n",
        "    # up\n",
        "    [[1, 0, 0, 0, 0, 0, 0, 0, 0, 0, 0, 0, 0, 0, 0],\n",
        "     [0, 1, 0, 0, 0, 0, 0, 0, 0, 0, 0, 0, 0, 0, 0],\n",
        "     [0, 0, 1, 0, 0, 0, 0, 0, 0, 0, 0, 0, 0, 0, 0],\n",
        "     [0, 0, 0, 0, 0, 0, 0, 0, 0, 0, 0, 0, 0, 0, 1],\n",
        "     [1, 0, 0, 0, 0, 0, 0, 0, 0, 0, 0, 0, 0, 0, 0],\n",
        "     [0, 1, 0, 0, 0, 0, 0, 0, 0, 0, 0, 0, 0, 0, 0],\n",
        "     [0, 0, 1, 0, 0, 0, 0, 0, 0, 0, 0, 0, 0, 0, 0],\n",
        "     [0, 0, 0, 1, 0, 0, 0, 0, 0, 0, 0, 0, 0, 0, 0],\n",
        "     [0, 0, 0, 0, 1, 0, 0, 0, 0, 0, 0, 0, 0, 0, 0],\n",
        "     [0, 0, 0, 0, 0, 1, 0, 0, 0, 0, 0, 0, 0, 0, 0],\n",
        "     [0, 0, 0, 0, 0, 0, 1, 0, 0, 0, 0, 0, 0, 0, 0],\n",
        "     [0, 0, 0, 0, 0, 0, 0, 1, 0, 0, 0, 0, 0, 0, 0],\n",
        "     [0, 0, 0, 0, 0, 0, 0, 0, 1, 0, 0, 0, 0, 0, 0],\n",
        "     [0, 0, 0, 0, 0, 0, 0, 0, 0, 1, 0, 0, 0, 0, 0],\n",
        "     [0, 0, 0, 0, 0, 0, 0, 0, 0, 0, 0, 0, 0, 0, 1]],\n",
        "\n",
        "    # down\n",
        "    [[0, 0, 0, 0, 1, 0, 0, 0, 0, 0, 0, 0, 0, 0, 0],\n",
        "     [0, 0, 0, 0, 0, 1, 0, 0, 0, 0, 0, 0, 0, 0, 0],\n",
        "     [0, 0, 0, 0, 0, 0, 1, 0, 0, 0, 0, 0, 0, 0, 0],\n",
        "     [0, 0, 0, 0, 0, 0, 0, 1, 0, 0, 0, 0, 0, 0, 0],\n",
        "     [0, 0, 0, 0, 0, 0, 0, 0, 1, 0, 0, 0, 0, 0, 0],\n",
        "     [0, 0, 0, 0, 0, 0, 0, 0, 0, 1, 0, 0, 0, 0, 0],\n",
        "     [0, 0, 0, 0, 0, 0, 0, 0, 0, 0, 1, 0, 0, 0, 0],\n",
        "     [0, 0, 0, 0, 0, 0, 0, 0, 0, 0, 0, 1, 0, 0, 0],\n",
        "     [0, 0, 0, 0, 0, 0, 0, 0, 0, 0, 0, 0, 1, 0, 0],\n",
        "     [0, 0, 0, 0, 0, 0, 0, 0, 0, 0, 0, 0, 0, 1, 0],\n",
        "     [0, 0, 0, 0, 0, 0, 0, 0, 0, 0, 0, 0, 0, 0, 1],\n",
        "     [0, 0, 0, 0, 0, 0, 0, 0, 0, 0, 0, 1, 0, 0, 0],\n",
        "     [0, 0, 0, 0, 0, 0, 0, 0, 0, 0, 0, 0, 1, 0, 0],\n",
        "     [0, 0, 0, 0, 0, 0, 0, 0, 0, 0, 0, 0, 0, 1, 0],\n",
        "     [0, 0, 0, 0, 0, 0, 0, 0, 0, 0, 0, 0, 0, 0, 1]],\n",
        "\n",
        "    # left\n",
        "    [[0, 0, 0, 0, 0, 0, 0, 0, 0, 0, 0, 0, 0, 0, 1],\n",
        "     [1, 0, 0, 0, 0, 0, 0, 0, 0, 0, 0, 0, 0, 0, 0],\n",
        "     [0, 1, 0, 0, 0, 0, 0, 0, 0, 0, 0, 0, 0, 0, 0],\n",
        "     [0, 0, 0, 1, 0, 0, 0, 0, 0, 0, 0, 0, 0, 0, 0],\n",
        "     [0, 0, 0, 1, 0, 0, 0, 0, 0, 0, 0, 0, 0, 0, 0],\n",
        "     [0, 0, 0, 0, 1, 0, 0, 0, 0, 0, 0, 0, 0, 0, 0],\n",
        "     [0, 0, 0, 0, 0, 1, 0, 0, 0, 0, 0, 0, 0, 0, 0],\n",
        "     [0, 0, 0, 0, 0, 0, 0, 1, 0, 0, 0, 0, 0, 0, 0],\n",
        "     [0, 0, 0, 0, 0, 0, 0, 1, 0, 0, 0, 0, 0, 0, 0],\n",
        "     [0, 0, 0, 0, 0, 0, 0, 0, 1, 0, 0, 0, 0, 0, 0],\n",
        "     [0, 0, 0, 0, 0, 0, 0, 0, 0, 1, 0, 0, 0, 0, 0],\n",
        "     [0, 0, 0, 0, 0, 0, 0, 0, 0, 0, 0, 1, 0, 0, 0],\n",
        "     [0, 0, 0, 0, 0, 0, 0, 0, 0, 0, 0, 1, 0, 0, 0],\n",
        "     [0, 0, 0, 0, 0, 0, 0, 0, 0, 0, 0, 0, 1, 0, 0],\n",
        "     [0, 0, 0, 0, 0, 0, 0, 0, 0, 0, 0, 0, 0, 0, 1]],\n",
        "\n",
        "    # right\n",
        "    [[0, 1, 0, 0, 0, 0, 0, 0, 0, 0, 0, 0, 0, 0, 0],\n",
        "     [0, 0, 1, 0, 0, 0, 0, 0, 0, 0, 0, 0, 0, 0, 0],\n",
        "     [0, 0, 1, 0, 0, 0, 0, 0, 0, 0, 0, 0, 0, 0, 0],\n",
        "     [0, 0, 0, 0, 1, 0, 0, 0, 0, 0, 0, 0, 0, 0, 0],\n",
        "     [0, 0, 0, 0, 0, 1, 0, 0, 0, 0, 0, 0, 0, 0, 0],\n",
        "     [0, 0, 0, 0, 0, 0, 1, 0, 0, 0, 0, 0, 0, 0, 0],\n",
        "     [0, 0, 0, 0, 0, 0, 1, 0, 0, 0, 0, 0, 0, 0, 0],\n",
        "     [0, 0, 0, 0, 0, 0, 0, 0, 1, 0, 0, 0, 0, 0, 0],\n",
        "     [0, 0, 0, 0, 0, 0, 0, 0, 0, 1, 0, 0, 0, 0, 0],\n",
        "     [0, 0, 0, 0, 0, 0, 0, 0, 0, 0, 1, 0, 0, 0, 0],\n",
        "     [0, 0, 0, 0, 0, 0, 0, 0, 0, 0, 1, 0, 0, 0, 0],\n",
        "     [0, 0, 0, 0, 0, 0, 0, 0, 0, 0, 0, 0, 1, 0, 0],\n",
        "     [0, 0, 0, 0, 0, 0, 0, 0, 0, 0, 0, 0, 0, 1, 0],\n",
        "     [0, 0, 0, 0, 0, 0, 0, 0, 0, 0, 0, 0, 0, 0, 1],\n",
        "     [0, 0, 0, 0, 0, 0, 0, 0, 0, 0, 0, 0, 0, 0, 1]]], dtype='float32')\n",
        "\n",
        "P.shape\n",
        "P = P.transpose(1, 0, 2)\n",
        "R = np.array([\n",
        "    [-1, -1, -1,  1, -1, -1, -1, -1, -1, -1, -1, -1, -1, -1,  0], # up\n",
        "    [-1, -1, -1, -1, -1, -1, -1, -1, -1, -1,  1, -1, -1, -1,  0], # down\n",
        "    [ 1, -1, -1, -1, -1, -1, -1, -1, -1, -1, -1, -1, -1, -1,  0], # left\n",
        "    [-1, -1, -1, -1, -1, -1, -1, -1, -1, -1, -1, -1, -1,  1,  0]], #right\n",
        "    dtype='float32')\n",
        "R = R.transpose()\n",
        "pi = np.ones((15, 4), dtype='float32') * 0.25\n",
        "def policy_eval(P, R, pi, maxiter=30):\n",
        "    V = np.zeros((maxiter, 15), dtype='float32')\n",
        "\n",
        "    for i in range(maxiter-1):\n",
        "        V[i+1] = np.squeeze(\n",
        "            np.matmul(\n",
        "                np.expand_dims( pi, 1 ),\n",
        "                np.expand_dims( R + 0.6 * np.dot(P, V[i]), 2 )))\n",
        "\n",
        "    return V[maxiter-1]\n",
        "\n",
        "def policy_upd(P, R, v):\n",
        "    a_idx = np.argmax(np.squeeze(np.expand_dims( R + 0.6 * np.dot(P, v), 2 )), axis=1)\n",
        "    pi = np.zeros((15, 4), dtype='float32')\n",
        "    pi[range(15), a_idx] = 1.\n",
        "    return pi\n",
        "\n",
        "pi_old = None\n",
        "pi = np.ones((15, 4), dtype='float32') * 0.25\n",
        "\n",
        "while not np.all(np.equal(pi_old, pi)):\n",
        "    pi_old = pi.copy()\n",
        "    v = policy_eval(P, R, pi)\n",
        "    pi = policy_upd(P, R, v)\n",
        "\n",
        "print(\"The optimal policy is:\\n\", pi)"
      ],
      "metadata": {
        "colab": {
          "base_uri": "https://localhost:8080/"
        },
        "id": "C7pvbj9gyB3Y",
        "outputId": "e8fb6f5a-08fb-481b-c882-f3c1fbbeddf3"
      },
      "id": "C7pvbj9gyB3Y",
      "execution_count": null,
      "outputs": [
        {
          "output_type": "stream",
          "name": "stdout",
          "text": [
            "The optimal policy is:\n",
            " [[0. 0. 1. 0.]\n",
            " [0. 0. 1. 0.]\n",
            " [0. 1. 0. 0.]\n",
            " [1. 0. 0. 0.]\n",
            " [1. 0. 0. 0.]\n",
            " [1. 0. 0. 0.]\n",
            " [0. 1. 0. 0.]\n",
            " [1. 0. 0. 0.]\n",
            " [1. 0. 0. 0.]\n",
            " [0. 1. 0. 0.]\n",
            " [0. 1. 0. 0.]\n",
            " [1. 0. 0. 0.]\n",
            " [0. 0. 0. 1.]\n",
            " [0. 0. 0. 1.]\n",
            " [1. 0. 0. 0.]]\n"
          ]
        }
      ]
    },
    {
      "cell_type": "code",
      "source": [
        "# Path finding\n",
        "\n",
        "import numpy as np\n",
        "P = np.array([\n",
        "# up\n",
        "[[1, 0, 0, 0, 0, 0, 0, 0, 0, 0, 0, 0],\n",
        "[0, 1, 0, 0, 0, 0, 0, 0, 0, 0, 0, 0],\n",
        "[0, 0, 1, 0, 0, 0, 0, 0, 0, 0, 0, 0],\n",
        "[0, 0, 0, 1, 0, 0, 0, 0, 0, 0, 0, 0],\n",
        "[1, 0, 0, 0, 0, 0, 0, 0, 0, 0, 0, 0],\n",
        "[0, 0, 0, 0, 1, 0, 0, 0, 0, 0, 0, 0],\n",
        "[0, 0, 0, 0, 0, 0, 1, 0, 0, 0, 0, 0],\n",
        "[0, 0, 0, 0, 0, 1, 0, 0, 0, 0, 0, 0],\n",
        "[0, 0, 0, 0, 0, 0, 1, 0, 0, 0, 0, 0],\n",
        "[0, 0, 0, 0, 0, 0, 0, 0, 0, 1, 0, 0],\n",
        "[0, 0, 0, 0, 0, 0, 0, 0, 0, 0, 0, 1],\n",
        "[0, 0, 0, 0, 0, 0, 0, 0, 0, 0, 0, 1]],\n",
        "# down\n",
        "[[0, 0, 0, 0, 1, 0, 0, 0, 0, 0, 0, 0],\n",
        "[0, 1, 0, 0, 0, 0, 0, 0, 0, 0, 0, 0],\n",
        "[0, 0, 1, 0, 0, 0, 0, 0, 0, 0, 0, 0],\n",
        "[0, 0, 0, 1, 0, 0, 0, 0, 0, 0, 0, 0],\n",
        "[0, 0, 0, 0, 0, 1, 0, 0, 0, 0, 0, 0],\n",
        "[0, 0, 0, 0, 0, 0, 0, 1, 0, 0, 0, 0],\n",
        "[0, 0, 0, 0, 0, 0, 0, 0, 1, 0, 0, 0],\n",
        "[0, 0, 0, 0, 0, 0, 0, 1, 0, 0, 0, 0],\n",
        "[0, 0, 0, 0, 0, 0, 0, 0, 1, 0, 0, 0],\n",
        "[0, 0, 0, 0, 0, 0, 0, 0, 0, 1, 0, 0],\n",
        "[0, 0, 0, 0, 0, 0, 0, 0, 0, 0, 1, 0],\n",
        "[0, 0, 0, 0, 0, 0, 0, 0, 0, 0, 1, 0]],\n",
        "# left\n",
        "[[1, 0, 0, 0, 0, 0, 0, 0, 0, 0, 0, 0],\n",
        "[1, 0, 0, 0, 0, 0, 0, 0, 0, 0, 0, 0],\n",
        "[0, 1, 0, 0, 0, 0, 0, 0, 0, 0, 0, 0],\n",
        "[0, 0, 1, 0, 0, 0, 0, 0, 0, 0, 0, 0],\n",
        "[0, 0, 0, 0, 1, 0, 0, 0, 0, 0, 0, 0],\n",
        "[0, 0, 0, 0, 0, 1, 0, 0, 0, 0, 0, 0],\n",
        "[0, 0, 0, 0, 0, 1, 0, 0, 0, 0, 0, 0],\n",
        "[0, 0, 0, 0, 0, 0, 0, 1, 0, 0, 0, 0],\n",
        "[0, 0, 0, 0, 0, 0, 0, 1, 0, 0, 0, 0],\n",
        "[0, 0, 0, 0, 0, 0, 0, 0, 1, 0, 0, 0],\n",
        "[0, 0, 0, 0, 0, 0, 0, 0, 0, 1, 0, 0],\n",
        "[0, 0, 0, 0, 0, 0, 0, 0, 0, 0, 0, 1]],\n",
        "# right\n",
        "[[0, 1, 0, 0, 0, 0, 0, 0, 0, 0, 0, 0],\n",
        "[0, 0, 1, 0, 0, 0, 0, 0, 0, 0, 0, 0],\n",
        "[0, 0, 0, 1, 0, 0, 0, 0, 0, 0, 0, 0],\n",
        "[0, 0, 0, 1, 0, 0, 0, 0, 0, 0, 0, 0],\n",
        "[0, 0, 0, 0, 1, 0, 0, 0, 0, 0, 0, 0],\n",
        "[0, 0, 0, 0, 0, 0, 1, 0, 0, 0, 0, 0],\n",
        "[0, 0, 0, 0, 0, 0, 1, 0, 0, 0, 0, 0],\n",
        "[0, 0, 0, 0, 0, 0, 0, 0, 1, 0, 0, 0],\n",
        "[0, 0, 0, 0, 0, 0, 0, 0, 0, 1, 0, 0],\n",
        "[0, 0, 0, 0, 0, 0, 0, 0, 0, 0, 1, 0],\n",
        "[0, 0, 0, 0, 0, 0, 0, 0, 0, 0, 1, 0],\n",
        "[0, 0, 0, 0, 0, 0, 0, 0, 0, 0, 0, 1]]], dtype='float32')\n",
        "P.shape\n",
        "\n",
        "\n",
        "P.shape\n",
        "P = P.transpose(1, 0, 2)\n",
        "R = np.array([\n",
        "[-1, -1, -1, -1, -1, -1, -1, -1, -1, -1, 1, 0], # up\n",
        "[-1, -1, -1, -1, -1, -1, -1, -1, -1, -1, -1, 0], # down\n",
        "[-1, -1, -1, -1, -1, -1, -1, -1, -1, -1, -1, 0], # left\n",
        "[-1, -1, -1, -1, -1, -1, -1, -1, -1, -1, -1, 0]], #right\n",
        "\n",
        "    dtype='float32')\n",
        "R = R.transpose()\n",
        "grid = [\n",
        "    [  0,1,2,3],\n",
        "    [4, -11,-11,-11],\n",
        "    [5,6,-11,11]\n",
        "    ,[7,8,9,10]\n",
        "]\n",
        "# 4번째 행의 3번째 열을 -11로 바꿔주세요.\n",
        "grid[3][2] = -11\n",
        "pi = np.ones((12, 4), dtype='float32') * 0.25\n",
        "def policy_eval(P, R, pi, maxiter=30):\n",
        "    V = np.zeros((maxiter, 12), dtype='float32')\n",
        "\n",
        "    for i in range(maxiter-1):\n",
        "        V[i+1] = np.squeeze(\n",
        "            np.matmul(\n",
        "                np.expand_dims( pi, 1 ),\n",
        "                np.expand_dims( R + 0.6 * np.dot(P, V[i]), 2 )))\n",
        "\n",
        "    return V[maxiter-1]\n",
        "\n",
        "def policy_upd(P, R, v):\n",
        "    a_idx = np.argmax(np.squeeze(np.expand_dims( R + 0.6 * np.dot(P, v), 2 )), axis=1)\n",
        "    pi = np.zeros((12, 4), dtype='float32')\n",
        "    pi[range(12), a_idx] = 1.\n",
        "    return pi\n",
        "\n",
        "pi_old = None\n",
        "pi = np.ones((12, 4), dtype='float32') * 0.25\n",
        "\n",
        "while not np.all(np.equal(pi_old, pi)):\n",
        "    pi_old = pi.copy()\n",
        "    v = policy_eval(P, R, pi)\n",
        "    pi = policy_upd(P, R, v)\n",
        "\n",
        "print(\"The optimal policy is:\\n\", pi)"
      ],
      "metadata": {
        "colab": {
          "base_uri": "https://localhost:8080/"
        },
        "id": "pPFYAsqsy6jk",
        "outputId": "c1c1b181-8502-4739-9073-782ea9dae6af"
      },
      "id": "pPFYAsqsy6jk",
      "execution_count": null,
      "outputs": [
        {
          "output_type": "stream",
          "name": "stdout",
          "text": [
            "The optimal policy is:\n",
            " [[0. 1. 0. 0.]\n",
            " [0. 0. 1. 0.]\n",
            " [0. 0. 1. 0.]\n",
            " [0. 0. 1. 0.]\n",
            " [0. 1. 0. 0.]\n",
            " [0. 1. 0. 0.]\n",
            " [0. 1. 0. 0.]\n",
            " [0. 0. 0. 1.]\n",
            " [0. 0. 0. 1.]\n",
            " [0. 0. 0. 1.]\n",
            " [1. 0. 0. 0.]\n",
            " [0. 1. 0. 0.]]\n"
          ]
        }
      ]
    },
    {
      "cell_type": "code",
      "source": [
        "import numpy as np\n",
        "\n",
        "P = np.array([\n",
        "    [0.5, 0.5, 0, 0],\n",
        "    [0.5, 0, 0.5, 0],\n",
        "    [0, 0.5, 0, 0.5],\n",
        "    [0, 0, 0.5, 0.5]\n",
        "])\n",
        "\n",
        "R = np.array([\n",
        "    [0, 0, 0, 0],\n",
        "    [0, 0, 0, 0],\n",
        "    [0, 0, 0, 0],\n",
        "    [0, 0, 0, 1]\n",
        "])\n",
        "\n",
        "def policy_eval(P, R, pi, maxiter=30):\n",
        "    V = np.zeros((maxiter, 4), dtype='float32')\n",
        "\n",
        "    for i in range(maxiter-1):\n",
        "        V[i+1] = np.squeeze(\n",
        "            np.matmul(\n",
        "                np.expand_dims( pi, 1 ),\n",
        "                np.expand_dims( R + 0.6 * np.dot(P, V[i]), 2 )))\n",
        "\n",
        "    return V[maxiter-1]\n",
        "\n",
        "def policy_upd(P, R, v):\n",
        "    a_idx = np.argmax(np.squeeze(np.expand_dims( R + 0.6 * np.dot(P, v), 2 )), axis=1)\n",
        "    pi = np.zeros((4, 4), dtype='float32')\n",
        "    pi[range(4), a_idx] = 1.\n",
        "    return pi\n",
        "\n",
        "pi_old = None\n",
        "pi = np.ones((4, 4), dtype='float32') * 0.25\n",
        "\n",
        "while not np.all(np.equal(pi_old, pi)):\n",
        "    pi_old = pi.copy()\n",
        "    v = policy_eval(P, R, pi)\n",
        "    pi = policy_upd(P, R, v)\n",
        "\n",
        "print(\"최적의 정책은 다음과 같습니다:\\n\", pi)"
      ],
      "metadata": {
        "colab": {
          "base_uri": "https://localhost:8080/"
        },
        "id": "pjJ4wPwAry-U",
        "outputId": "5fc7d9b9-d5c5-466d-baca-9c60cd98753c"
      },
      "id": "pjJ4wPwAry-U",
      "execution_count": null,
      "outputs": [
        {
          "output_type": "stream",
          "name": "stdout",
          "text": [
            "최적의 정책은 다음과 같습니다:\n",
            " [[0. 0. 1. 0.]\n",
            " [0. 0. 1. 0.]\n",
            " [0. 0. 1. 0.]\n",
            " [0. 0. 0. 1.]]\n"
          ]
        }
      ]
    },
    {
      "cell_type": "code",
      "source": [
        "#e- soft Greedy Policy\n",
        "\n",
        "import random\n",
        "epsilon = 0.01\n",
        "def get_eps_soft_action(step):\n",
        "  assert(step['observation'][0] >= 12 and step['observation'][0] <= 21)\n",
        "  observ = step['observation']\n",
        "  idx = (observ[0] - 12, observ[1] - 1, observ[2])\n",
        "\n",
        "  if random.random() < epsilon:\n",
        "    return 1 if Q[idx][0] > Q[idx][1] else 0\n",
        "  else:\n",
        "    return 1 if Q [idx][0] < Q[idx][1] else 0"
      ],
      "metadata": {
        "id": "CH0yUFdLC7Ud"
      },
      "id": "CH0yUFdLC7Ud",
      "execution_count": null,
      "outputs": []
    },
    {
      "cell_type": "code",
      "source": [
        "def generate_episode():\n",
        "  episode = list()\n",
        "  actions = list()\n",
        "  step = generate_start_step()\n",
        "  episode.append(step)\n",
        "\n",
        "  while step['step_type']!=STEPTYPE_LAST:\n",
        "    action = get_eps_soft_action(step)\n",
        "    step = generate_next_step(step, action)\n",
        "    episode.append(step)\n",
        "    actions.append(action)\n",
        "  return episode, actions\n"
      ],
      "metadata": {
        "id": "AZEA7azQEHex"
      },
      "id": "AZEA7azQEHex",
      "execution_count": null,
      "outputs": []
    },
    {
      "cell_type": "code",
      "source": [
        "def in_episode(epi, observ,action):\n",
        "  for s, a in zip(*epi):\n",
        "    if s['observation'] == observ and a == action:\n",
        "      return True\n",
        "  return False"
      ],
      "metadata": {
        "id": "CxaorgmXEOpr"
      },
      "id": "CxaorgmXEOpr",
      "execution_count": null,
      "outputs": []
    },
    {
      "cell_type": "code",
      "source": [
        "#recall the MC Prediction Algorithm\n",
        "maxiter = 1000000\n",
        "gamma = 1\n",
        "epsilon = 0.4\n",
        "\n",
        "N = np.zeros((10,10,2,2),dtype = 'float32')\n",
        "SUM = np.zeros((10,10,2,2), dtype = 'float32')\n",
        "Q = np.random.uniform(size = (10,10,2,2))\n",
        "\n",
        "for _ in range(maxiter):\n",
        "  episode = generate_episode()\n",
        "  G = 0\n",
        "  last_step = episode[0]\n",
        "  while len(episode[0])>0:\n",
        "    G = gamma*G + last_step['reward']\n",
        "    last_step = episode[0].pop()\n",
        "    last_action = episode[1].pop()\n",
        "    observ = last_step['observation']\n",
        "    idx = (observ[0] - 12, observ[1] - 1, observ[2], last_action)\n",
        "    if not in_episode(episode, observ, last_action):\n",
        "      N[idx] += 1\n",
        "      SUM[idx] += G\n",
        "      Q[idx] = SUM"
      ],
      "metadata": {
        "id": "AACICLgeFz1-"
      },
      "id": "AACICLgeFz1-",
      "execution_count": null,
      "outputs": []
    }
  ],
  "metadata": {
    "kernelspec": {
      "display_name": "Python 3 (ipykernel)",
      "language": "python",
      "name": "python3"
    },
    "language_info": {
      "codemirror_mode": {
        "name": "ipython",
        "version": 3
      },
      "file_extension": ".py",
      "mimetype": "text/x-python",
      "name": "python",
      "nbconvert_exporter": "python",
      "pygments_lexer": "ipython3",
      "version": "3.10.12"
    },
    "colab": {
      "provenance": [],
      "include_colab_link": true
    }
  },
  "nbformat": 4,
  "nbformat_minor": 5
}
