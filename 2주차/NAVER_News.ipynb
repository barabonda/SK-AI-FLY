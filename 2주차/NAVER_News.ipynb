{
  "cells": [
    {
      "cell_type": "markdown",
      "metadata": {
        "id": "view-in-github",
        "colab_type": "text"
      },
      "source": [
        "<a href=\"https://colab.research.google.com/github/barabonda/SK-AI-FLY/blob/main/2%EC%A3%BC%EC%B0%A8/NAVER_News.ipynb\" target=\"_parent\"><img src=\"https://colab.research.google.com/assets/colab-badge.svg\" alt=\"Open In Colab\"/></a>"
      ]
    },
    {
      "cell_type": "markdown",
      "metadata": {
        "id": "PGHjGoL52rFp"
      },
      "source": [
        "# 네이버 뉴스기사 크롤링"
      ]
    },
    {
      "cell_type": "code",
      "execution_count": 2,
      "metadata": {
        "id": "kxCahjSd2rFr"
      },
      "outputs": [],
      "source": [
        "import requests\n",
        "from bs4 import BeautifulSoup"
      ]
    },
    {
      "cell_type": "code",
      "execution_count": 8,
      "metadata": {
        "id": "yFc60rzE2rFu"
      },
      "outputs": [],
      "source": [
        "url_format = 'https://search.naver.com/search.naver?&where=news&query={0}&sm=tab_pge&sort=0&photo=0&field=0&reporter_article=&pd=3&ds={1}&de={2}&docid=&nso=so:r,p:from{3}to{4},a:all&mynews=0&cluster_rank=34&start={5}'\n",
        "# 2020.08.01\n",
        "# 20200801\n",
        "# 1 (page*10+1)"
      ]
    },
    {
      "cell_type": "code",
      "execution_count": 13,
      "metadata": {
        "id": "VlT6bolP2rFv"
      },
      "outputs": [],
      "source": [
        "r = requests.get(url_format.format('12월 25일', '2023.12.1', '2023.12.25', '20231201', '20231225', '1'))\n",
        "                               #검색어, 시작 날짜,   종료 날짜,    시작날짜,   종료날짜,   페이지"
      ]
    },
    {
      "cell_type": "code",
      "execution_count": 22,
      "metadata": {
        "id": "iby_iD4j2rFw"
      },
      "outputs": [],
      "source": [
        "sp = BeautifulSoup(r.text, 'html.parser')"
      ]
    },
    {
      "cell_type": "code",
      "execution_count": 23,
      "metadata": {
        "id": "rxdZ_pLa2rFw"
      },
      "outputs": [],
      "source": [
        "sources = sp.select('div.group_news > ul.list_news > li div.news_area > a')"
      ]
    },
    {
      "cell_type": "code",
      "execution_count": 25,
      "metadata": {
        "colab": {
          "base_uri": "https://localhost:8080/"
        },
        "id": "vw9uQsmm2rFx",
        "outputId": "68d311db-e0e4-403b-c607-68cace4e50b8"
      },
      "outputs": [
        {
          "output_type": "execute_result",
          "data": {
            "text/plain": [
              "0"
            ]
          },
          "metadata": {},
          "execution_count": 25
        }
      ],
      "source": [
        "len(sources)"
      ]
    },
    {
      "cell_type": "code",
      "execution_count": 17,
      "metadata": {
        "id": "ISjAjl3y2rFy"
      },
      "outputs": [],
      "source": [
        "for source in sources:\n",
        "    print(source.attrs['href'])"
      ]
    },
    {
      "cell_type": "code",
      "execution_count": 18,
      "metadata": {
        "colab": {
          "base_uri": "https://localhost:8080/",
          "height": 182
        },
        "id": "b-dOGYaS2rFz",
        "outputId": "c37b443e-d181-436a-dbef-0974d4030d8b"
      },
      "outputs": [
        {
          "output_type": "error",
          "ename": "IndexError",
          "evalue": "ignored",
          "traceback": [
            "\u001b[0;31m---------------------------------------------------------------------------\u001b[0m",
            "\u001b[0;31mIndexError\u001b[0m                                Traceback (most recent call last)",
            "\u001b[0;32m<ipython-input-18-e4f4a04aa4f0>\u001b[0m in \u001b[0;36m<cell line: 1>\u001b[0;34m()\u001b[0m\n\u001b[0;32m----> 1\u001b[0;31m \u001b[0mnews_r\u001b[0m \u001b[0;34m=\u001b[0m \u001b[0mrequests\u001b[0m\u001b[0;34m.\u001b[0m\u001b[0mget\u001b[0m\u001b[0;34m(\u001b[0m\u001b[0msources\u001b[0m\u001b[0;34m[\u001b[0m\u001b[0;36m0\u001b[0m\u001b[0;34m]\u001b[0m\u001b[0;34m.\u001b[0m\u001b[0mattrs\u001b[0m\u001b[0;34m[\u001b[0m\u001b[0;34m'href'\u001b[0m\u001b[0;34m]\u001b[0m\u001b[0;34m)\u001b[0m\u001b[0;34m\u001b[0m\u001b[0;34m\u001b[0m\u001b[0m\n\u001b[0m",
            "\u001b[0;31mIndexError\u001b[0m: list index out of range"
          ]
        }
      ],
      "source": [
        "news_r = requests.get(sources[0].attrs['href'])"
      ]
    },
    {
      "cell_type": "code",
      "execution_count": 19,
      "metadata": {
        "colab": {
          "base_uri": "https://localhost:8080/",
          "height": 219
        },
        "id": "pgtefxnr2rFz",
        "outputId": "562d0fd3-96c4-4e55-aec1-f86c19c3b6f5"
      },
      "outputs": [
        {
          "output_type": "error",
          "ename": "NameError",
          "evalue": "ignored",
          "traceback": [
            "\u001b[0;31m---------------------------------------------------------------------------\u001b[0m",
            "\u001b[0;31mNameError\u001b[0m                                 Traceback (most recent call last)",
            "\u001b[0;32m<ipython-input-19-c41efc0dacab>\u001b[0m in \u001b[0;36m<cell line: 1>\u001b[0;34m()\u001b[0m\n\u001b[0;32m----> 1\u001b[0;31m \u001b[0mnews_sp\u001b[0m \u001b[0;34m=\u001b[0m \u001b[0mBeautifulSoup\u001b[0m\u001b[0;34m(\u001b[0m\u001b[0mnews_r\u001b[0m\u001b[0;34m.\u001b[0m\u001b[0mtext\u001b[0m\u001b[0;34m,\u001b[0m \u001b[0;34m'html.parser'\u001b[0m\u001b[0;34m)\u001b[0m\u001b[0;34m\u001b[0m\u001b[0;34m\u001b[0m\u001b[0m\n\u001b[0m\u001b[1;32m      2\u001b[0m \u001b[0marticle\u001b[0m \u001b[0;34m=\u001b[0m \u001b[0mnews_sp\u001b[0m\u001b[0;34m.\u001b[0m\u001b[0mselect\u001b[0m\u001b[0;34m(\u001b[0m\u001b[0;34m'div#body > div#content > div#article_body'\u001b[0m\u001b[0;34m)\u001b[0m\u001b[0;34m\u001b[0m\u001b[0;34m\u001b[0m\u001b[0m\n\u001b[1;32m      3\u001b[0m \u001b[0mprint\u001b[0m\u001b[0;34m(\u001b[0m\u001b[0marticle\u001b[0m\u001b[0;34m[\u001b[0m\u001b[0;36m0\u001b[0m\u001b[0;34m]\u001b[0m\u001b[0;34m.\u001b[0m\u001b[0mtext\u001b[0m\u001b[0;34m)\u001b[0m\u001b[0;34m\u001b[0m\u001b[0;34m\u001b[0m\u001b[0m\n",
            "\u001b[0;31mNameError\u001b[0m: name 'news_r' is not defined"
          ]
        }
      ],
      "source": [
        "news_sp = BeautifulSoup(news_r.text, 'html.parser')\n",
        "article = news_sp.select('div#body > div#content > div#article_body')\n",
        "print(article[0].text)"
      ]
    },
    {
      "cell_type": "markdown",
      "metadata": {
        "id": "45hckzXw2rFz"
      },
      "source": [
        "# 자동화"
      ]
    },
    {
      "cell_type": "code",
      "execution_count": null,
      "metadata": {
        "id": "TTqZ01FP2rF0"
      },
      "outputs": [],
      "source": [
        "SEARCH_WORD = '금리'\n",
        "START_DATE = '2020.10.01'\n",
        "END_DATE = '2020.10.31'\n",
        "START_DATE_2 = '20201001'\n",
        "END_DATE_2 = '20201031'"
      ]
    },
    {
      "cell_type": "code",
      "execution_count": null,
      "metadata": {
        "id": "BM_V58Mm2rF0",
        "outputId": "2ef225a4-1176-40d1-acc0-a12eb44b054a"
      },
      "outputs": [
        {
          "name": "stdout",
          "output_type": "stream",
          "text": [
            "['\\n  대출받을 때 중요한 건 한도와 금리뿐? 아니요. 상환방식도 있습니다.\\xa0만기일시상환 vs 원리금균등분할상환 vs 원금균등분할상환.\\xa0     \\xa0  [그게머니]Ep.30    상환방식이 중요해봤자 얼마나 중요하겠냐고요?\\xa0모르시는 말씀.\\xa0똑같은 금리로 똑같이 1억을 빌려도 상환방식에 따라 이자가 1500만원 차이 납니다. 예를 들어 설명해드릴게요.     \\xa0     대출원금 1억원, 상환기간 10년, 금리 연 3%로 대출을 받는다고 해봅시다. 상환방식별 총 이자비용은 만기일시상환은 3000만원, 원리금균등분할상환은 1587만원, 원금균등분할상환 시 1513만원으로 계산됩니다. 시간이 지날수록 남는 원금 크기가 달라지기 때문에 이런 차이가 생기는 겁니다.\\xa0     \\xa0     그럼 무조건 이자가 저렴한 원금균등분할상환이 유리한 것 아니냐고요? 꼭 그런 것만은 아니라고\\xa0하는데요. 그게머니가 세가지 상환방식의 특징과 상황별 선택법을 영상으로 알려드릴게요.     \\xa0     기획=금융기획팀, 영상=김재하·김진아     \\xa0  \\n', '\\n  대출받을 때 중요한 건 한도와 금리뿐? 아니요. 상환방식도 있습니다.\\xa0만기일시상환 vs 원리금균등분할상환 vs 원금균등분할상환.\\xa0     \\xa0  [그게머니]Ep.30    상환방식이 중요해봤자 얼마나 중요하겠냐고요?\\xa0모르시는 말씀.\\xa0똑같은 금리로 똑같이 1억을 빌려도 상환방식에 따라 이자가 1500만원 차이 납니다. 예를 들어 설명해드릴게요.     \\xa0     대출원금 1억원, 상환기간 10년, 금리 연 3%로 대출을 받는다고 해봅시다. 상환방식별 총 이자비용은 만기일시상환은 3000만원, 원리금균등분할상환은 1587만원, 원금균등분할상환 시 1513만원으로 계산됩니다. 시간이 지날수록 남는 원금 크기가 달라지기 때문에 이런 차이가 생기는 겁니다.\\xa0     \\xa0     그럼 무조건 이자가 저렴한 원금균등분할상환이 유리한 것 아니냐고요? 꼭 그런 것만은 아니라고\\xa0하는데요. 그게머니가 세가지 상환방식의 특징과 상황별 선택법을 영상으로 알려드릴게요.     \\xa0     기획=금융기획팀, 영상=김재하·김진아     \\xa0  \\n', '\\n  대출받을 때 중요한 건 한도와 금리뿐? 아니요. 상환방식도 있습니다.\\xa0만기일시상환 vs 원리금균등분할상환 vs 원금균등분할상환.\\xa0     \\xa0  [그게머니]Ep.30    상환방식이 중요해봤자 얼마나 중요하겠냐고요?\\xa0모르시는 말씀.\\xa0똑같은 금리로 똑같이 1억을 빌려도 상환방식에 따라 이자가 1500만원 차이 납니다. 예를 들어 설명해드릴게요.     \\xa0     대출원금 1억원, 상환기간 10년, 금리 연 3%로 대출을 받는다고 해봅시다. 상환방식별 총 이자비용은 만기일시상환은 3000만원, 원리금균등분할상환은 1587만원, 원금균등분할상환 시 1513만원으로 계산됩니다. 시간이 지날수록 남는 원금 크기가 달라지기 때문에 이런 차이가 생기는 겁니다.\\xa0     \\xa0     그럼 무조건 이자가 저렴한 원금균등분할상환이 유리한 것 아니냐고요? 꼭 그런 것만은 아니라고\\xa0하는데요. 그게머니가 세가지 상환방식의 특징과 상황별 선택법을 영상으로 알려드릴게요.     \\xa0     기획=금융기획팀, 영상=김재하·김진아     \\xa0  \\n', '\\n  대출받을 때 중요한 건 한도와 금리뿐? 아니요. 상환방식도 있습니다.\\xa0만기일시상환 vs 원리금균등분할상환 vs 원금균등분할상환.\\xa0     \\xa0  [그게머니]Ep.30    상환방식이 중요해봤자 얼마나 중요하겠냐고요?\\xa0모르시는 말씀.\\xa0똑같은 금리로 똑같이 1억을 빌려도 상환방식에 따라 이자가 1500만원 차이 납니다. 예를 들어 설명해드릴게요.     \\xa0     대출원금 1억원, 상환기간 10년, 금리 연 3%로 대출을 받는다고 해봅시다. 상환방식별 총 이자비용은 만기일시상환은 3000만원, 원리금균등분할상환은 1587만원, 원금균등분할상환 시 1513만원으로 계산됩니다. 시간이 지날수록 남는 원금 크기가 달라지기 때문에 이런 차이가 생기는 겁니다.\\xa0     \\xa0     그럼 무조건 이자가 저렴한 원금균등분할상환이 유리한 것 아니냐고요? 꼭 그런 것만은 아니라고\\xa0하는데요. 그게머니가 세가지 상환방식의 특징과 상황별 선택법을 영상으로 알려드릴게요.     \\xa0     기획=금융기획팀, 영상=김재하·김진아     \\xa0  \\n', '\\n  대출받을 때 중요한 건 한도와 금리뿐? 아니요. 상환방식도 있습니다.\\xa0만기일시상환 vs 원리금균등분할상환 vs 원금균등분할상환.\\xa0     \\xa0  [그게머니]Ep.30    상환방식이 중요해봤자 얼마나 중요하겠냐고요?\\xa0모르시는 말씀.\\xa0똑같은 금리로 똑같이 1억을 빌려도 상환방식에 따라 이자가 1500만원 차이 납니다. 예를 들어 설명해드릴게요.     \\xa0     대출원금 1억원, 상환기간 10년, 금리 연 3%로 대출을 받는다고 해봅시다. 상환방식별 총 이자비용은 만기일시상환은 3000만원, 원리금균등분할상환은 1587만원, 원금균등분할상환 시 1513만원으로 계산됩니다. 시간이 지날수록 남는 원금 크기가 달라지기 때문에 이런 차이가 생기는 겁니다.\\xa0     \\xa0     그럼 무조건 이자가 저렴한 원금균등분할상환이 유리한 것 아니냐고요? 꼭 그런 것만은 아니라고\\xa0하는데요. 그게머니가 세가지 상환방식의 특징과 상황별 선택법을 영상으로 알려드릴게요.     \\xa0     기획=금융기획팀, 영상=김재하·김진아     \\xa0  \\n', '\\n  대출받을 때 중요한 건 한도와 금리뿐? 아니요. 상환방식도 있습니다.\\xa0만기일시상환 vs 원리금균등분할상환 vs 원금균등분할상환.\\xa0     \\xa0  [그게머니]Ep.30    상환방식이 중요해봤자 얼마나 중요하겠냐고요?\\xa0모르시는 말씀.\\xa0똑같은 금리로 똑같이 1억을 빌려도 상환방식에 따라 이자가 1500만원 차이 납니다. 예를 들어 설명해드릴게요.     \\xa0     대출원금 1억원, 상환기간 10년, 금리 연 3%로 대출을 받는다고 해봅시다. 상환방식별 총 이자비용은 만기일시상환은 3000만원, 원리금균등분할상환은 1587만원, 원금균등분할상환 시 1513만원으로 계산됩니다. 시간이 지날수록 남는 원금 크기가 달라지기 때문에 이런 차이가 생기는 겁니다.\\xa0     \\xa0     그럼 무조건 이자가 저렴한 원금균등분할상환이 유리한 것 아니냐고요? 꼭 그런 것만은 아니라고\\xa0하는데요. 그게머니가 세가지 상환방식의 특징과 상황별 선택법을 영상으로 알려드릴게요.     \\xa0     기획=금융기획팀, 영상=김재하·김진아     \\xa0  \\n', '\\n  대출받을 때 중요한 건 한도와 금리뿐? 아니요. 상환방식도 있습니다.\\xa0만기일시상환 vs 원리금균등분할상환 vs 원금균등분할상환.\\xa0     \\xa0  [그게머니]Ep.30    상환방식이 중요해봤자 얼마나 중요하겠냐고요?\\xa0모르시는 말씀.\\xa0똑같은 금리로 똑같이 1억을 빌려도 상환방식에 따라 이자가 1500만원 차이 납니다. 예를 들어 설명해드릴게요.     \\xa0     대출원금 1억원, 상환기간 10년, 금리 연 3%로 대출을 받는다고 해봅시다. 상환방식별 총 이자비용은 만기일시상환은 3000만원, 원리금균등분할상환은 1587만원, 원금균등분할상환 시 1513만원으로 계산됩니다. 시간이 지날수록 남는 원금 크기가 달라지기 때문에 이런 차이가 생기는 겁니다.\\xa0     \\xa0     그럼 무조건 이자가 저렴한 원금균등분할상환이 유리한 것 아니냐고요? 꼭 그런 것만은 아니라고\\xa0하는데요. 그게머니가 세가지 상환방식의 특징과 상황별 선택법을 영상으로 알려드릴게요.     \\xa0     기획=금융기획팀, 영상=김재하·김진아     \\xa0  \\n', '\\n  대출받을 때 중요한 건 한도와 금리뿐? 아니요. 상환방식도 있습니다.\\xa0만기일시상환 vs 원리금균등분할상환 vs 원금균등분할상환.\\xa0     \\xa0  [그게머니]Ep.30    상환방식이 중요해봤자 얼마나 중요하겠냐고요?\\xa0모르시는 말씀.\\xa0똑같은 금리로 똑같이 1억을 빌려도 상환방식에 따라 이자가 1500만원 차이 납니다. 예를 들어 설명해드릴게요.     \\xa0     대출원금 1억원, 상환기간 10년, 금리 연 3%로 대출을 받는다고 해봅시다. 상환방식별 총 이자비용은 만기일시상환은 3000만원, 원리금균등분할상환은 1587만원, 원금균등분할상환 시 1513만원으로 계산됩니다. 시간이 지날수록 남는 원금 크기가 달라지기 때문에 이런 차이가 생기는 겁니다.\\xa0     \\xa0     그럼 무조건 이자가 저렴한 원금균등분할상환이 유리한 것 아니냐고요? 꼭 그런 것만은 아니라고\\xa0하는데요. 그게머니가 세가지 상환방식의 특징과 상황별 선택법을 영상으로 알려드릴게요.     \\xa0     기획=금융기획팀, 영상=김재하·김진아     \\xa0  \\n', '\\n  대출받을 때 중요한 건 한도와 금리뿐? 아니요. 상환방식도 있습니다.\\xa0만기일시상환 vs 원리금균등분할상환 vs 원금균등분할상환.\\xa0     \\xa0  [그게머니]Ep.30    상환방식이 중요해봤자 얼마나 중요하겠냐고요?\\xa0모르시는 말씀.\\xa0똑같은 금리로 똑같이 1억을 빌려도 상환방식에 따라 이자가 1500만원 차이 납니다. 예를 들어 설명해드릴게요.     \\xa0     대출원금 1억원, 상환기간 10년, 금리 연 3%로 대출을 받는다고 해봅시다. 상환방식별 총 이자비용은 만기일시상환은 3000만원, 원리금균등분할상환은 1587만원, 원금균등분할상환 시 1513만원으로 계산됩니다. 시간이 지날수록 남는 원금 크기가 달라지기 때문에 이런 차이가 생기는 겁니다.\\xa0     \\xa0     그럼 무조건 이자가 저렴한 원금균등분할상환이 유리한 것 아니냐고요? 꼭 그런 것만은 아니라고\\xa0하는데요. 그게머니가 세가지 상환방식의 특징과 상황별 선택법을 영상으로 알려드릴게요.     \\xa0     기획=금융기획팀, 영상=김재하·김진아     \\xa0  \\n', '\\n  대출받을 때 중요한 건 한도와 금리뿐? 아니요. 상환방식도 있습니다.\\xa0만기일시상환 vs 원리금균등분할상환 vs 원금균등분할상환.\\xa0     \\xa0  [그게머니]Ep.30    상환방식이 중요해봤자 얼마나 중요하겠냐고요?\\xa0모르시는 말씀.\\xa0똑같은 금리로 똑같이 1억을 빌려도 상환방식에 따라 이자가 1500만원 차이 납니다. 예를 들어 설명해드릴게요.     \\xa0     대출원금 1억원, 상환기간 10년, 금리 연 3%로 대출을 받는다고 해봅시다. 상환방식별 총 이자비용은 만기일시상환은 3000만원, 원리금균등분할상환은 1587만원, 원금균등분할상환 시 1513만원으로 계산됩니다. 시간이 지날수록 남는 원금 크기가 달라지기 때문에 이런 차이가 생기는 겁니다.\\xa0     \\xa0     그럼 무조건 이자가 저렴한 원금균등분할상환이 유리한 것 아니냐고요? 꼭 그런 것만은 아니라고\\xa0하는데요. 그게머니가 세가지 상환방식의 특징과 상황별 선택법을 영상으로 알려드릴게요.     \\xa0     기획=금융기획팀, 영상=김재하·김진아     \\xa0  \\n']\n"
          ]
        }
      ],
      "source": [
        "articles = []\n",
        "# 페이지 크롤링\n",
        "for page_number in range(100):\n",
        "    r = requests.get(url_format.format(SEARCH_WORD, START_DATE, END_DATE, START_DATE_2, END_DATE_2, str(page_number*10+1)))\n",
        "    sp = BeautifulSoup(r.text, 'html.parser')\n",
        "    sources = sp.select('div.group_news > ul.list_news > li div.news_area > a')\n",
        "\n",
        "    # 뉴스 기사 크롤링\n",
        "    for source in sources:\n",
        "        news_r = requests.get(sources[0].attrs['href'])\n",
        "        news_sp = BeautifulSoup(news_r.text, 'html.parser')\n",
        "        article = news_sp.select('div#body > div#content > div#article_body')\n",
        "        articles.append(article[0].text)\n",
        "\n",
        "print(articles)"
      ]
    },
    {
      "cell_type": "code",
      "execution_count": 28,
      "metadata": {
        "colab": {
          "base_uri": "https://localhost:8080/",
          "height": 146
        },
        "id": "_H9cwTYL2rF0",
        "outputId": "92c43018-5de9-4250-c1e8-a4ce503fa091"
      },
      "outputs": [
        {
          "output_type": "error",
          "ename": "SyntaxError",
          "evalue": "ignored",
          "traceback": [
            "\u001b[0;36m  File \u001b[0;32m\"<ipython-input-28-ea897c22443f>\"\u001b[0;36m, line \u001b[0;32m1\u001b[0m\n\u001b[0;31m    $git clone https://github.com/chanhee-kang/DBpia_crawler.git\u001b[0m\n\u001b[0m    ^\u001b[0m\n\u001b[0;31mSyntaxError\u001b[0m\u001b[0;31m:\u001b[0m invalid syntax\n"
          ]
        }
      ],
      "source": [
        "$git clone https://github.com/chanhee-kang/DBpia_crawler.git"
      ]
    }
  ],
  "metadata": {
    "kernelspec": {
      "display_name": "Python 3",
      "language": "python",
      "name": "python3"
    },
    "language_info": {
      "codemirror_mode": {
        "name": "ipython",
        "version": 3
      },
      "file_extension": ".py",
      "mimetype": "text/x-python",
      "name": "python",
      "nbconvert_exporter": "python",
      "pygments_lexer": "ipython3",
      "version": "3.7.6"
    },
    "colab": {
      "provenance": [],
      "include_colab_link": true
    }
  },
  "nbformat": 4,
  "nbformat_minor": 0
}