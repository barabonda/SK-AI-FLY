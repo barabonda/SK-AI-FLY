{
  "nbformat": 4,
  "nbformat_minor": 0,
  "metadata": {
    "colab": {
      "provenance": [],
      "include_colab_link": true
    },
    "kernelspec": {
      "name": "python3",
      "display_name": "Python 3"
    },
    "language_info": {
      "name": "python"
    }
  },
  "cells": [
    {
      "cell_type": "markdown",
      "metadata": {
        "id": "view-in-github",
        "colab_type": "text"
      },
      "source": [
        "<a href=\"https://colab.research.google.com/github/barabonda/SK-AI-FLY/blob/main/2%EC%A3%BC%EC%B0%A8/ANN_MNIST.ipynb\" target=\"_parent\"><img src=\"https://colab.research.google.com/assets/colab-badge.svg\" alt=\"Open In Colab\"/></a>"
      ]
    },
    {
      "cell_type": "code",
      "execution_count": 2,
      "metadata": {
        "colab": {
          "base_uri": "https://localhost:8080/"
        },
        "id": "trzQ3Kp72CWK",
        "outputId": "21fa9ad2-d7a4-4b3f-e59b-27d9c691ebc8"
      },
      "outputs": [
        {
          "output_type": "stream",
          "name": "stdout",
          "text": [
            "Epoch 1/5\n",
            "1563/1563 [==============================] - 15s 9ms/step - loss: 1.8931 - accuracy: 0.3248\n",
            "Epoch 2/5\n",
            "1563/1563 [==============================] - 15s 10ms/step - loss: 1.7016 - accuracy: 0.3912\n",
            "Epoch 3/5\n",
            "1563/1563 [==============================] - 15s 9ms/step - loss: 1.6317 - accuracy: 0.4203\n",
            "Epoch 4/5\n",
            "1563/1563 [==============================] - 15s 9ms/step - loss: 1.5818 - accuracy: 0.4364\n",
            "Epoch 5/5\n",
            "1563/1563 [==============================] - 15s 10ms/step - loss: 1.5541 - accuracy: 0.4481\n",
            "313/313 [==============================] - 1s 3ms/step - loss: 1.5555 - accuracy: 0.4477\n",
            "테스트 정확도: 0.44769999384880066\n"
          ]
        }
      ],
      "source": [
        "import numpy as np\n",
        "# 숫자 -> One-hot Vector 를 위한 라이브러리\n",
        "from keras.utils import to_categorical\n",
        "# CIFAR-10 Dataset을 가져오기 위한 라이브러리\n",
        "from keras.datasets import cifar10\n",
        "# 순차적인 모델을 만들기 위한 Sequential 함수\n",
        "from keras.models import Sequential\n",
        "# 필요한 층들을 가지고 있는 layers 라이브러리\n",
        "from keras.layers import Dense, Activation\n",
        "from keras.layers import Conv2D, MaxPooling2D, Flatten\n",
        "# Google Colab에서 이미지를 보기 위한 cv2_imshow 함수\n",
        "from google.colab.patches import cv2_imshow\n",
        "import tensorflow as tf\n",
        "\n",
        "# 1. MNIST 데이터셋 임포트\n",
        "cifar10 = tf.keras.datasets.cifar10\n",
        "(x_train, y_train), (x_test, y_test) = cifar10.load_data()\n",
        "\n",
        "# 2. 데이터 전처리\n",
        "x_train, x_test = x_train/255.0, x_test/255.0\n",
        "\n",
        "# 3. 모델 구성\n",
        "model = tf.keras.models.Sequential([\n",
        "    tf.keras.layers.Flatten(input_shape=(32, 32, 3)),\n",
        "    tf.keras.layers.Dense(512, activation=tf.nn.relu),\n",
        "    tf.keras.layers.Dense(10, activation=tf.nn.softmax)\n",
        "])\n",
        "\n",
        "# 4. 모델 컴파일\n",
        "model.compile(optimizer='adam',\n",
        "              loss='sparse_categorical_crossentropy',\n",
        "              metrics=['accuracy'])\n",
        "\n",
        "# 5. 모델 훈련\n",
        "model.fit(x_train, y_train, epochs=5)\n",
        "\n",
        "# 6. 정확도 평가\n",
        "test_loss, test_acc = model.evaluate(x_test, y_test)\n",
        "print('테스트 정확도:', test_acc)"
      ]
    },
    {
      "cell_type": "code",
      "source": [],
      "metadata": {
        "id": "L-Qf41LC2DA2"
      },
      "execution_count": null,
      "outputs": []
    }
  ]
}